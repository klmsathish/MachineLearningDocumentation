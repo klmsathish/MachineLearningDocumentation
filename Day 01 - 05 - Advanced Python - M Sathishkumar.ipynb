{
 "cells": [
  {
   "cell_type": "markdown",
   "metadata": {},
   "source": [
    "\n",
    "<h1><center><font color='red'>ADVANCED PYTHON WITH DATA SCIENCE</center></h1>\n"
   ]
  },
  {
   "cell_type": "markdown",
   "metadata": {},
   "source": [
    "<font style = \"Comic Sans MS\" color='BROWN'><font size=\"6\"> DATA SCIENCE:</font>\n",
    "                     \n",
    "<font color='blue'><font size=\"4\"> Data science is the field of study that combines domain expertise, programming skills, and knowledge of mathematics and statistics to extract meaningful insights from data. Data science practitioners apply machine learning algorithms to numbers, text, images, video, audio, and more to produce <font color='GREEN'><b>Artificial Intelligence (AI)</b></font> systems to perform tasks that ordinarily require human intelligence.</font>\n"
   ]
  },
  {
   "cell_type": "markdown",
   "metadata": {},
   "source": [
    "<font color='BROWN'><font size=\"6\"> DATA ANALYTICS:</font>\n",
    "    \n",
    "<font color='blue'><font size=\"4\">Data analytics (DA) is the process of examining data sets in order to draw conclusions about the information they contain, increasingly with the aid of specialized systems and software. Data is extracted and categorized to identify, analyze behavioral data and patterns.</font>\n",
    "\n"
   ]
  },
  {
   "cell_type": "markdown",
   "metadata": {},
   "source": [
    "<font color='BROWN'><font size=\"6\"> DATASETS:</font>\n",
    "    \n",
    "<font color='blue'><font size=\"4\">A data set is a collection of data. In the case of tabular data, a data set corresponds to one or more database tables, where every column of a table represents a particular variable, and each row corresponds to a given record of the data set </font>\n"
   ]
  },
  {
   "cell_type": "markdown",
   "metadata": {},
   "source": [
    "#                                     READING A CSV FILE "
   ]
  },
  {
   "cell_type": "code",
   "execution_count": 1,
   "metadata": {},
   "outputs": [],
   "source": [
    "# Importing Required Packages for DATA VISUALISATION\n",
    "import pandas as pd                 \n",
    "import numpy as np\n",
    "import seaborn as sb\n",
    "import matplotlib.pyplot as pyp\n",
    "from sklearn import preprocessing"
   ]
  },
  {
   "cell_type": "markdown",
   "metadata": {},
   "source": [
    "\n",
    "## <font size = 5 face=\"verdana\" color=\"Red\">Pandas\n",
    "\n",
    "<p align=\"justify\"><font size = 3 face=\"verdana\" color=\"Blue\">Pandas is a Python library providing high-performance, easy-to-use data structures and data analysis tools. Python with Pandas is used in a wide range of fields including academic and commercial domains including finance, economics, Statistics, analytics, etc.\n",
    "The two primary data structures of pandas, Series (1-dimensional) and DataFrame (2-dimensional), handle the vast majority of typical use cases in finance, statistics, social science, and many areas of engineering. \n",
    "pandas is well suited for many different kinds of data: </font></p>\n",
    "<br>\n",
    "<font size = 3 face=\"tahoma\" color=\"Blue\">\n",
    "    <ul>\n",
    "        <li>Tabular data with heterogeneously-typed columns, as in an SQL table or Excel spread sheet</li>\n",
    "        <li>Ordered and unordered (not necessarily fixed-frequency) time series data.</li>\n",
    "        <li>Arbitrary matrix data (homogeneously typed or heterogeneous) with row and column labels</li>\n",
    "        <li>Any other form of observational / statistical data sets. The data actually need not be labelled at all to be placed into a pandas data structure</li> </ul> </font>\n",
    "\n"
   ]
  },
  {
   "cell_type": "markdown",
   "metadata": {},
   "source": [
    "## Reading A DataSet"
   ]
  },
  {
   "cell_type": "code",
   "execution_count": 2,
   "metadata": {},
   "outputs": [],
   "source": [
    "#Reading a csv file\n",
    "mob_data = pd.read_csv(\"Mobile_Data.csv\")"
   ]
  },
  {
   "cell_type": "code",
   "execution_count": 3,
   "metadata": {},
   "outputs": [
    {
     "data": {
      "text/html": [
       "<div>\n",
       "<style scoped>\n",
       "    .dataframe tbody tr th:only-of-type {\n",
       "        vertical-align: middle;\n",
       "    }\n",
       "\n",
       "    .dataframe tbody tr th {\n",
       "        vertical-align: top;\n",
       "    }\n",
       "\n",
       "    .dataframe thead th {\n",
       "        text-align: right;\n",
       "    }\n",
       "</style>\n",
       "<table border=\"1\" class=\"dataframe\">\n",
       "  <thead>\n",
       "    <tr style=\"text-align: right;\">\n",
       "      <th></th>\n",
       "      <th>PhoneId</th>\n",
       "      <th>Pixel Density</th>\n",
       "      <th>Screen Size</th>\n",
       "      <th>Weight</th>\n",
       "      <th>RAM</th>\n",
       "      <th>Processor_frequency</th>\n",
       "      <th>Screen to Body Ratio (calculated)</th>\n",
       "      <th>Height</th>\n",
       "      <th>Internal Memory</th>\n",
       "      <th>Capacity</th>\n",
       "      <th>Resolution</th>\n",
       "      <th>Rating</th>\n",
       "      <th>Brand</th>\n",
       "      <th>OS Name</th>\n",
       "      <th>Sim 1</th>\n",
       "      <th>Sim 2</th>\n",
       "      <th>SIM Slot</th>\n",
       "      <th>Processesor</th>\n",
       "    </tr>\n",
       "  </thead>\n",
       "  <tbody>\n",
       "    <tr>\n",
       "      <th>0</th>\n",
       "      <td>0</td>\n",
       "      <td>403</td>\n",
       "      <td>6.26</td>\n",
       "      <td>182</td>\n",
       "      <td>4</td>\n",
       "      <td>1.8</td>\n",
       "      <td>80.68</td>\n",
       "      <td>157.9</td>\n",
       "      <td>64</td>\n",
       "      <td>4000</td>\n",
       "      <td>20</td>\n",
       "      <td>4.5</td>\n",
       "      <td>Xiaomi</td>\n",
       "      <td>Android</td>\n",
       "      <td>4G</td>\n",
       "      <td>4G</td>\n",
       "      <td>Dual SIM, GSM+GSM, Dual VoLTE</td>\n",
       "      <td>Octa</td>\n",
       "    </tr>\n",
       "    <tr>\n",
       "      <th>1</th>\n",
       "      <td>1</td>\n",
       "      <td>271</td>\n",
       "      <td>6.20</td>\n",
       "      <td>168</td>\n",
       "      <td>3</td>\n",
       "      <td>1.8</td>\n",
       "      <td>80.85</td>\n",
       "      <td>156.2</td>\n",
       "      <td>32</td>\n",
       "      <td>4230</td>\n",
       "      <td>8</td>\n",
       "      <td>4.5</td>\n",
       "      <td>Realme</td>\n",
       "      <td>Android</td>\n",
       "      <td>4G</td>\n",
       "      <td>4G</td>\n",
       "      <td>Dual SIM, GSM+GSM, Dual VoLTE</td>\n",
       "      <td>Octa</td>\n",
       "    </tr>\n",
       "    <tr>\n",
       "      <th>2</th>\n",
       "      <td>2</td>\n",
       "      <td>409</td>\n",
       "      <td>6.30</td>\n",
       "      <td>168</td>\n",
       "      <td>3</td>\n",
       "      <td>2.1</td>\n",
       "      <td>83.68</td>\n",
       "      <td>157.0</td>\n",
       "      <td>32</td>\n",
       "      <td>3500</td>\n",
       "      <td>25</td>\n",
       "      <td>4.4</td>\n",
       "      <td>Realme</td>\n",
       "      <td>Android</td>\n",
       "      <td>4G</td>\n",
       "      <td>4G</td>\n",
       "      <td>Dual SIM, GSM+GSM, Dual VoLTE</td>\n",
       "      <td>Octa</td>\n",
       "    </tr>\n",
       "    <tr>\n",
       "      <th>3</th>\n",
       "      <td>4</td>\n",
       "      <td>411</td>\n",
       "      <td>6.00</td>\n",
       "      <td>169</td>\n",
       "      <td>4</td>\n",
       "      <td>2.2</td>\n",
       "      <td>74.78</td>\n",
       "      <td>159.8</td>\n",
       "      <td>64</td>\n",
       "      <td>3300</td>\n",
       "      <td>24</td>\n",
       "      <td>4.3</td>\n",
       "      <td>Samsung</td>\n",
       "      <td>Android</td>\n",
       "      <td>4G</td>\n",
       "      <td>4G</td>\n",
       "      <td>Dual SIM, GSM+GSM</td>\n",
       "      <td>Octa</td>\n",
       "    </tr>\n",
       "    <tr>\n",
       "      <th>4</th>\n",
       "      <td>5</td>\n",
       "      <td>396</td>\n",
       "      <td>6.50</td>\n",
       "      <td>175</td>\n",
       "      <td>4</td>\n",
       "      <td>2.2</td>\n",
       "      <td>84.23</td>\n",
       "      <td>160.4</td>\n",
       "      <td>64</td>\n",
       "      <td>3750</td>\n",
       "      <td>16</td>\n",
       "      <td>4.4</td>\n",
       "      <td>Honor</td>\n",
       "      <td>Android</td>\n",
       "      <td>4G</td>\n",
       "      <td>4G</td>\n",
       "      <td>Dual SIM, GSM+GSM, Dual VoLTE</td>\n",
       "      <td>Octa</td>\n",
       "    </tr>\n",
       "  </tbody>\n",
       "</table>\n",
       "</div>"
      ],
      "text/plain": [
       "   PhoneId  Pixel Density  Screen Size  Weight  RAM  Processor_frequency  \\\n",
       "0        0            403         6.26     182    4                  1.8   \n",
       "1        1            271         6.20     168    3                  1.8   \n",
       "2        2            409         6.30     168    3                  2.1   \n",
       "3        4            411         6.00     169    4                  2.2   \n",
       "4        5            396         6.50     175    4                  2.2   \n",
       "\n",
       "   Screen to Body Ratio (calculated)  Height  Internal Memory  Capacity  \\\n",
       "0                              80.68   157.9               64      4000   \n",
       "1                              80.85   156.2               32      4230   \n",
       "2                              83.68   157.0               32      3500   \n",
       "3                              74.78   159.8               64      3300   \n",
       "4                              84.23   160.4               64      3750   \n",
       "\n",
       "   Resolution  Rating    Brand  OS Name Sim 1 Sim 2  \\\n",
       "0          20     4.5   Xiaomi  Android    4G    4G   \n",
       "1           8     4.5   Realme  Android    4G    4G   \n",
       "2          25     4.4   Realme  Android    4G    4G   \n",
       "3          24     4.3  Samsung  Android    4G    4G   \n",
       "4          16     4.4    Honor  Android    4G    4G   \n",
       "\n",
       "                        SIM Slot Processesor  \n",
       "0  Dual SIM, GSM+GSM, Dual VoLTE        Octa  \n",
       "1  Dual SIM, GSM+GSM, Dual VoLTE        Octa  \n",
       "2  Dual SIM, GSM+GSM, Dual VoLTE        Octa  \n",
       "3              Dual SIM, GSM+GSM        Octa  \n",
       "4  Dual SIM, GSM+GSM, Dual VoLTE        Octa  "
      ]
     },
     "execution_count": 3,
     "metadata": {},
     "output_type": "execute_result"
    }
   ],
   "source": [
    "#Visualising our data\n",
    "mob_data.head(5)"
   ]
  },
  {
   "cell_type": "code",
   "execution_count": 4,
   "metadata": {},
   "outputs": [],
   "source": [
    "#\"ONE HOT ENCODING\" for Brand Names\n",
    "mob_data_brand_names_encoded = pd.get_dummies(mob_data,prefix=[\"Brand\"],columns = [\"Brand\"])"
   ]
  },
  {
   "cell_type": "markdown",
   "metadata": {},
   "source": [
    "## <font size = 5 face=\"verdana\" color=\"Red\">One Hot Encoding of datasets in Python\n",
    "<p align=\"justify\"><font size = 3 face=\"verdana\" color=\"Blue\">Sometimes in datasets, we encounter columns that contain numbers / labels of no specific order of preference. The data in the column usually denotes a category or value of the category. This confuses the machine learning model, to avoid this, the data in the column should be One Hot encoded.</font></p>\n",
    "    \n",
    "#### One Hot Encoding \n",
    "<p align=\"justify\"><font size = 3 face=\"verdana\" color=\"Blue\">It refers to splitting the column which contains categorical data to many columns depending on the number of categories present in that column. Each column contains “0” or “1” corresponding to which column it has been placed.</font></p>\n"
   ]
  },
  {
   "cell_type": "code",
   "execution_count": 5,
   "metadata": {},
   "outputs": [
    {
     "data": {
      "text/html": [
       "<div>\n",
       "<style scoped>\n",
       "    .dataframe tbody tr th:only-of-type {\n",
       "        vertical-align: middle;\n",
       "    }\n",
       "\n",
       "    .dataframe tbody tr th {\n",
       "        vertical-align: top;\n",
       "    }\n",
       "\n",
       "    .dataframe thead th {\n",
       "        text-align: right;\n",
       "    }\n",
       "</style>\n",
       "<table border=\"1\" class=\"dataframe\">\n",
       "  <thead>\n",
       "    <tr style=\"text-align: right;\">\n",
       "      <th></th>\n",
       "      <th>PhoneId</th>\n",
       "      <th>Pixel Density</th>\n",
       "      <th>Screen Size</th>\n",
       "      <th>Weight</th>\n",
       "      <th>RAM</th>\n",
       "      <th>Processor_frequency</th>\n",
       "      <th>Screen to Body Ratio (calculated)</th>\n",
       "      <th>Height</th>\n",
       "      <th>Internal Memory</th>\n",
       "      <th>Capacity</th>\n",
       "      <th>...</th>\n",
       "      <th>Brand_Samsung</th>\n",
       "      <th>Brand_Sony</th>\n",
       "      <th>Brand_Tecno</th>\n",
       "      <th>Brand_Ulefone</th>\n",
       "      <th>Brand_VOTO</th>\n",
       "      <th>Brand_Vivo</th>\n",
       "      <th>Brand_Xiaomi</th>\n",
       "      <th>Brand_Xiaomi Poco</th>\n",
       "      <th>Brand_Yu</th>\n",
       "      <th>Brand_iVooMi</th>\n",
       "    </tr>\n",
       "  </thead>\n",
       "  <tbody>\n",
       "    <tr>\n",
       "      <th>0</th>\n",
       "      <td>0</td>\n",
       "      <td>403</td>\n",
       "      <td>6.26</td>\n",
       "      <td>182</td>\n",
       "      <td>4</td>\n",
       "      <td>1.8</td>\n",
       "      <td>80.68</td>\n",
       "      <td>157.9</td>\n",
       "      <td>64</td>\n",
       "      <td>4000</td>\n",
       "      <td>...</td>\n",
       "      <td>0</td>\n",
       "      <td>0</td>\n",
       "      <td>0</td>\n",
       "      <td>0</td>\n",
       "      <td>0</td>\n",
       "      <td>0</td>\n",
       "      <td>1</td>\n",
       "      <td>0</td>\n",
       "      <td>0</td>\n",
       "      <td>0</td>\n",
       "    </tr>\n",
       "    <tr>\n",
       "      <th>1</th>\n",
       "      <td>1</td>\n",
       "      <td>271</td>\n",
       "      <td>6.20</td>\n",
       "      <td>168</td>\n",
       "      <td>3</td>\n",
       "      <td>1.8</td>\n",
       "      <td>80.85</td>\n",
       "      <td>156.2</td>\n",
       "      <td>32</td>\n",
       "      <td>4230</td>\n",
       "      <td>...</td>\n",
       "      <td>0</td>\n",
       "      <td>0</td>\n",
       "      <td>0</td>\n",
       "      <td>0</td>\n",
       "      <td>0</td>\n",
       "      <td>0</td>\n",
       "      <td>0</td>\n",
       "      <td>0</td>\n",
       "      <td>0</td>\n",
       "      <td>0</td>\n",
       "    </tr>\n",
       "    <tr>\n",
       "      <th>2</th>\n",
       "      <td>2</td>\n",
       "      <td>409</td>\n",
       "      <td>6.30</td>\n",
       "      <td>168</td>\n",
       "      <td>3</td>\n",
       "      <td>2.1</td>\n",
       "      <td>83.68</td>\n",
       "      <td>157.0</td>\n",
       "      <td>32</td>\n",
       "      <td>3500</td>\n",
       "      <td>...</td>\n",
       "      <td>0</td>\n",
       "      <td>0</td>\n",
       "      <td>0</td>\n",
       "      <td>0</td>\n",
       "      <td>0</td>\n",
       "      <td>0</td>\n",
       "      <td>0</td>\n",
       "      <td>0</td>\n",
       "      <td>0</td>\n",
       "      <td>0</td>\n",
       "    </tr>\n",
       "    <tr>\n",
       "      <th>3</th>\n",
       "      <td>4</td>\n",
       "      <td>411</td>\n",
       "      <td>6.00</td>\n",
       "      <td>169</td>\n",
       "      <td>4</td>\n",
       "      <td>2.2</td>\n",
       "      <td>74.78</td>\n",
       "      <td>159.8</td>\n",
       "      <td>64</td>\n",
       "      <td>3300</td>\n",
       "      <td>...</td>\n",
       "      <td>1</td>\n",
       "      <td>0</td>\n",
       "      <td>0</td>\n",
       "      <td>0</td>\n",
       "      <td>0</td>\n",
       "      <td>0</td>\n",
       "      <td>0</td>\n",
       "      <td>0</td>\n",
       "      <td>0</td>\n",
       "      <td>0</td>\n",
       "    </tr>\n",
       "    <tr>\n",
       "      <th>4</th>\n",
       "      <td>5</td>\n",
       "      <td>396</td>\n",
       "      <td>6.50</td>\n",
       "      <td>175</td>\n",
       "      <td>4</td>\n",
       "      <td>2.2</td>\n",
       "      <td>84.23</td>\n",
       "      <td>160.4</td>\n",
       "      <td>64</td>\n",
       "      <td>3750</td>\n",
       "      <td>...</td>\n",
       "      <td>0</td>\n",
       "      <td>0</td>\n",
       "      <td>0</td>\n",
       "      <td>0</td>\n",
       "      <td>0</td>\n",
       "      <td>0</td>\n",
       "      <td>0</td>\n",
       "      <td>0</td>\n",
       "      <td>0</td>\n",
       "      <td>0</td>\n",
       "    </tr>\n",
       "  </tbody>\n",
       "</table>\n",
       "<p>5 rows × 64 columns</p>\n",
       "</div>"
      ],
      "text/plain": [
       "   PhoneId  Pixel Density  Screen Size  Weight  RAM  Processor_frequency  \\\n",
       "0        0            403         6.26     182    4                  1.8   \n",
       "1        1            271         6.20     168    3                  1.8   \n",
       "2        2            409         6.30     168    3                  2.1   \n",
       "3        4            411         6.00     169    4                  2.2   \n",
       "4        5            396         6.50     175    4                  2.2   \n",
       "\n",
       "   Screen to Body Ratio (calculated)  Height  Internal Memory  Capacity  ...  \\\n",
       "0                              80.68   157.9               64      4000  ...   \n",
       "1                              80.85   156.2               32      4230  ...   \n",
       "2                              83.68   157.0               32      3500  ...   \n",
       "3                              74.78   159.8               64      3300  ...   \n",
       "4                              84.23   160.4               64      3750  ...   \n",
       "\n",
       "   Brand_Samsung  Brand_Sony Brand_Tecno Brand_Ulefone Brand_VOTO Brand_Vivo  \\\n",
       "0              0           0           0             0          0          0   \n",
       "1              0           0           0             0          0          0   \n",
       "2              0           0           0             0          0          0   \n",
       "3              1           0           0             0          0          0   \n",
       "4              0           0           0             0          0          0   \n",
       "\n",
       "  Brand_Xiaomi  Brand_Xiaomi Poco  Brand_Yu  Brand_iVooMi  \n",
       "0            1                  0         0             0  \n",
       "1            0                  0         0             0  \n",
       "2            0                  0         0             0  \n",
       "3            0                  0         0             0  \n",
       "4            0                  0         0             0  \n",
       "\n",
       "[5 rows x 64 columns]"
      ]
     },
     "execution_count": 5,
     "metadata": {},
     "output_type": "execute_result"
    }
   ],
   "source": [
    "mob_data_brand_names_encoded.head()"
   ]
  },
  {
   "cell_type": "code",
   "execution_count": 6,
   "metadata": {},
   "outputs": [],
   "source": [
    "#\"ONE HOT ENCODING\" for OS Names\n",
    "mob_data_os_names_encoded = pd.get_dummies(mob_data_brand_names_encoded,prefix=[\"OS\"],columns = [\"OS Name\"])"
   ]
  },
  {
   "cell_type": "code",
   "execution_count": 7,
   "metadata": {},
   "outputs": [
    {
     "data": {
      "text/html": [
       "<div>\n",
       "<style scoped>\n",
       "    .dataframe tbody tr th:only-of-type {\n",
       "        vertical-align: middle;\n",
       "    }\n",
       "\n",
       "    .dataframe tbody tr th {\n",
       "        vertical-align: top;\n",
       "    }\n",
       "\n",
       "    .dataframe thead th {\n",
       "        text-align: right;\n",
       "    }\n",
       "</style>\n",
       "<table border=\"1\" class=\"dataframe\">\n",
       "  <thead>\n",
       "    <tr style=\"text-align: right;\">\n",
       "      <th></th>\n",
       "      <th>PhoneId</th>\n",
       "      <th>Pixel Density</th>\n",
       "      <th>Screen Size</th>\n",
       "      <th>Weight</th>\n",
       "      <th>RAM</th>\n",
       "      <th>Processor_frequency</th>\n",
       "      <th>Screen to Body Ratio (calculated)</th>\n",
       "      <th>Height</th>\n",
       "      <th>Internal Memory</th>\n",
       "      <th>Capacity</th>\n",
       "      <th>...</th>\n",
       "      <th>Brand_Xiaomi Poco</th>\n",
       "      <th>Brand_Yu</th>\n",
       "      <th>Brand_iVooMi</th>\n",
       "      <th>OS_Android</th>\n",
       "      <th>OS_Blackberry</th>\n",
       "      <th>OS_KAI</th>\n",
       "      <th>OS_Nokia</th>\n",
       "      <th>OS_Other</th>\n",
       "      <th>OS_Tizen</th>\n",
       "      <th>OS_iOS</th>\n",
       "    </tr>\n",
       "  </thead>\n",
       "  <tbody>\n",
       "    <tr>\n",
       "      <th>0</th>\n",
       "      <td>0</td>\n",
       "      <td>403</td>\n",
       "      <td>6.26</td>\n",
       "      <td>182</td>\n",
       "      <td>4</td>\n",
       "      <td>1.8</td>\n",
       "      <td>80.68</td>\n",
       "      <td>157.9</td>\n",
       "      <td>64</td>\n",
       "      <td>4000</td>\n",
       "      <td>...</td>\n",
       "      <td>0</td>\n",
       "      <td>0</td>\n",
       "      <td>0</td>\n",
       "      <td>1</td>\n",
       "      <td>0</td>\n",
       "      <td>0</td>\n",
       "      <td>0</td>\n",
       "      <td>0</td>\n",
       "      <td>0</td>\n",
       "      <td>0</td>\n",
       "    </tr>\n",
       "    <tr>\n",
       "      <th>1</th>\n",
       "      <td>1</td>\n",
       "      <td>271</td>\n",
       "      <td>6.20</td>\n",
       "      <td>168</td>\n",
       "      <td>3</td>\n",
       "      <td>1.8</td>\n",
       "      <td>80.85</td>\n",
       "      <td>156.2</td>\n",
       "      <td>32</td>\n",
       "      <td>4230</td>\n",
       "      <td>...</td>\n",
       "      <td>0</td>\n",
       "      <td>0</td>\n",
       "      <td>0</td>\n",
       "      <td>1</td>\n",
       "      <td>0</td>\n",
       "      <td>0</td>\n",
       "      <td>0</td>\n",
       "      <td>0</td>\n",
       "      <td>0</td>\n",
       "      <td>0</td>\n",
       "    </tr>\n",
       "    <tr>\n",
       "      <th>2</th>\n",
       "      <td>2</td>\n",
       "      <td>409</td>\n",
       "      <td>6.30</td>\n",
       "      <td>168</td>\n",
       "      <td>3</td>\n",
       "      <td>2.1</td>\n",
       "      <td>83.68</td>\n",
       "      <td>157.0</td>\n",
       "      <td>32</td>\n",
       "      <td>3500</td>\n",
       "      <td>...</td>\n",
       "      <td>0</td>\n",
       "      <td>0</td>\n",
       "      <td>0</td>\n",
       "      <td>1</td>\n",
       "      <td>0</td>\n",
       "      <td>0</td>\n",
       "      <td>0</td>\n",
       "      <td>0</td>\n",
       "      <td>0</td>\n",
       "      <td>0</td>\n",
       "    </tr>\n",
       "    <tr>\n",
       "      <th>3</th>\n",
       "      <td>4</td>\n",
       "      <td>411</td>\n",
       "      <td>6.00</td>\n",
       "      <td>169</td>\n",
       "      <td>4</td>\n",
       "      <td>2.2</td>\n",
       "      <td>74.78</td>\n",
       "      <td>159.8</td>\n",
       "      <td>64</td>\n",
       "      <td>3300</td>\n",
       "      <td>...</td>\n",
       "      <td>0</td>\n",
       "      <td>0</td>\n",
       "      <td>0</td>\n",
       "      <td>1</td>\n",
       "      <td>0</td>\n",
       "      <td>0</td>\n",
       "      <td>0</td>\n",
       "      <td>0</td>\n",
       "      <td>0</td>\n",
       "      <td>0</td>\n",
       "    </tr>\n",
       "    <tr>\n",
       "      <th>4</th>\n",
       "      <td>5</td>\n",
       "      <td>396</td>\n",
       "      <td>6.50</td>\n",
       "      <td>175</td>\n",
       "      <td>4</td>\n",
       "      <td>2.2</td>\n",
       "      <td>84.23</td>\n",
       "      <td>160.4</td>\n",
       "      <td>64</td>\n",
       "      <td>3750</td>\n",
       "      <td>...</td>\n",
       "      <td>0</td>\n",
       "      <td>0</td>\n",
       "      <td>0</td>\n",
       "      <td>1</td>\n",
       "      <td>0</td>\n",
       "      <td>0</td>\n",
       "      <td>0</td>\n",
       "      <td>0</td>\n",
       "      <td>0</td>\n",
       "      <td>0</td>\n",
       "    </tr>\n",
       "  </tbody>\n",
       "</table>\n",
       "<p>5 rows × 70 columns</p>\n",
       "</div>"
      ],
      "text/plain": [
       "   PhoneId  Pixel Density  Screen Size  Weight  RAM  Processor_frequency  \\\n",
       "0        0            403         6.26     182    4                  1.8   \n",
       "1        1            271         6.20     168    3                  1.8   \n",
       "2        2            409         6.30     168    3                  2.1   \n",
       "3        4            411         6.00     169    4                  2.2   \n",
       "4        5            396         6.50     175    4                  2.2   \n",
       "\n",
       "   Screen to Body Ratio (calculated)  Height  Internal Memory  Capacity  ...  \\\n",
       "0                              80.68   157.9               64      4000  ...   \n",
       "1                              80.85   156.2               32      4230  ...   \n",
       "2                              83.68   157.0               32      3500  ...   \n",
       "3                              74.78   159.8               64      3300  ...   \n",
       "4                              84.23   160.4               64      3750  ...   \n",
       "\n",
       "   Brand_Xiaomi Poco  Brand_Yu Brand_iVooMi OS_Android OS_Blackberry OS_KAI  \\\n",
       "0                  0         0            0          1             0      0   \n",
       "1                  0         0            0          1             0      0   \n",
       "2                  0         0            0          1             0      0   \n",
       "3                  0         0            0          1             0      0   \n",
       "4                  0         0            0          1             0      0   \n",
       "\n",
       "   OS_Nokia  OS_Other  OS_Tizen  OS_iOS  \n",
       "0         0         0         0       0  \n",
       "1         0         0         0       0  \n",
       "2         0         0         0       0  \n",
       "3         0         0         0       0  \n",
       "4         0         0         0       0  \n",
       "\n",
       "[5 rows x 70 columns]"
      ]
     },
     "execution_count": 7,
     "metadata": {},
     "output_type": "execute_result"
    }
   ],
   "source": [
    "mob_data_os_names_encoded.head()"
   ]
  },
  {
   "cell_type": "code",
   "execution_count": 8,
   "metadata": {},
   "outputs": [],
   "source": [
    "#\"ONE HOT ENCODING\" for SIM1 and SIM2 \n",
    "mob_data_sim1_encoded = pd.get_dummies(mob_data_os_names_encoded,prefix=[\"SIM1\"],columns = [\"Sim 1\"])\n",
    "mob_data_sim2_encoded = pd.get_dummies(mob_data_sim1_encoded,prefix=[\"SIM2\"],columns = [\"Sim 2\"])\n"
   ]
  },
  {
   "cell_type": "code",
   "execution_count": 9,
   "metadata": {},
   "outputs": [
    {
     "data": {
      "text/html": [
       "<div>\n",
       "<style scoped>\n",
       "    .dataframe tbody tr th:only-of-type {\n",
       "        vertical-align: middle;\n",
       "    }\n",
       "\n",
       "    .dataframe tbody tr th {\n",
       "        vertical-align: top;\n",
       "    }\n",
       "\n",
       "    .dataframe thead th {\n",
       "        text-align: right;\n",
       "    }\n",
       "</style>\n",
       "<table border=\"1\" class=\"dataframe\">\n",
       "  <thead>\n",
       "    <tr style=\"text-align: right;\">\n",
       "      <th></th>\n",
       "      <th>PhoneId</th>\n",
       "      <th>Pixel Density</th>\n",
       "      <th>Screen Size</th>\n",
       "      <th>Weight</th>\n",
       "      <th>RAM</th>\n",
       "      <th>Processor_frequency</th>\n",
       "      <th>Screen to Body Ratio (calculated)</th>\n",
       "      <th>Height</th>\n",
       "      <th>Internal Memory</th>\n",
       "      <th>Capacity</th>\n",
       "      <th>...</th>\n",
       "      <th>OS_Other</th>\n",
       "      <th>OS_Tizen</th>\n",
       "      <th>OS_iOS</th>\n",
       "      <th>SIM1_2G</th>\n",
       "      <th>SIM1_3G</th>\n",
       "      <th>SIM1_4G</th>\n",
       "      <th>SIM2_2G</th>\n",
       "      <th>SIM2_3G</th>\n",
       "      <th>SIM2_4G</th>\n",
       "      <th>SIM2_Other</th>\n",
       "    </tr>\n",
       "  </thead>\n",
       "  <tbody>\n",
       "    <tr>\n",
       "      <th>0</th>\n",
       "      <td>0</td>\n",
       "      <td>403</td>\n",
       "      <td>6.26</td>\n",
       "      <td>182</td>\n",
       "      <td>4</td>\n",
       "      <td>1.8</td>\n",
       "      <td>80.68</td>\n",
       "      <td>157.9</td>\n",
       "      <td>64</td>\n",
       "      <td>4000</td>\n",
       "      <td>...</td>\n",
       "      <td>0</td>\n",
       "      <td>0</td>\n",
       "      <td>0</td>\n",
       "      <td>0</td>\n",
       "      <td>0</td>\n",
       "      <td>1</td>\n",
       "      <td>0</td>\n",
       "      <td>0</td>\n",
       "      <td>1</td>\n",
       "      <td>0</td>\n",
       "    </tr>\n",
       "    <tr>\n",
       "      <th>1</th>\n",
       "      <td>1</td>\n",
       "      <td>271</td>\n",
       "      <td>6.20</td>\n",
       "      <td>168</td>\n",
       "      <td>3</td>\n",
       "      <td>1.8</td>\n",
       "      <td>80.85</td>\n",
       "      <td>156.2</td>\n",
       "      <td>32</td>\n",
       "      <td>4230</td>\n",
       "      <td>...</td>\n",
       "      <td>0</td>\n",
       "      <td>0</td>\n",
       "      <td>0</td>\n",
       "      <td>0</td>\n",
       "      <td>0</td>\n",
       "      <td>1</td>\n",
       "      <td>0</td>\n",
       "      <td>0</td>\n",
       "      <td>1</td>\n",
       "      <td>0</td>\n",
       "    </tr>\n",
       "    <tr>\n",
       "      <th>2</th>\n",
       "      <td>2</td>\n",
       "      <td>409</td>\n",
       "      <td>6.30</td>\n",
       "      <td>168</td>\n",
       "      <td>3</td>\n",
       "      <td>2.1</td>\n",
       "      <td>83.68</td>\n",
       "      <td>157.0</td>\n",
       "      <td>32</td>\n",
       "      <td>3500</td>\n",
       "      <td>...</td>\n",
       "      <td>0</td>\n",
       "      <td>0</td>\n",
       "      <td>0</td>\n",
       "      <td>0</td>\n",
       "      <td>0</td>\n",
       "      <td>1</td>\n",
       "      <td>0</td>\n",
       "      <td>0</td>\n",
       "      <td>1</td>\n",
       "      <td>0</td>\n",
       "    </tr>\n",
       "    <tr>\n",
       "      <th>3</th>\n",
       "      <td>4</td>\n",
       "      <td>411</td>\n",
       "      <td>6.00</td>\n",
       "      <td>169</td>\n",
       "      <td>4</td>\n",
       "      <td>2.2</td>\n",
       "      <td>74.78</td>\n",
       "      <td>159.8</td>\n",
       "      <td>64</td>\n",
       "      <td>3300</td>\n",
       "      <td>...</td>\n",
       "      <td>0</td>\n",
       "      <td>0</td>\n",
       "      <td>0</td>\n",
       "      <td>0</td>\n",
       "      <td>0</td>\n",
       "      <td>1</td>\n",
       "      <td>0</td>\n",
       "      <td>0</td>\n",
       "      <td>1</td>\n",
       "      <td>0</td>\n",
       "    </tr>\n",
       "    <tr>\n",
       "      <th>4</th>\n",
       "      <td>5</td>\n",
       "      <td>396</td>\n",
       "      <td>6.50</td>\n",
       "      <td>175</td>\n",
       "      <td>4</td>\n",
       "      <td>2.2</td>\n",
       "      <td>84.23</td>\n",
       "      <td>160.4</td>\n",
       "      <td>64</td>\n",
       "      <td>3750</td>\n",
       "      <td>...</td>\n",
       "      <td>0</td>\n",
       "      <td>0</td>\n",
       "      <td>0</td>\n",
       "      <td>0</td>\n",
       "      <td>0</td>\n",
       "      <td>1</td>\n",
       "      <td>0</td>\n",
       "      <td>0</td>\n",
       "      <td>1</td>\n",
       "      <td>0</td>\n",
       "    </tr>\n",
       "  </tbody>\n",
       "</table>\n",
       "<p>5 rows × 75 columns</p>\n",
       "</div>"
      ],
      "text/plain": [
       "   PhoneId  Pixel Density  Screen Size  Weight  RAM  Processor_frequency  \\\n",
       "0        0            403         6.26     182    4                  1.8   \n",
       "1        1            271         6.20     168    3                  1.8   \n",
       "2        2            409         6.30     168    3                  2.1   \n",
       "3        4            411         6.00     169    4                  2.2   \n",
       "4        5            396         6.50     175    4                  2.2   \n",
       "\n",
       "   Screen to Body Ratio (calculated)  Height  Internal Memory  Capacity  ...  \\\n",
       "0                              80.68   157.9               64      4000  ...   \n",
       "1                              80.85   156.2               32      4230  ...   \n",
       "2                              83.68   157.0               32      3500  ...   \n",
       "3                              74.78   159.8               64      3300  ...   \n",
       "4                              84.23   160.4               64      3750  ...   \n",
       "\n",
       "   OS_Other  OS_Tizen OS_iOS SIM1_2G  SIM1_3G  SIM1_4G  SIM2_2G  SIM2_3G  \\\n",
       "0         0         0      0       0        0        1        0        0   \n",
       "1         0         0      0       0        0        1        0        0   \n",
       "2         0         0      0       0        0        1        0        0   \n",
       "3         0         0      0       0        0        1        0        0   \n",
       "4         0         0      0       0        0        1        0        0   \n",
       "\n",
       "   SIM2_4G  SIM2_Other  \n",
       "0        1           0  \n",
       "1        1           0  \n",
       "2        1           0  \n",
       "3        1           0  \n",
       "4        1           0  \n",
       "\n",
       "[5 rows x 75 columns]"
      ]
     },
     "execution_count": 9,
     "metadata": {},
     "output_type": "execute_result"
    }
   ],
   "source": [
    "mob_data_sim2_encoded.head()"
   ]
  },
  {
   "cell_type": "code",
   "execution_count": 10,
   "metadata": {},
   "outputs": [],
   "source": [
    "#\"ONE HOT ENCODING\" for SIM slot types and Processor\n",
    "mob_data_simslot_encoded = pd.get_dummies(mob_data_sim2_encoded,prefix=[\"SimSlots\"],columns = [\"SIM Slot\"])\n",
    "mob_data_processor_encoded = pd.get_dummies(mob_data_simslot_encoded,prefix=[\"Num_Cores\"],columns = [\"Processesor\"])\n"
   ]
  },
  {
   "cell_type": "code",
   "execution_count": 11,
   "metadata": {},
   "outputs": [],
   "source": [
    "#copying my dataframe to another datframe\n",
    "mob_data_encoded = mob_data_processor_encoded"
   ]
  },
  {
   "cell_type": "code",
   "execution_count": 12,
   "metadata": {},
   "outputs": [
    {
     "data": {
      "text/html": [
       "<div>\n",
       "<style scoped>\n",
       "    .dataframe tbody tr th:only-of-type {\n",
       "        vertical-align: middle;\n",
       "    }\n",
       "\n",
       "    .dataframe tbody tr th {\n",
       "        vertical-align: top;\n",
       "    }\n",
       "\n",
       "    .dataframe thead th {\n",
       "        text-align: right;\n",
       "    }\n",
       "</style>\n",
       "<table border=\"1\" class=\"dataframe\">\n",
       "  <thead>\n",
       "    <tr style=\"text-align: right;\">\n",
       "      <th></th>\n",
       "      <th>PhoneId</th>\n",
       "      <th>Pixel Density</th>\n",
       "      <th>Screen Size</th>\n",
       "      <th>Weight</th>\n",
       "      <th>RAM</th>\n",
       "      <th>Processor_frequency</th>\n",
       "      <th>Screen to Body Ratio (calculated)</th>\n",
       "      <th>Height</th>\n",
       "      <th>Internal Memory</th>\n",
       "      <th>Capacity</th>\n",
       "      <th>...</th>\n",
       "      <th>SimSlots_Dual SIM, GSM+GSM, Dual VoLTE</th>\n",
       "      <th>SimSlots_Single SIM, GSM</th>\n",
       "      <th>Num_Cores_312</th>\n",
       "      <th>Num_Cores_Deca</th>\n",
       "      <th>Num_Cores_Dual</th>\n",
       "      <th>Num_Cores_Hexa</th>\n",
       "      <th>Num_Cores_Octa</th>\n",
       "      <th>Num_Cores_Other</th>\n",
       "      <th>Num_Cores_Quad</th>\n",
       "      <th>Num_Cores_Tru-Octa</th>\n",
       "    </tr>\n",
       "  </thead>\n",
       "  <tbody>\n",
       "    <tr>\n",
       "      <th>0</th>\n",
       "      <td>0</td>\n",
       "      <td>403</td>\n",
       "      <td>6.26</td>\n",
       "      <td>182</td>\n",
       "      <td>4</td>\n",
       "      <td>1.8</td>\n",
       "      <td>80.68</td>\n",
       "      <td>157.9</td>\n",
       "      <td>64</td>\n",
       "      <td>4000</td>\n",
       "      <td>...</td>\n",
       "      <td>1</td>\n",
       "      <td>0</td>\n",
       "      <td>0</td>\n",
       "      <td>0</td>\n",
       "      <td>0</td>\n",
       "      <td>0</td>\n",
       "      <td>1</td>\n",
       "      <td>0</td>\n",
       "      <td>0</td>\n",
       "      <td>0</td>\n",
       "    </tr>\n",
       "    <tr>\n",
       "      <th>1</th>\n",
       "      <td>1</td>\n",
       "      <td>271</td>\n",
       "      <td>6.20</td>\n",
       "      <td>168</td>\n",
       "      <td>3</td>\n",
       "      <td>1.8</td>\n",
       "      <td>80.85</td>\n",
       "      <td>156.2</td>\n",
       "      <td>32</td>\n",
       "      <td>4230</td>\n",
       "      <td>...</td>\n",
       "      <td>1</td>\n",
       "      <td>0</td>\n",
       "      <td>0</td>\n",
       "      <td>0</td>\n",
       "      <td>0</td>\n",
       "      <td>0</td>\n",
       "      <td>1</td>\n",
       "      <td>0</td>\n",
       "      <td>0</td>\n",
       "      <td>0</td>\n",
       "    </tr>\n",
       "    <tr>\n",
       "      <th>2</th>\n",
       "      <td>2</td>\n",
       "      <td>409</td>\n",
       "      <td>6.30</td>\n",
       "      <td>168</td>\n",
       "      <td>3</td>\n",
       "      <td>2.1</td>\n",
       "      <td>83.68</td>\n",
       "      <td>157.0</td>\n",
       "      <td>32</td>\n",
       "      <td>3500</td>\n",
       "      <td>...</td>\n",
       "      <td>1</td>\n",
       "      <td>0</td>\n",
       "      <td>0</td>\n",
       "      <td>0</td>\n",
       "      <td>0</td>\n",
       "      <td>0</td>\n",
       "      <td>1</td>\n",
       "      <td>0</td>\n",
       "      <td>0</td>\n",
       "      <td>0</td>\n",
       "    </tr>\n",
       "    <tr>\n",
       "      <th>3</th>\n",
       "      <td>4</td>\n",
       "      <td>411</td>\n",
       "      <td>6.00</td>\n",
       "      <td>169</td>\n",
       "      <td>4</td>\n",
       "      <td>2.2</td>\n",
       "      <td>74.78</td>\n",
       "      <td>159.8</td>\n",
       "      <td>64</td>\n",
       "      <td>3300</td>\n",
       "      <td>...</td>\n",
       "      <td>0</td>\n",
       "      <td>0</td>\n",
       "      <td>0</td>\n",
       "      <td>0</td>\n",
       "      <td>0</td>\n",
       "      <td>0</td>\n",
       "      <td>1</td>\n",
       "      <td>0</td>\n",
       "      <td>0</td>\n",
       "      <td>0</td>\n",
       "    </tr>\n",
       "    <tr>\n",
       "      <th>4</th>\n",
       "      <td>5</td>\n",
       "      <td>396</td>\n",
       "      <td>6.50</td>\n",
       "      <td>175</td>\n",
       "      <td>4</td>\n",
       "      <td>2.2</td>\n",
       "      <td>84.23</td>\n",
       "      <td>160.4</td>\n",
       "      <td>64</td>\n",
       "      <td>3750</td>\n",
       "      <td>...</td>\n",
       "      <td>1</td>\n",
       "      <td>0</td>\n",
       "      <td>0</td>\n",
       "      <td>0</td>\n",
       "      <td>0</td>\n",
       "      <td>0</td>\n",
       "      <td>1</td>\n",
       "      <td>0</td>\n",
       "      <td>0</td>\n",
       "      <td>0</td>\n",
       "    </tr>\n",
       "  </tbody>\n",
       "</table>\n",
       "<p>5 rows × 85 columns</p>\n",
       "</div>"
      ],
      "text/plain": [
       "   PhoneId  Pixel Density  Screen Size  Weight  RAM  Processor_frequency  \\\n",
       "0        0            403         6.26     182    4                  1.8   \n",
       "1        1            271         6.20     168    3                  1.8   \n",
       "2        2            409         6.30     168    3                  2.1   \n",
       "3        4            411         6.00     169    4                  2.2   \n",
       "4        5            396         6.50     175    4                  2.2   \n",
       "\n",
       "   Screen to Body Ratio (calculated)  Height  Internal Memory  Capacity  ...  \\\n",
       "0                              80.68   157.9               64      4000  ...   \n",
       "1                              80.85   156.2               32      4230  ...   \n",
       "2                              83.68   157.0               32      3500  ...   \n",
       "3                              74.78   159.8               64      3300  ...   \n",
       "4                              84.23   160.4               64      3750  ...   \n",
       "\n",
       "   SimSlots_Dual SIM, GSM+GSM, Dual VoLTE  SimSlots_Single SIM, GSM  \\\n",
       "0                                       1                         0   \n",
       "1                                       1                         0   \n",
       "2                                       1                         0   \n",
       "3                                       0                         0   \n",
       "4                                       1                         0   \n",
       "\n",
       "   Num_Cores_312  Num_Cores_Deca  Num_Cores_Dual  Num_Cores_Hexa  \\\n",
       "0              0               0               0               0   \n",
       "1              0               0               0               0   \n",
       "2              0               0               0               0   \n",
       "3              0               0               0               0   \n",
       "4              0               0               0               0   \n",
       "\n",
       "   Num_Cores_Octa  Num_Cores_Other  Num_Cores_Quad  Num_Cores_Tru-Octa  \n",
       "0               1                0               0                   0  \n",
       "1               1                0               0                   0  \n",
       "2               1                0               0                   0  \n",
       "3               1                0               0                   0  \n",
       "4               1                0               0                   0  \n",
       "\n",
       "[5 rows x 85 columns]"
      ]
     },
     "execution_count": 12,
     "metadata": {},
     "output_type": "execute_result"
    }
   ],
   "source": [
    "mob_data_encoded.head()"
   ]
  },
  {
   "cell_type": "code",
   "execution_count": 13,
   "metadata": {},
   "outputs": [
    {
     "data": {
      "text/plain": [
       "(341, 85)"
      ]
     },
     "execution_count": 13,
     "metadata": {},
     "output_type": "execute_result"
    }
   ],
   "source": [
    "#visualising shape of my final dataframe\n",
    "mob_data_encoded.shape"
   ]
  },
  {
   "cell_type": "code",
   "execution_count": 14,
   "metadata": {},
   "outputs": [],
   "source": [
    "#slicing my dataframe to a new dataframe\n",
    "mob_data_sliced = mob_data_encoded[0:10]"
   ]
  },
  {
   "cell_type": "code",
   "execution_count": 15,
   "metadata": {},
   "outputs": [
    {
     "data": {
      "text/html": [
       "<div>\n",
       "<style scoped>\n",
       "    .dataframe tbody tr th:only-of-type {\n",
       "        vertical-align: middle;\n",
       "    }\n",
       "\n",
       "    .dataframe tbody tr th {\n",
       "        vertical-align: top;\n",
       "    }\n",
       "\n",
       "    .dataframe thead th {\n",
       "        text-align: right;\n",
       "    }\n",
       "</style>\n",
       "<table border=\"1\" class=\"dataframe\">\n",
       "  <thead>\n",
       "    <tr style=\"text-align: right;\">\n",
       "      <th></th>\n",
       "      <th>PhoneId</th>\n",
       "      <th>Pixel Density</th>\n",
       "      <th>Screen Size</th>\n",
       "      <th>Weight</th>\n",
       "      <th>RAM</th>\n",
       "      <th>Processor_frequency</th>\n",
       "      <th>Screen to Body Ratio (calculated)</th>\n",
       "      <th>Height</th>\n",
       "      <th>Internal Memory</th>\n",
       "      <th>Capacity</th>\n",
       "      <th>...</th>\n",
       "      <th>SimSlots_Dual SIM, GSM+GSM, Dual VoLTE</th>\n",
       "      <th>SimSlots_Single SIM, GSM</th>\n",
       "      <th>Num_Cores_312</th>\n",
       "      <th>Num_Cores_Deca</th>\n",
       "      <th>Num_Cores_Dual</th>\n",
       "      <th>Num_Cores_Hexa</th>\n",
       "      <th>Num_Cores_Octa</th>\n",
       "      <th>Num_Cores_Other</th>\n",
       "      <th>Num_Cores_Quad</th>\n",
       "      <th>Num_Cores_Tru-Octa</th>\n",
       "    </tr>\n",
       "  </thead>\n",
       "  <tbody>\n",
       "    <tr>\n",
       "      <th>0</th>\n",
       "      <td>0</td>\n",
       "      <td>403</td>\n",
       "      <td>6.26</td>\n",
       "      <td>182</td>\n",
       "      <td>4</td>\n",
       "      <td>1.8</td>\n",
       "      <td>80.68</td>\n",
       "      <td>157.9</td>\n",
       "      <td>64</td>\n",
       "      <td>4000</td>\n",
       "      <td>...</td>\n",
       "      <td>1</td>\n",
       "      <td>0</td>\n",
       "      <td>0</td>\n",
       "      <td>0</td>\n",
       "      <td>0</td>\n",
       "      <td>0</td>\n",
       "      <td>1</td>\n",
       "      <td>0</td>\n",
       "      <td>0</td>\n",
       "      <td>0</td>\n",
       "    </tr>\n",
       "    <tr>\n",
       "      <th>1</th>\n",
       "      <td>1</td>\n",
       "      <td>271</td>\n",
       "      <td>6.20</td>\n",
       "      <td>168</td>\n",
       "      <td>3</td>\n",
       "      <td>1.8</td>\n",
       "      <td>80.85</td>\n",
       "      <td>156.2</td>\n",
       "      <td>32</td>\n",
       "      <td>4230</td>\n",
       "      <td>...</td>\n",
       "      <td>1</td>\n",
       "      <td>0</td>\n",
       "      <td>0</td>\n",
       "      <td>0</td>\n",
       "      <td>0</td>\n",
       "      <td>0</td>\n",
       "      <td>1</td>\n",
       "      <td>0</td>\n",
       "      <td>0</td>\n",
       "      <td>0</td>\n",
       "    </tr>\n",
       "    <tr>\n",
       "      <th>2</th>\n",
       "      <td>2</td>\n",
       "      <td>409</td>\n",
       "      <td>6.30</td>\n",
       "      <td>168</td>\n",
       "      <td>3</td>\n",
       "      <td>2.1</td>\n",
       "      <td>83.68</td>\n",
       "      <td>157.0</td>\n",
       "      <td>32</td>\n",
       "      <td>3500</td>\n",
       "      <td>...</td>\n",
       "      <td>1</td>\n",
       "      <td>0</td>\n",
       "      <td>0</td>\n",
       "      <td>0</td>\n",
       "      <td>0</td>\n",
       "      <td>0</td>\n",
       "      <td>1</td>\n",
       "      <td>0</td>\n",
       "      <td>0</td>\n",
       "      <td>0</td>\n",
       "    </tr>\n",
       "    <tr>\n",
       "      <th>3</th>\n",
       "      <td>4</td>\n",
       "      <td>411</td>\n",
       "      <td>6.00</td>\n",
       "      <td>169</td>\n",
       "      <td>4</td>\n",
       "      <td>2.2</td>\n",
       "      <td>74.78</td>\n",
       "      <td>159.8</td>\n",
       "      <td>64</td>\n",
       "      <td>3300</td>\n",
       "      <td>...</td>\n",
       "      <td>0</td>\n",
       "      <td>0</td>\n",
       "      <td>0</td>\n",
       "      <td>0</td>\n",
       "      <td>0</td>\n",
       "      <td>0</td>\n",
       "      <td>1</td>\n",
       "      <td>0</td>\n",
       "      <td>0</td>\n",
       "      <td>0</td>\n",
       "    </tr>\n",
       "    <tr>\n",
       "      <th>4</th>\n",
       "      <td>5</td>\n",
       "      <td>396</td>\n",
       "      <td>6.50</td>\n",
       "      <td>175</td>\n",
       "      <td>4</td>\n",
       "      <td>2.2</td>\n",
       "      <td>84.23</td>\n",
       "      <td>160.4</td>\n",
       "      <td>64</td>\n",
       "      <td>3750</td>\n",
       "      <td>...</td>\n",
       "      <td>1</td>\n",
       "      <td>0</td>\n",
       "      <td>0</td>\n",
       "      <td>0</td>\n",
       "      <td>0</td>\n",
       "      <td>0</td>\n",
       "      <td>1</td>\n",
       "      <td>0</td>\n",
       "      <td>0</td>\n",
       "      <td>0</td>\n",
       "    </tr>\n",
       "  </tbody>\n",
       "</table>\n",
       "<p>5 rows × 85 columns</p>\n",
       "</div>"
      ],
      "text/plain": [
       "   PhoneId  Pixel Density  Screen Size  Weight  RAM  Processor_frequency  \\\n",
       "0        0            403         6.26     182    4                  1.8   \n",
       "1        1            271         6.20     168    3                  1.8   \n",
       "2        2            409         6.30     168    3                  2.1   \n",
       "3        4            411         6.00     169    4                  2.2   \n",
       "4        5            396         6.50     175    4                  2.2   \n",
       "\n",
       "   Screen to Body Ratio (calculated)  Height  Internal Memory  Capacity  ...  \\\n",
       "0                              80.68   157.9               64      4000  ...   \n",
       "1                              80.85   156.2               32      4230  ...   \n",
       "2                              83.68   157.0               32      3500  ...   \n",
       "3                              74.78   159.8               64      3300  ...   \n",
       "4                              84.23   160.4               64      3750  ...   \n",
       "\n",
       "   SimSlots_Dual SIM, GSM+GSM, Dual VoLTE  SimSlots_Single SIM, GSM  \\\n",
       "0                                       1                         0   \n",
       "1                                       1                         0   \n",
       "2                                       1                         0   \n",
       "3                                       0                         0   \n",
       "4                                       1                         0   \n",
       "\n",
       "   Num_Cores_312  Num_Cores_Deca  Num_Cores_Dual  Num_Cores_Hexa  \\\n",
       "0              0               0               0               0   \n",
       "1              0               0               0               0   \n",
       "2              0               0               0               0   \n",
       "3              0               0               0               0   \n",
       "4              0               0               0               0   \n",
       "\n",
       "   Num_Cores_Octa  Num_Cores_Other  Num_Cores_Quad  Num_Cores_Tru-Octa  \n",
       "0               1                0               0                   0  \n",
       "1               1                0               0                   0  \n",
       "2               1                0               0                   0  \n",
       "3               1                0               0                   0  \n",
       "4               1                0               0                   0  \n",
       "\n",
       "[5 rows x 85 columns]"
      ]
     },
     "execution_count": 15,
     "metadata": {},
     "output_type": "execute_result"
    }
   ],
   "source": [
    "#visualising new dataframe\n",
    "mob_data_sliced.head()"
   ]
  },
  {
   "cell_type": "code",
   "execution_count": 16,
   "metadata": {},
   "outputs": [
    {
     "data": {
      "text/plain": [
       "(10, 85)"
      ]
     },
     "execution_count": 16,
     "metadata": {},
     "output_type": "execute_result"
    }
   ],
   "source": [
    "#here Shape reduces as we sliced them\n",
    "mob_data_sliced.shape"
   ]
  },
  {
   "cell_type": "code",
   "execution_count": 17,
   "metadata": {},
   "outputs": [
    {
     "name": "stdout",
     "output_type": "stream",
     "text": [
      "0    64\n",
      "1    32\n",
      "2    32\n",
      "3    64\n",
      "4    64\n",
      "Name: Internal Memory, dtype: int64\n"
     ]
    }
   ],
   "source": [
    "#accessing a specified columns and rows in dataframe\n",
    "print(mob_data_encoded[\"Internal Memory\"][0:5])"
   ]
  },
  {
   "cell_type": "code",
   "execution_count": 18,
   "metadata": {},
   "outputs": [
    {
     "data": {
      "text/html": [
       "<div>\n",
       "<style scoped>\n",
       "    .dataframe tbody tr th:only-of-type {\n",
       "        vertical-align: middle;\n",
       "    }\n",
       "\n",
       "    .dataframe tbody tr th {\n",
       "        vertical-align: top;\n",
       "    }\n",
       "\n",
       "    .dataframe thead th {\n",
       "        text-align: right;\n",
       "    }\n",
       "</style>\n",
       "<table border=\"1\" class=\"dataframe\">\n",
       "  <thead>\n",
       "    <tr style=\"text-align: right;\">\n",
       "      <th></th>\n",
       "      <th>PhoneId</th>\n",
       "      <th>Pixel Density</th>\n",
       "      <th>Screen Size</th>\n",
       "      <th>Weight</th>\n",
       "      <th>RAM</th>\n",
       "      <th>Processor_frequency</th>\n",
       "      <th>Screen to Body Ratio (calculated)</th>\n",
       "      <th>Height</th>\n",
       "      <th>Internal Memory</th>\n",
       "      <th>Capacity</th>\n",
       "      <th>...</th>\n",
       "      <th>SimSlots_Dual SIM, GSM+GSM, Dual VoLTE</th>\n",
       "      <th>SimSlots_Single SIM, GSM</th>\n",
       "      <th>Num_Cores_312</th>\n",
       "      <th>Num_Cores_Deca</th>\n",
       "      <th>Num_Cores_Dual</th>\n",
       "      <th>Num_Cores_Hexa</th>\n",
       "      <th>Num_Cores_Octa</th>\n",
       "      <th>Num_Cores_Other</th>\n",
       "      <th>Num_Cores_Quad</th>\n",
       "      <th>Num_Cores_Tru-Octa</th>\n",
       "    </tr>\n",
       "  </thead>\n",
       "  <tbody>\n",
       "    <tr>\n",
       "      <th>46</th>\n",
       "      <td>63</td>\n",
       "      <td>167</td>\n",
       "      <td>2.4</td>\n",
       "      <td>161</td>\n",
       "      <td>512</td>\n",
       "      <td>1.00</td>\n",
       "      <td>72.35</td>\n",
       "      <td>149.946394</td>\n",
       "      <td>4</td>\n",
       "      <td>2000</td>\n",
       "      <td>...</td>\n",
       "      <td>0</td>\n",
       "      <td>1</td>\n",
       "      <td>0</td>\n",
       "      <td>0</td>\n",
       "      <td>1</td>\n",
       "      <td>0</td>\n",
       "      <td>0</td>\n",
       "      <td>0</td>\n",
       "      <td>0</td>\n",
       "      <td>0</td>\n",
       "    </tr>\n",
       "    <tr>\n",
       "      <th>113</th>\n",
       "      <td>149</td>\n",
       "      <td>167</td>\n",
       "      <td>2.4</td>\n",
       "      <td>161</td>\n",
       "      <td>16</td>\n",
       "      <td>1.79</td>\n",
       "      <td>30.11</td>\n",
       "      <td>118.000000</td>\n",
       "      <td>32</td>\n",
       "      <td>1020</td>\n",
       "      <td>...</td>\n",
       "      <td>0</td>\n",
       "      <td>0</td>\n",
       "      <td>0</td>\n",
       "      <td>0</td>\n",
       "      <td>0</td>\n",
       "      <td>0</td>\n",
       "      <td>0</td>\n",
       "      <td>1</td>\n",
       "      <td>0</td>\n",
       "      <td>0</td>\n",
       "    </tr>\n",
       "    <tr>\n",
       "      <th>294</th>\n",
       "      <td>409</td>\n",
       "      <td>167</td>\n",
       "      <td>2.4</td>\n",
       "      <td>161</td>\n",
       "      <td>8</td>\n",
       "      <td>1.79</td>\n",
       "      <td>30.49</td>\n",
       "      <td>116.400000</td>\n",
       "      <td>32</td>\n",
       "      <td>1100</td>\n",
       "      <td>...</td>\n",
       "      <td>0</td>\n",
       "      <td>0</td>\n",
       "      <td>0</td>\n",
       "      <td>0</td>\n",
       "      <td>0</td>\n",
       "      <td>0</td>\n",
       "      <td>0</td>\n",
       "      <td>1</td>\n",
       "      <td>0</td>\n",
       "      <td>0</td>\n",
       "    </tr>\n",
       "    <tr>\n",
       "      <th>131</th>\n",
       "      <td>178</td>\n",
       "      <td>167</td>\n",
       "      <td>2.4</td>\n",
       "      <td>81</td>\n",
       "      <td>3</td>\n",
       "      <td>1.79</td>\n",
       "      <td>30.11</td>\n",
       "      <td>118.000000</td>\n",
       "      <td>32</td>\n",
       "      <td>1020</td>\n",
       "      <td>...</td>\n",
       "      <td>0</td>\n",
       "      <td>0</td>\n",
       "      <td>0</td>\n",
       "      <td>0</td>\n",
       "      <td>0</td>\n",
       "      <td>0</td>\n",
       "      <td>0</td>\n",
       "      <td>1</td>\n",
       "      <td>0</td>\n",
       "      <td>0</td>\n",
       "    </tr>\n",
       "    <tr>\n",
       "      <th>183</th>\n",
       "      <td>247</td>\n",
       "      <td>167</td>\n",
       "      <td>2.4</td>\n",
       "      <td>91</td>\n",
       "      <td>32</td>\n",
       "      <td>1.79</td>\n",
       "      <td>29.59</td>\n",
       "      <td>117.500000</td>\n",
       "      <td>32</td>\n",
       "      <td>1200</td>\n",
       "      <td>...</td>\n",
       "      <td>0</td>\n",
       "      <td>0</td>\n",
       "      <td>0</td>\n",
       "      <td>0</td>\n",
       "      <td>0</td>\n",
       "      <td>0</td>\n",
       "      <td>0</td>\n",
       "      <td>1</td>\n",
       "      <td>0</td>\n",
       "      <td>0</td>\n",
       "    </tr>\n",
       "  </tbody>\n",
       "</table>\n",
       "<p>5 rows × 85 columns</p>\n",
       "</div>"
      ],
      "text/plain": [
       "     PhoneId  Pixel Density  Screen Size  Weight  RAM  Processor_frequency  \\\n",
       "46        63            167          2.4     161  512                 1.00   \n",
       "113      149            167          2.4     161   16                 1.79   \n",
       "294      409            167          2.4     161    8                 1.79   \n",
       "131      178            167          2.4      81    3                 1.79   \n",
       "183      247            167          2.4      91   32                 1.79   \n",
       "\n",
       "     Screen to Body Ratio (calculated)      Height  Internal Memory  Capacity  \\\n",
       "46                               72.35  149.946394                4      2000   \n",
       "113                              30.11  118.000000               32      1020   \n",
       "294                              30.49  116.400000               32      1100   \n",
       "131                              30.11  118.000000               32      1020   \n",
       "183                              29.59  117.500000               32      1200   \n",
       "\n",
       "     ...  SimSlots_Dual SIM, GSM+GSM, Dual VoLTE  SimSlots_Single SIM, GSM  \\\n",
       "46   ...                                       0                         1   \n",
       "113  ...                                       0                         0   \n",
       "294  ...                                       0                         0   \n",
       "131  ...                                       0                         0   \n",
       "183  ...                                       0                         0   \n",
       "\n",
       "     Num_Cores_312  Num_Cores_Deca  Num_Cores_Dual  Num_Cores_Hexa  \\\n",
       "46               0               0               1               0   \n",
       "113              0               0               0               0   \n",
       "294              0               0               0               0   \n",
       "131              0               0               0               0   \n",
       "183              0               0               0               0   \n",
       "\n",
       "     Num_Cores_Octa  Num_Cores_Other  Num_Cores_Quad  Num_Cores_Tru-Octa  \n",
       "46                0                0               0                   0  \n",
       "113               0                1               0                   0  \n",
       "294               0                1               0                   0  \n",
       "131               0                1               0                   0  \n",
       "183               0                1               0                   0  \n",
       "\n",
       "[5 rows x 85 columns]"
      ]
     },
     "execution_count": 18,
     "metadata": {},
     "output_type": "execute_result"
    }
   ],
   "source": [
    "#sorting Dataframe with respect to Screen Size\n",
    "mob_data_encoded.sort_values(\"Screen Size\", ascending=True)[0:5]"
   ]
  },
  {
   "cell_type": "code",
   "execution_count": 19,
   "metadata": {},
   "outputs": [
    {
     "data": {
      "text/plain": [
       "46     2.4\n",
       "74     2.4\n",
       "113    2.4\n",
       "126    2.4\n",
       "131    2.4\n",
       "183    2.4\n",
       "294    2.4\n",
       "Name: Screen Size, dtype: float64"
      ]
     },
     "execution_count": 19,
     "metadata": {},
     "output_type": "execute_result"
    }
   ],
   "source": [
    "mob_data_encoded[\"Screen Size\"][mob_data_encoded.loc[mob_data_encoded[\"Screen Size\"]==2.4].index]"
   ]
  },
  {
   "cell_type": "code",
   "execution_count": 20,
   "metadata": {},
   "outputs": [
    {
     "data": {
      "text/plain": [
       "PhoneId                               232.970674\n",
       "Pixel Density                         344.211144\n",
       "Screen Size                             5.462317\n",
       "Weight                                161.343109\n",
       "RAM                                    11.120235\n",
       "Processor_frequency                     1.792551\n",
       "Screen to Body Ratio (calculated)      72.353343\n",
       "Height                                149.946394\n",
       "Internal Memory                        46.369501\n",
       "Capacity                             3191.307918\n",
       "Resolution                              9.592375\n",
       "Rating                                  4.072434\n",
       "dtype: float64"
      ]
     },
     "execution_count": 20,
     "metadata": {},
     "output_type": "execute_result"
    }
   ],
   "source": [
    "#calculating mean for all columns in our DataFrame\n",
    "mob_data.mean()"
   ]
  },
  {
   "cell_type": "code",
   "execution_count": 21,
   "metadata": {},
   "outputs": [
    {
     "data": {
      "text/plain": [
       "RangeIndex(start=0, stop=341, step=1)"
      ]
     },
     "execution_count": 21,
     "metadata": {},
     "output_type": "execute_result"
    }
   ],
   "source": [
    "#displaying range of rows\n",
    "mob_data_encoded.index"
   ]
  },
  {
   "cell_type": "code",
   "execution_count": 22,
   "metadata": {},
   "outputs": [
    {
     "data": {
      "text/plain": [
       "149.9463939381232"
      ]
     },
     "execution_count": 22,
     "metadata": {},
     "output_type": "execute_result"
    }
   ],
   "source": [
    "#mean of a specified column\n",
    "mob_data_encoded[\"Height\"].mean()"
   ]
  },
  {
   "cell_type": "code",
   "execution_count": 23,
   "metadata": {},
   "outputs": [],
   "source": [
    "#dropping records which has ratings below than 4\n",
    "mob_data_dropped = mob_data_encoded.drop(mob_data_encoded.loc[mob_data_encoded['Rating'] < 4].index)"
   ]
  },
  {
   "cell_type": "code",
   "execution_count": 24,
   "metadata": {},
   "outputs": [
    {
     "data": {
      "text/plain": [
       "(238, 85)"
      ]
     },
     "execution_count": 24,
     "metadata": {},
     "output_type": "execute_result"
    }
   ],
   "source": [
    "#shape reduced from 341 to 238\n",
    "mob_data_dropped.shape"
   ]
  },
  {
   "cell_type": "code",
   "execution_count": 25,
   "metadata": {},
   "outputs": [
    {
     "data": {
      "text/html": [
       "<div>\n",
       "<style scoped>\n",
       "    .dataframe tbody tr th:only-of-type {\n",
       "        vertical-align: middle;\n",
       "    }\n",
       "\n",
       "    .dataframe tbody tr th {\n",
       "        vertical-align: top;\n",
       "    }\n",
       "\n",
       "    .dataframe thead th {\n",
       "        text-align: right;\n",
       "    }\n",
       "</style>\n",
       "<table border=\"1\" class=\"dataframe\">\n",
       "  <thead>\n",
       "    <tr style=\"text-align: right;\">\n",
       "      <th></th>\n",
       "      <th>PhoneId</th>\n",
       "      <th>Pixel Density</th>\n",
       "      <th>Screen Size</th>\n",
       "      <th>Weight</th>\n",
       "      <th>RAM</th>\n",
       "      <th>Processor_frequency</th>\n",
       "      <th>Screen to Body Ratio (calculated)</th>\n",
       "      <th>Height</th>\n",
       "      <th>Internal Memory</th>\n",
       "      <th>Capacity</th>\n",
       "      <th>...</th>\n",
       "      <th>SimSlots_Dual SIM, GSM+GSM, Dual VoLTE</th>\n",
       "      <th>SimSlots_Single SIM, GSM</th>\n",
       "      <th>Num_Cores_312</th>\n",
       "      <th>Num_Cores_Deca</th>\n",
       "      <th>Num_Cores_Dual</th>\n",
       "      <th>Num_Cores_Hexa</th>\n",
       "      <th>Num_Cores_Octa</th>\n",
       "      <th>Num_Cores_Other</th>\n",
       "      <th>Num_Cores_Quad</th>\n",
       "      <th>Num_Cores_Tru-Octa</th>\n",
       "    </tr>\n",
       "  </thead>\n",
       "  <tbody>\n",
       "    <tr>\n",
       "      <th>count</th>\n",
       "      <td>341.000000</td>\n",
       "      <td>341.000000</td>\n",
       "      <td>341.000000</td>\n",
       "      <td>341.000000</td>\n",
       "      <td>341.000000</td>\n",
       "      <td>341.000000</td>\n",
       "      <td>341.000000</td>\n",
       "      <td>341.000000</td>\n",
       "      <td>341.000000</td>\n",
       "      <td>341.000000</td>\n",
       "      <td>...</td>\n",
       "      <td>341.000000</td>\n",
       "      <td>341.000000</td>\n",
       "      <td>341.000000</td>\n",
       "      <td>341.000000</td>\n",
       "      <td>341.000000</td>\n",
       "      <td>341.000000</td>\n",
       "      <td>341.000000</td>\n",
       "      <td>341.000000</td>\n",
       "      <td>341.000000</td>\n",
       "      <td>341.000000</td>\n",
       "    </tr>\n",
       "    <tr>\n",
       "      <th>mean</th>\n",
       "      <td>232.970674</td>\n",
       "      <td>344.211144</td>\n",
       "      <td>5.462317</td>\n",
       "      <td>161.343109</td>\n",
       "      <td>11.120235</td>\n",
       "      <td>1.792551</td>\n",
       "      <td>72.353343</td>\n",
       "      <td>149.946394</td>\n",
       "      <td>46.369501</td>\n",
       "      <td>3191.307918</td>\n",
       "      <td>...</td>\n",
       "      <td>0.152493</td>\n",
       "      <td>0.085044</td>\n",
       "      <td>0.002933</td>\n",
       "      <td>0.005865</td>\n",
       "      <td>0.029326</td>\n",
       "      <td>0.035191</td>\n",
       "      <td>0.580645</td>\n",
       "      <td>0.017595</td>\n",
       "      <td>0.325513</td>\n",
       "      <td>0.002933</td>\n",
       "    </tr>\n",
       "    <tr>\n",
       "      <th>std</th>\n",
       "      <td>137.231746</td>\n",
       "      <td>88.161129</td>\n",
       "      <td>0.742529</td>\n",
       "      <td>22.305556</td>\n",
       "      <td>61.320855</td>\n",
       "      <td>0.451598</td>\n",
       "      <td>9.357839</td>\n",
       "      <td>9.192305</td>\n",
       "      <td>46.435453</td>\n",
       "      <td>932.533527</td>\n",
       "      <td>...</td>\n",
       "      <td>0.360026</td>\n",
       "      <td>0.279357</td>\n",
       "      <td>0.054153</td>\n",
       "      <td>0.076471</td>\n",
       "      <td>0.168965</td>\n",
       "      <td>0.184532</td>\n",
       "      <td>0.494179</td>\n",
       "      <td>0.131668</td>\n",
       "      <td>0.469255</td>\n",
       "      <td>0.054153</td>\n",
       "    </tr>\n",
       "    <tr>\n",
       "      <th>min</th>\n",
       "      <td>0.000000</td>\n",
       "      <td>143.000000</td>\n",
       "      <td>2.400000</td>\n",
       "      <td>58.000000</td>\n",
       "      <td>1.000000</td>\n",
       "      <td>1.000000</td>\n",
       "      <td>23.600000</td>\n",
       "      <td>115.600000</td>\n",
       "      <td>0.000000</td>\n",
       "      <td>1020.000000</td>\n",
       "      <td>...</td>\n",
       "      <td>0.000000</td>\n",
       "      <td>0.000000</td>\n",
       "      <td>0.000000</td>\n",
       "      <td>0.000000</td>\n",
       "      <td>0.000000</td>\n",
       "      <td>0.000000</td>\n",
       "      <td>0.000000</td>\n",
       "      <td>0.000000</td>\n",
       "      <td>0.000000</td>\n",
       "      <td>0.000000</td>\n",
       "    </tr>\n",
       "    <tr>\n",
       "      <th>25%</th>\n",
       "      <td>110.000000</td>\n",
       "      <td>282.000000</td>\n",
       "      <td>5.200000</td>\n",
       "      <td>150.000000</td>\n",
       "      <td>2.000000</td>\n",
       "      <td>1.400000</td>\n",
       "      <td>68.800000</td>\n",
       "      <td>146.200000</td>\n",
       "      <td>16.000000</td>\n",
       "      <td>2900.000000</td>\n",
       "      <td>...</td>\n",
       "      <td>0.000000</td>\n",
       "      <td>0.000000</td>\n",
       "      <td>0.000000</td>\n",
       "      <td>0.000000</td>\n",
       "      <td>0.000000</td>\n",
       "      <td>0.000000</td>\n",
       "      <td>0.000000</td>\n",
       "      <td>0.000000</td>\n",
       "      <td>0.000000</td>\n",
       "      <td>0.000000</td>\n",
       "    </tr>\n",
       "    <tr>\n",
       "      <th>50%</th>\n",
       "      <td>229.000000</td>\n",
       "      <td>326.000000</td>\n",
       "      <td>5.500000</td>\n",
       "      <td>161.000000</td>\n",
       "      <td>3.000000</td>\n",
       "      <td>1.800000</td>\n",
       "      <td>72.500000</td>\n",
       "      <td>151.300000</td>\n",
       "      <td>32.000000</td>\n",
       "      <td>3055.000000</td>\n",
       "      <td>...</td>\n",
       "      <td>0.000000</td>\n",
       "      <td>0.000000</td>\n",
       "      <td>0.000000</td>\n",
       "      <td>0.000000</td>\n",
       "      <td>0.000000</td>\n",
       "      <td>0.000000</td>\n",
       "      <td>1.000000</td>\n",
       "      <td>0.000000</td>\n",
       "      <td>0.000000</td>\n",
       "      <td>0.000000</td>\n",
       "    </tr>\n",
       "    <tr>\n",
       "      <th>75%</th>\n",
       "      <td>354.000000</td>\n",
       "      <td>403.000000</td>\n",
       "      <td>6.000000</td>\n",
       "      <td>172.000000</td>\n",
       "      <td>4.000000</td>\n",
       "      <td>2.200000</td>\n",
       "      <td>77.480000</td>\n",
       "      <td>156.200000</td>\n",
       "      <td>64.000000</td>\n",
       "      <td>3750.000000</td>\n",
       "      <td>...</td>\n",
       "      <td>0.000000</td>\n",
       "      <td>0.000000</td>\n",
       "      <td>0.000000</td>\n",
       "      <td>0.000000</td>\n",
       "      <td>0.000000</td>\n",
       "      <td>0.000000</td>\n",
       "      <td>1.000000</td>\n",
       "      <td>0.000000</td>\n",
       "      <td>1.000000</td>\n",
       "      <td>0.000000</td>\n",
       "    </tr>\n",
       "    <tr>\n",
       "      <th>max</th>\n",
       "      <td>472.000000</td>\n",
       "      <td>576.000000</td>\n",
       "      <td>6.590000</td>\n",
       "      <td>330.000000</td>\n",
       "      <td>512.000000</td>\n",
       "      <td>2.800000</td>\n",
       "      <td>87.660000</td>\n",
       "      <td>174.100000</td>\n",
       "      <td>512.000000</td>\n",
       "      <td>13000.000000</td>\n",
       "      <td>...</td>\n",
       "      <td>1.000000</td>\n",
       "      <td>1.000000</td>\n",
       "      <td>1.000000</td>\n",
       "      <td>1.000000</td>\n",
       "      <td>1.000000</td>\n",
       "      <td>1.000000</td>\n",
       "      <td>1.000000</td>\n",
       "      <td>1.000000</td>\n",
       "      <td>1.000000</td>\n",
       "      <td>1.000000</td>\n",
       "    </tr>\n",
       "  </tbody>\n",
       "</table>\n",
       "<p>8 rows × 85 columns</p>\n",
       "</div>"
      ],
      "text/plain": [
       "          PhoneId  Pixel Density  Screen Size      Weight         RAM  \\\n",
       "count  341.000000     341.000000   341.000000  341.000000  341.000000   \n",
       "mean   232.970674     344.211144     5.462317  161.343109   11.120235   \n",
       "std    137.231746      88.161129     0.742529   22.305556   61.320855   \n",
       "min      0.000000     143.000000     2.400000   58.000000    1.000000   \n",
       "25%    110.000000     282.000000     5.200000  150.000000    2.000000   \n",
       "50%    229.000000     326.000000     5.500000  161.000000    3.000000   \n",
       "75%    354.000000     403.000000     6.000000  172.000000    4.000000   \n",
       "max    472.000000     576.000000     6.590000  330.000000  512.000000   \n",
       "\n",
       "       Processor_frequency  Screen to Body Ratio (calculated)      Height  \\\n",
       "count           341.000000                         341.000000  341.000000   \n",
       "mean              1.792551                          72.353343  149.946394   \n",
       "std               0.451598                           9.357839    9.192305   \n",
       "min               1.000000                          23.600000  115.600000   \n",
       "25%               1.400000                          68.800000  146.200000   \n",
       "50%               1.800000                          72.500000  151.300000   \n",
       "75%               2.200000                          77.480000  156.200000   \n",
       "max               2.800000                          87.660000  174.100000   \n",
       "\n",
       "       Internal Memory      Capacity  ...  \\\n",
       "count       341.000000    341.000000  ...   \n",
       "mean         46.369501   3191.307918  ...   \n",
       "std          46.435453    932.533527  ...   \n",
       "min           0.000000   1020.000000  ...   \n",
       "25%          16.000000   2900.000000  ...   \n",
       "50%          32.000000   3055.000000  ...   \n",
       "75%          64.000000   3750.000000  ...   \n",
       "max         512.000000  13000.000000  ...   \n",
       "\n",
       "       SimSlots_Dual SIM, GSM+GSM, Dual VoLTE  SimSlots_Single SIM, GSM  \\\n",
       "count                              341.000000                341.000000   \n",
       "mean                                 0.152493                  0.085044   \n",
       "std                                  0.360026                  0.279357   \n",
       "min                                  0.000000                  0.000000   \n",
       "25%                                  0.000000                  0.000000   \n",
       "50%                                  0.000000                  0.000000   \n",
       "75%                                  0.000000                  0.000000   \n",
       "max                                  1.000000                  1.000000   \n",
       "\n",
       "       Num_Cores_312  Num_Cores_Deca  Num_Cores_Dual  Num_Cores_Hexa  \\\n",
       "count     341.000000      341.000000      341.000000      341.000000   \n",
       "mean        0.002933        0.005865        0.029326        0.035191   \n",
       "std         0.054153        0.076471        0.168965        0.184532   \n",
       "min         0.000000        0.000000        0.000000        0.000000   \n",
       "25%         0.000000        0.000000        0.000000        0.000000   \n",
       "50%         0.000000        0.000000        0.000000        0.000000   \n",
       "75%         0.000000        0.000000        0.000000        0.000000   \n",
       "max         1.000000        1.000000        1.000000        1.000000   \n",
       "\n",
       "       Num_Cores_Octa  Num_Cores_Other  Num_Cores_Quad  Num_Cores_Tru-Octa  \n",
       "count      341.000000       341.000000      341.000000          341.000000  \n",
       "mean         0.580645         0.017595        0.325513            0.002933  \n",
       "std          0.494179         0.131668        0.469255            0.054153  \n",
       "min          0.000000         0.000000        0.000000            0.000000  \n",
       "25%          0.000000         0.000000        0.000000            0.000000  \n",
       "50%          1.000000         0.000000        0.000000            0.000000  \n",
       "75%          1.000000         0.000000        1.000000            0.000000  \n",
       "max          1.000000         1.000000        1.000000            1.000000  \n",
       "\n",
       "[8 rows x 85 columns]"
      ]
     },
     "execution_count": 25,
     "metadata": {},
     "output_type": "execute_result"
    }
   ],
   "source": [
    "#decribing our large dataset to analyze\n",
    "mob_data_encoded.describe()"
   ]
  },
  {
   "cell_type": "code",
   "execution_count": 26,
   "metadata": {},
   "outputs": [
    {
     "name": "stdout",
     "output_type": "stream",
     "text": [
      "<class 'pandas.core.frame.DataFrame'>\n",
      "RangeIndex: 341 entries, 0 to 340\n",
      "Data columns (total 18 columns):\n",
      "PhoneId                              341 non-null int64\n",
      "Pixel Density                        341 non-null int64\n",
      "Screen Size                          341 non-null float64\n",
      "Weight                               341 non-null int64\n",
      "RAM                                  341 non-null int64\n",
      "Processor_frequency                  341 non-null float64\n",
      "Screen to Body Ratio (calculated)    341 non-null float64\n",
      "Height                               341 non-null float64\n",
      "Internal Memory                      341 non-null int64\n",
      "Capacity                             341 non-null int64\n",
      "Resolution                           341 non-null int64\n",
      "Rating                               341 non-null float64\n",
      "Brand                                341 non-null object\n",
      "OS Name                              341 non-null object\n",
      "Sim 1                                341 non-null object\n",
      "Sim 2                                341 non-null object\n",
      "SIM Slot                             341 non-null object\n",
      "Processesor                          341 non-null object\n",
      "dtypes: float64(5), int64(7), object(6)\n",
      "memory usage: 48.0+ KB\n"
     ]
    }
   ],
   "source": [
    "#short summary\n",
    "mob_data.info()\n",
    "#from this we can conclude ther are no nan values present"
   ]
  },
  {
   "cell_type": "code",
   "execution_count": 27,
   "metadata": {},
   "outputs": [
    {
     "data": {
      "text/plain": [
       "6.59"
      ]
     },
     "execution_count": 27,
     "metadata": {},
     "output_type": "execute_result"
    }
   ],
   "source": [
    "# max screen size of phones in my dataset\n",
    "mob_data_encoded[\"Screen Size\"].max()"
   ]
  },
  {
   "cell_type": "code",
   "execution_count": 28,
   "metadata": {},
   "outputs": [
    {
     "data": {
      "text/plain": [
       "2.5"
      ]
     },
     "execution_count": 28,
     "metadata": {},
     "output_type": "execute_result"
    }
   ],
   "source": [
    "#minimum rating for a a phone in my dataset\n",
    "mob_data_encoded[\"Rating\"].min()"
   ]
  },
  {
   "cell_type": "code",
   "execution_count": 29,
   "metadata": {},
   "outputs": [
    {
     "data": {
      "text/plain": [
       "37"
      ]
     },
     "execution_count": 29,
     "metadata": {},
     "output_type": "execute_result"
    }
   ],
   "source": [
    "#checking number of phones which has screen size screen size of 5\n",
    "mob_data_encoded[mob_data_encoded['Screen Size'] == 5 ].count()[\"PhoneId\"]"
   ]
  },
  {
   "cell_type": "markdown",
   "metadata": {},
   "source": [
    "<font color='BROWN'><font size=\"3\">GROUPBY Operations"
   ]
  },
  {
   "cell_type": "code",
   "execution_count": 30,
   "metadata": {},
   "outputs": [],
   "source": [
    "#performing groupby operation with respect to internal memory\n",
    "gb_memory = mob_data_encoded.groupby(\"Internal Memory\")"
   ]
  },
  {
   "cell_type": "code",
   "execution_count": 31,
   "metadata": {},
   "outputs": [
    {
     "data": {
      "text/plain": [
       "Internal Memory\n",
       "0      3.700000\n",
       "4      3.440000\n",
       "8      3.759091\n",
       "16     3.978205\n",
       "32     4.035135\n",
       "64     4.211828\n",
       "128    4.319231\n",
       "256    4.575000\n",
       "512    4.600000\n",
       "Name: Rating, dtype: float64"
      ]
     },
     "execution_count": 31,
     "metadata": {},
     "output_type": "execute_result"
    }
   ],
   "source": [
    "#comparing Internal Memory With Rating\n",
    "gb_memory.mean()[\"Rating\"]"
   ]
  },
  {
   "cell_type": "code",
   "execution_count": 32,
   "metadata": {},
   "outputs": [
    {
     "data": {
      "text/plain": [
       "Internal Memory\n",
       "0      161\n",
       "4      161\n",
       "8      163\n",
       "16     202\n",
       "32     210\n",
       "64     330\n",
       "128    199\n",
       "256    208\n",
       "512    208\n",
       "Name: Weight, dtype: int64"
      ]
     },
     "execution_count": 32,
     "metadata": {},
     "output_type": "execute_result"
    }
   ],
   "source": [
    "#visualising maximum weight of phone compared to each category of internal memory\n",
    "gb_memory[\"Weight\"].max()"
   ]
  },
  {
   "cell_type": "code",
   "execution_count": 33,
   "metadata": {},
   "outputs": [
    {
     "data": {
      "text/html": [
       "<div>\n",
       "<style scoped>\n",
       "    .dataframe tbody tr th:only-of-type {\n",
       "        vertical-align: middle;\n",
       "    }\n",
       "\n",
       "    .dataframe tbody tr th {\n",
       "        vertical-align: top;\n",
       "    }\n",
       "\n",
       "    .dataframe thead tr th {\n",
       "        text-align: left;\n",
       "    }\n",
       "\n",
       "    .dataframe thead tr:last-of-type th {\n",
       "        text-align: right;\n",
       "    }\n",
       "</style>\n",
       "<table border=\"1\" class=\"dataframe\">\n",
       "  <thead>\n",
       "    <tr>\n",
       "      <th></th>\n",
       "      <th colspan=\"8\" halign=\"left\">PhoneId</th>\n",
       "      <th colspan=\"2\" halign=\"left\">Pixel Density</th>\n",
       "      <th>...</th>\n",
       "      <th colspan=\"2\" halign=\"left\">Num_Cores_Quad</th>\n",
       "      <th colspan=\"8\" halign=\"left\">Num_Cores_Tru-Octa</th>\n",
       "    </tr>\n",
       "    <tr>\n",
       "      <th></th>\n",
       "      <th>count</th>\n",
       "      <th>mean</th>\n",
       "      <th>std</th>\n",
       "      <th>min</th>\n",
       "      <th>25%</th>\n",
       "      <th>50%</th>\n",
       "      <th>75%</th>\n",
       "      <th>max</th>\n",
       "      <th>count</th>\n",
       "      <th>mean</th>\n",
       "      <th>...</th>\n",
       "      <th>75%</th>\n",
       "      <th>max</th>\n",
       "      <th>count</th>\n",
       "      <th>mean</th>\n",
       "      <th>std</th>\n",
       "      <th>min</th>\n",
       "      <th>25%</th>\n",
       "      <th>50%</th>\n",
       "      <th>75%</th>\n",
       "      <th>max</th>\n",
       "    </tr>\n",
       "    <tr>\n",
       "      <th>Internal Memory</th>\n",
       "      <th></th>\n",
       "      <th></th>\n",
       "      <th></th>\n",
       "      <th></th>\n",
       "      <th></th>\n",
       "      <th></th>\n",
       "      <th></th>\n",
       "      <th></th>\n",
       "      <th></th>\n",
       "      <th></th>\n",
       "      <th></th>\n",
       "      <th></th>\n",
       "      <th></th>\n",
       "      <th></th>\n",
       "      <th></th>\n",
       "      <th></th>\n",
       "      <th></th>\n",
       "      <th></th>\n",
       "      <th></th>\n",
       "      <th></th>\n",
       "      <th></th>\n",
       "    </tr>\n",
       "  </thead>\n",
       "  <tbody>\n",
       "    <tr>\n",
       "      <th>0</th>\n",
       "      <td>1.0</td>\n",
       "      <td>168.000000</td>\n",
       "      <td>NaN</td>\n",
       "      <td>168.0</td>\n",
       "      <td>168.00</td>\n",
       "      <td>168.0</td>\n",
       "      <td>168.00</td>\n",
       "      <td>168.0</td>\n",
       "      <td>1.0</td>\n",
       "      <td>167.000000</td>\n",
       "      <td>...</td>\n",
       "      <td>0.0</td>\n",
       "      <td>0.0</td>\n",
       "      <td>1.0</td>\n",
       "      <td>0.000000</td>\n",
       "      <td>NaN</td>\n",
       "      <td>0.0</td>\n",
       "      <td>0.0</td>\n",
       "      <td>0.0</td>\n",
       "      <td>0.0</td>\n",
       "      <td>0.0</td>\n",
       "    </tr>\n",
       "    <tr>\n",
       "      <th>4</th>\n",
       "      <td>5.0</td>\n",
       "      <td>179.000000</td>\n",
       "      <td>150.038328</td>\n",
       "      <td>63.0</td>\n",
       "      <td>75.00</td>\n",
       "      <td>97.0</td>\n",
       "      <td>248.00</td>\n",
       "      <td>412.0</td>\n",
       "      <td>5.0</td>\n",
       "      <td>192.600000</td>\n",
       "      <td>...</td>\n",
       "      <td>1.0</td>\n",
       "      <td>1.0</td>\n",
       "      <td>5.0</td>\n",
       "      <td>0.000000</td>\n",
       "      <td>0.000000</td>\n",
       "      <td>0.0</td>\n",
       "      <td>0.0</td>\n",
       "      <td>0.0</td>\n",
       "      <td>0.0</td>\n",
       "      <td>0.0</td>\n",
       "    </tr>\n",
       "    <tr>\n",
       "      <th>8</th>\n",
       "      <td>22.0</td>\n",
       "      <td>331.136364</td>\n",
       "      <td>115.556746</td>\n",
       "      <td>83.0</td>\n",
       "      <td>248.50</td>\n",
       "      <td>352.0</td>\n",
       "      <td>438.25</td>\n",
       "      <td>470.0</td>\n",
       "      <td>22.0</td>\n",
       "      <td>237.090909</td>\n",
       "      <td>...</td>\n",
       "      <td>1.0</td>\n",
       "      <td>1.0</td>\n",
       "      <td>22.0</td>\n",
       "      <td>0.000000</td>\n",
       "      <td>0.000000</td>\n",
       "      <td>0.0</td>\n",
       "      <td>0.0</td>\n",
       "      <td>0.0</td>\n",
       "      <td>0.0</td>\n",
       "      <td>0.0</td>\n",
       "    </tr>\n",
       "    <tr>\n",
       "      <th>16</th>\n",
       "      <td>78.0</td>\n",
       "      <td>288.358974</td>\n",
       "      <td>130.357149</td>\n",
       "      <td>8.0</td>\n",
       "      <td>196.00</td>\n",
       "      <td>302.0</td>\n",
       "      <td>400.25</td>\n",
       "      <td>468.0</td>\n",
       "      <td>78.0</td>\n",
       "      <td>302.820513</td>\n",
       "      <td>...</td>\n",
       "      <td>1.0</td>\n",
       "      <td>1.0</td>\n",
       "      <td>78.0</td>\n",
       "      <td>0.000000</td>\n",
       "      <td>0.000000</td>\n",
       "      <td>0.0</td>\n",
       "      <td>0.0</td>\n",
       "      <td>0.0</td>\n",
       "      <td>0.0</td>\n",
       "      <td>0.0</td>\n",
       "    </tr>\n",
       "    <tr>\n",
       "      <th>32</th>\n",
       "      <td>111.0</td>\n",
       "      <td>232.927928</td>\n",
       "      <td>132.668398</td>\n",
       "      <td>1.0</td>\n",
       "      <td>119.50</td>\n",
       "      <td>222.0</td>\n",
       "      <td>350.50</td>\n",
       "      <td>472.0</td>\n",
       "      <td>111.0</td>\n",
       "      <td>342.657658</td>\n",
       "      <td>...</td>\n",
       "      <td>1.0</td>\n",
       "      <td>1.0</td>\n",
       "      <td>111.0</td>\n",
       "      <td>0.000000</td>\n",
       "      <td>0.000000</td>\n",
       "      <td>0.0</td>\n",
       "      <td>0.0</td>\n",
       "      <td>0.0</td>\n",
       "      <td>0.0</td>\n",
       "      <td>0.0</td>\n",
       "    </tr>\n",
       "    <tr>\n",
       "      <th>64</th>\n",
       "      <td>93.0</td>\n",
       "      <td>179.677419</td>\n",
       "      <td>129.953099</td>\n",
       "      <td>0.0</td>\n",
       "      <td>66.00</td>\n",
       "      <td>150.0</td>\n",
       "      <td>282.00</td>\n",
       "      <td>466.0</td>\n",
       "      <td>93.0</td>\n",
       "      <td>389.311828</td>\n",
       "      <td>...</td>\n",
       "      <td>0.0</td>\n",
       "      <td>1.0</td>\n",
       "      <td>93.0</td>\n",
       "      <td>0.010753</td>\n",
       "      <td>0.103695</td>\n",
       "      <td>0.0</td>\n",
       "      <td>0.0</td>\n",
       "      <td>0.0</td>\n",
       "      <td>0.0</td>\n",
       "      <td>1.0</td>\n",
       "    </tr>\n",
       "    <tr>\n",
       "      <th>128</th>\n",
       "      <td>26.0</td>\n",
       "      <td>179.153846</td>\n",
       "      <td>119.259278</td>\n",
       "      <td>14.0</td>\n",
       "      <td>78.25</td>\n",
       "      <td>159.5</td>\n",
       "      <td>247.00</td>\n",
       "      <td>446.0</td>\n",
       "      <td>26.0</td>\n",
       "      <td>422.615385</td>\n",
       "      <td>...</td>\n",
       "      <td>0.0</td>\n",
       "      <td>1.0</td>\n",
       "      <td>26.0</td>\n",
       "      <td>0.000000</td>\n",
       "      <td>0.000000</td>\n",
       "      <td>0.0</td>\n",
       "      <td>0.0</td>\n",
       "      <td>0.0</td>\n",
       "      <td>0.0</td>\n",
       "      <td>0.0</td>\n",
       "    </tr>\n",
       "    <tr>\n",
       "      <th>256</th>\n",
       "      <td>4.0</td>\n",
       "      <td>254.250000</td>\n",
       "      <td>129.813648</td>\n",
       "      <td>73.0</td>\n",
       "      <td>214.75</td>\n",
       "      <td>283.5</td>\n",
       "      <td>323.00</td>\n",
       "      <td>377.0</td>\n",
       "      <td>4.0</td>\n",
       "      <td>431.250000</td>\n",
       "      <td>...</td>\n",
       "      <td>0.0</td>\n",
       "      <td>0.0</td>\n",
       "      <td>4.0</td>\n",
       "      <td>0.000000</td>\n",
       "      <td>0.000000</td>\n",
       "      <td>0.0</td>\n",
       "      <td>0.0</td>\n",
       "      <td>0.0</td>\n",
       "      <td>0.0</td>\n",
       "      <td>0.0</td>\n",
       "    </tr>\n",
       "    <tr>\n",
       "      <th>512</th>\n",
       "      <td>1.0</td>\n",
       "      <td>363.000000</td>\n",
       "      <td>NaN</td>\n",
       "      <td>363.0</td>\n",
       "      <td>363.00</td>\n",
       "      <td>363.0</td>\n",
       "      <td>363.00</td>\n",
       "      <td>363.0</td>\n",
       "      <td>1.0</td>\n",
       "      <td>456.000000</td>\n",
       "      <td>...</td>\n",
       "      <td>0.0</td>\n",
       "      <td>0.0</td>\n",
       "      <td>1.0</td>\n",
       "      <td>0.000000</td>\n",
       "      <td>NaN</td>\n",
       "      <td>0.0</td>\n",
       "      <td>0.0</td>\n",
       "      <td>0.0</td>\n",
       "      <td>0.0</td>\n",
       "      <td>0.0</td>\n",
       "    </tr>\n",
       "  </tbody>\n",
       "</table>\n",
       "<p>9 rows × 672 columns</p>\n",
       "</div>"
      ],
      "text/plain": [
       "                PhoneId                                                        \\\n",
       "                  count        mean         std    min     25%    50%     75%   \n",
       "Internal Memory                                                                 \n",
       "0                   1.0  168.000000         NaN  168.0  168.00  168.0  168.00   \n",
       "4                   5.0  179.000000  150.038328   63.0   75.00   97.0  248.00   \n",
       "8                  22.0  331.136364  115.556746   83.0  248.50  352.0  438.25   \n",
       "16                 78.0  288.358974  130.357149    8.0  196.00  302.0  400.25   \n",
       "32                111.0  232.927928  132.668398    1.0  119.50  222.0  350.50   \n",
       "64                 93.0  179.677419  129.953099    0.0   66.00  150.0  282.00   \n",
       "128                26.0  179.153846  119.259278   14.0   78.25  159.5  247.00   \n",
       "256                 4.0  254.250000  129.813648   73.0  214.75  283.5  323.00   \n",
       "512                 1.0  363.000000         NaN  363.0  363.00  363.0  363.00   \n",
       "\n",
       "                       Pixel Density              ... Num_Cores_Quad       \\\n",
       "                   max         count        mean  ...            75%  max   \n",
       "Internal Memory                                   ...                       \n",
       "0                168.0           1.0  167.000000  ...            0.0  0.0   \n",
       "4                412.0           5.0  192.600000  ...            1.0  1.0   \n",
       "8                470.0          22.0  237.090909  ...            1.0  1.0   \n",
       "16               468.0          78.0  302.820513  ...            1.0  1.0   \n",
       "32               472.0         111.0  342.657658  ...            1.0  1.0   \n",
       "64               466.0          93.0  389.311828  ...            0.0  1.0   \n",
       "128              446.0          26.0  422.615385  ...            0.0  1.0   \n",
       "256              377.0           4.0  431.250000  ...            0.0  0.0   \n",
       "512              363.0           1.0  456.000000  ...            0.0  0.0   \n",
       "\n",
       "                Num_Cores_Tru-Octa                                          \\\n",
       "                             count      mean       std  min  25%  50%  75%   \n",
       "Internal Memory                                                              \n",
       "0                              1.0  0.000000       NaN  0.0  0.0  0.0  0.0   \n",
       "4                              5.0  0.000000  0.000000  0.0  0.0  0.0  0.0   \n",
       "8                             22.0  0.000000  0.000000  0.0  0.0  0.0  0.0   \n",
       "16                            78.0  0.000000  0.000000  0.0  0.0  0.0  0.0   \n",
       "32                           111.0  0.000000  0.000000  0.0  0.0  0.0  0.0   \n",
       "64                            93.0  0.010753  0.103695  0.0  0.0  0.0  0.0   \n",
       "128                           26.0  0.000000  0.000000  0.0  0.0  0.0  0.0   \n",
       "256                            4.0  0.000000  0.000000  0.0  0.0  0.0  0.0   \n",
       "512                            1.0  0.000000       NaN  0.0  0.0  0.0  0.0   \n",
       "\n",
       "                      \n",
       "                 max  \n",
       "Internal Memory       \n",
       "0                0.0  \n",
       "4                0.0  \n",
       "8                0.0  \n",
       "16               0.0  \n",
       "32               0.0  \n",
       "64               1.0  \n",
       "128              0.0  \n",
       "256              0.0  \n",
       "512              0.0  \n",
       "\n",
       "[9 rows x 672 columns]"
      ]
     },
     "execution_count": 33,
     "metadata": {},
     "output_type": "execute_result"
    }
   ],
   "source": [
    "#describing our data with grouping of internal memeory data\n",
    "gb_memory.describe()"
   ]
  },
  {
   "cell_type": "markdown",
   "metadata": {},
   "source": [
    "<font color='BROWN'><font size=\"3\">From here we can conclude that Rating of a phone is<font color='green'><font size=\"4\"><b><u> Directly Proportional </font></b></u> <font color='BROWN'>to Internal memory</font>"
   ]
  },
  {
   "cell_type": "markdown",
   "metadata": {},
   "source": [
    "## Creating a New DataFrame "
   ]
  },
  {
   "cell_type": "code",
   "execution_count": 34,
   "metadata": {},
   "outputs": [],
   "source": [
    "#creating a nested list \n",
    "my_list = [[\"sathish\",10,4.56,],[\"arjun\",45,12.45],[\"thenu\",45,12.6],[\"sundar\",12,45]]"
   ]
  },
  {
   "cell_type": "code",
   "execution_count": 35,
   "metadata": {},
   "outputs": [],
   "source": [
    "#changing my list to dateframe and indexing rows,columns \n",
    "my_df= pd.DataFrame(my_list,index=[\"a\",\"b\",\"c\",\"d\"],columns=[\"name\",\"age\",\"weight\"])"
   ]
  },
  {
   "cell_type": "code",
   "execution_count": 36,
   "metadata": {},
   "outputs": [
    {
     "data": {
      "text/html": [
       "<div>\n",
       "<style scoped>\n",
       "    .dataframe tbody tr th:only-of-type {\n",
       "        vertical-align: middle;\n",
       "    }\n",
       "\n",
       "    .dataframe tbody tr th {\n",
       "        vertical-align: top;\n",
       "    }\n",
       "\n",
       "    .dataframe thead th {\n",
       "        text-align: right;\n",
       "    }\n",
       "</style>\n",
       "<table border=\"1\" class=\"dataframe\">\n",
       "  <thead>\n",
       "    <tr style=\"text-align: right;\">\n",
       "      <th></th>\n",
       "      <th>name</th>\n",
       "      <th>age</th>\n",
       "      <th>weight</th>\n",
       "    </tr>\n",
       "  </thead>\n",
       "  <tbody>\n",
       "    <tr>\n",
       "      <th>a</th>\n",
       "      <td>sathish</td>\n",
       "      <td>10</td>\n",
       "      <td>4.56</td>\n",
       "    </tr>\n",
       "    <tr>\n",
       "      <th>b</th>\n",
       "      <td>arjun</td>\n",
       "      <td>45</td>\n",
       "      <td>12.45</td>\n",
       "    </tr>\n",
       "    <tr>\n",
       "      <th>c</th>\n",
       "      <td>thenu</td>\n",
       "      <td>45</td>\n",
       "      <td>12.60</td>\n",
       "    </tr>\n",
       "    <tr>\n",
       "      <th>d</th>\n",
       "      <td>sundar</td>\n",
       "      <td>12</td>\n",
       "      <td>45.00</td>\n",
       "    </tr>\n",
       "  </tbody>\n",
       "</table>\n",
       "</div>"
      ],
      "text/plain": [
       "      name  age  weight\n",
       "a  sathish   10    4.56\n",
       "b    arjun   45   12.45\n",
       "c    thenu   45   12.60\n",
       "d   sundar   12   45.00"
      ]
     },
     "execution_count": 36,
     "metadata": {},
     "output_type": "execute_result"
    }
   ],
   "source": [
    "#visualizing dataframe\n",
    "my_df.head()"
   ]
  },
  {
   "cell_type": "code",
   "execution_count": 37,
   "metadata": {},
   "outputs": [
    {
     "data": {
      "text/html": [
       "<div>\n",
       "<style scoped>\n",
       "    .dataframe tbody tr th:only-of-type {\n",
       "        vertical-align: middle;\n",
       "    }\n",
       "\n",
       "    .dataframe tbody tr th {\n",
       "        vertical-align: top;\n",
       "    }\n",
       "\n",
       "    .dataframe thead th {\n",
       "        text-align: right;\n",
       "    }\n",
       "</style>\n",
       "<table border=\"1\" class=\"dataframe\">\n",
       "  <thead>\n",
       "    <tr style=\"text-align: right;\">\n",
       "      <th></th>\n",
       "      <th>weight</th>\n",
       "    </tr>\n",
       "  </thead>\n",
       "  <tbody>\n",
       "    <tr>\n",
       "      <th>b</th>\n",
       "      <td>12.45</td>\n",
       "    </tr>\n",
       "  </tbody>\n",
       "</table>\n",
       "</div>"
      ],
      "text/plain": [
       "   weight\n",
       "b   12.45"
      ]
     },
     "execution_count": 37,
     "metadata": {},
     "output_type": "execute_result"
    }
   ],
   "source": [
    "#accesing  a specified row and column in a dataframe\n",
    "my_df.iloc[[1],[2]]"
   ]
  },
  {
   "cell_type": "code",
   "execution_count": 38,
   "metadata": {},
   "outputs": [
    {
     "name": "stderr",
     "output_type": "stream",
     "text": [
      "C:\\Users\\SATHISH\\Anaconda3\\lib\\site-packages\\ipykernel_launcher.py:5: SettingWithCopyWarning: \n",
      "A value is trying to be set on a copy of a slice from a DataFrame\n",
      "\n",
      "See the caveats in the documentation: http://pandas.pydata.org/pandas-docs/stable/indexing.html#indexing-view-versus-copy\n",
      "  \"\"\"\n"
     ]
    }
   ],
   "source": [
    "#search and replace function\n",
    "j = 0\n",
    "for i in my_df[\"name\"]:\n",
    "    if i == \"arjun\":\n",
    "        my_df[\"name\"][j]=\"arun\"\n",
    "    j+=1"
   ]
  },
  {
   "cell_type": "code",
   "execution_count": 39,
   "metadata": {},
   "outputs": [
    {
     "data": {
      "text/html": [
       "<div>\n",
       "<style scoped>\n",
       "    .dataframe tbody tr th:only-of-type {\n",
       "        vertical-align: middle;\n",
       "    }\n",
       "\n",
       "    .dataframe tbody tr th {\n",
       "        vertical-align: top;\n",
       "    }\n",
       "\n",
       "    .dataframe thead th {\n",
       "        text-align: right;\n",
       "    }\n",
       "</style>\n",
       "<table border=\"1\" class=\"dataframe\">\n",
       "  <thead>\n",
       "    <tr style=\"text-align: right;\">\n",
       "      <th></th>\n",
       "      <th>name</th>\n",
       "      <th>age</th>\n",
       "      <th>weight</th>\n",
       "    </tr>\n",
       "  </thead>\n",
       "  <tbody>\n",
       "    <tr>\n",
       "      <th>a</th>\n",
       "      <td>sathish</td>\n",
       "      <td>10</td>\n",
       "      <td>4.56</td>\n",
       "    </tr>\n",
       "    <tr>\n",
       "      <th>b</th>\n",
       "      <td>arun</td>\n",
       "      <td>45</td>\n",
       "      <td>12.45</td>\n",
       "    </tr>\n",
       "    <tr>\n",
       "      <th>c</th>\n",
       "      <td>thenu</td>\n",
       "      <td>45</td>\n",
       "      <td>12.60</td>\n",
       "    </tr>\n",
       "    <tr>\n",
       "      <th>d</th>\n",
       "      <td>sundar</td>\n",
       "      <td>12</td>\n",
       "      <td>45.00</td>\n",
       "    </tr>\n",
       "  </tbody>\n",
       "</table>\n",
       "</div>"
      ],
      "text/plain": [
       "      name  age  weight\n",
       "a  sathish   10    4.56\n",
       "b     arun   45   12.45\n",
       "c    thenu   45   12.60\n",
       "d   sundar   12   45.00"
      ]
     },
     "execution_count": 39,
     "metadata": {},
     "output_type": "execute_result"
    }
   ],
   "source": [
    "#here arjun to arun as we use function to do it\n",
    "my_df"
   ]
  },
  {
   "cell_type": "code",
   "execution_count": 40,
   "metadata": {},
   "outputs": [
    {
     "data": {
      "text/html": [
       "<div>\n",
       "<style scoped>\n",
       "    .dataframe tbody tr th:only-of-type {\n",
       "        vertical-align: middle;\n",
       "    }\n",
       "\n",
       "    .dataframe tbody tr th {\n",
       "        vertical-align: top;\n",
       "    }\n",
       "\n",
       "    .dataframe thead th {\n",
       "        text-align: right;\n",
       "    }\n",
       "</style>\n",
       "<table border=\"1\" class=\"dataframe\">\n",
       "  <thead>\n",
       "    <tr style=\"text-align: right;\">\n",
       "      <th></th>\n",
       "      <th>name</th>\n",
       "      <th>age</th>\n",
       "      <th>weight</th>\n",
       "    </tr>\n",
       "  </thead>\n",
       "  <tbody>\n",
       "    <tr>\n",
       "      <th>0</th>\n",
       "      <td>sathish</td>\n",
       "      <td>10</td>\n",
       "      <td>4.56</td>\n",
       "    </tr>\n",
       "    <tr>\n",
       "      <th>1</th>\n",
       "      <td>arun</td>\n",
       "      <td>45</td>\n",
       "      <td>12.45</td>\n",
       "    </tr>\n",
       "    <tr>\n",
       "      <th>2</th>\n",
       "      <td>thenu</td>\n",
       "      <td>45</td>\n",
       "      <td>12.60</td>\n",
       "    </tr>\n",
       "    <tr>\n",
       "      <th>3</th>\n",
       "      <td>sundar</td>\n",
       "      <td>12</td>\n",
       "      <td>45.00</td>\n",
       "    </tr>\n",
       "    <tr>\n",
       "      <th>4</th>\n",
       "      <td>arjun</td>\n",
       "      <td>56</td>\n",
       "      <td>45.00</td>\n",
       "    </tr>\n",
       "  </tbody>\n",
       "</table>\n",
       "</div>"
      ],
      "text/plain": [
       "      name  age  weight\n",
       "0  sathish   10    4.56\n",
       "1     arun   45   12.45\n",
       "2    thenu   45   12.60\n",
       "3   sundar   12   45.00\n",
       "4    arjun   56   45.00"
      ]
     },
     "execution_count": 40,
     "metadata": {},
     "output_type": "execute_result"
    }
   ],
   "source": [
    "#appending a new row to our dataframe\n",
    "my_df.append({'name':\"arjun\", 'age':56,\"weight\":45 }, ignore_index=True)\n"
   ]
  },
  {
   "cell_type": "code",
   "execution_count": 41,
   "metadata": {},
   "outputs": [
    {
     "name": "stdout",
     "output_type": "stream",
     "text": [
      "<class 'pandas.core.frame.DataFrame'>\n",
      "Index: 4 entries, a to d\n",
      "Data columns (total 3 columns):\n",
      "name      4 non-null object\n",
      "age       4 non-null int64\n",
      "weight    4 non-null float64\n",
      "dtypes: float64(1), int64(1), object(1)\n",
      "memory usage: 288.0+ bytes\n"
     ]
    }
   ],
   "source": [
    "#short summary of our dataframe\n",
    "my_df.info()"
   ]
  },
  {
   "cell_type": "code",
   "execution_count": 42,
   "metadata": {},
   "outputs": [
    {
     "data": {
      "text/html": [
       "<div>\n",
       "<style scoped>\n",
       "    .dataframe tbody tr th:only-of-type {\n",
       "        vertical-align: middle;\n",
       "    }\n",
       "\n",
       "    .dataframe tbody tr th {\n",
       "        vertical-align: top;\n",
       "    }\n",
       "\n",
       "    .dataframe thead th {\n",
       "        text-align: right;\n",
       "    }\n",
       "</style>\n",
       "<table border=\"1\" class=\"dataframe\">\n",
       "  <thead>\n",
       "    <tr style=\"text-align: right;\">\n",
       "      <th></th>\n",
       "      <th>age</th>\n",
       "      <th>weight</th>\n",
       "    </tr>\n",
       "  </thead>\n",
       "  <tbody>\n",
       "    <tr>\n",
       "      <th>count</th>\n",
       "      <td>4.000000</td>\n",
       "      <td>4.000000</td>\n",
       "    </tr>\n",
       "    <tr>\n",
       "      <th>mean</th>\n",
       "      <td>28.000000</td>\n",
       "      <td>18.652500</td>\n",
       "    </tr>\n",
       "    <tr>\n",
       "      <th>std</th>\n",
       "      <td>19.646883</td>\n",
       "      <td>17.961933</td>\n",
       "    </tr>\n",
       "    <tr>\n",
       "      <th>min</th>\n",
       "      <td>10.000000</td>\n",
       "      <td>4.560000</td>\n",
       "    </tr>\n",
       "    <tr>\n",
       "      <th>25%</th>\n",
       "      <td>11.500000</td>\n",
       "      <td>10.477500</td>\n",
       "    </tr>\n",
       "    <tr>\n",
       "      <th>50%</th>\n",
       "      <td>28.500000</td>\n",
       "      <td>12.525000</td>\n",
       "    </tr>\n",
       "    <tr>\n",
       "      <th>75%</th>\n",
       "      <td>45.000000</td>\n",
       "      <td>20.700000</td>\n",
       "    </tr>\n",
       "    <tr>\n",
       "      <th>max</th>\n",
       "      <td>45.000000</td>\n",
       "      <td>45.000000</td>\n",
       "    </tr>\n",
       "  </tbody>\n",
       "</table>\n",
       "</div>"
      ],
      "text/plain": [
       "             age     weight\n",
       "count   4.000000   4.000000\n",
       "mean   28.000000  18.652500\n",
       "std    19.646883  17.961933\n",
       "min    10.000000   4.560000\n",
       "25%    11.500000  10.477500\n",
       "50%    28.500000  12.525000\n",
       "75%    45.000000  20.700000\n",
       "max    45.000000  45.000000"
      ]
     },
     "execution_count": 42,
     "metadata": {},
     "output_type": "execute_result"
    }
   ],
   "source": [
    "#describing basic things for only numerical data \n",
    "my_df.describe()"
   ]
  },
  {
   "cell_type": "code",
   "execution_count": 43,
   "metadata": {},
   "outputs": [],
   "source": [
    "#temporarily droppin a row\n",
    "drop = my_df.drop(\"b\")"
   ]
  },
  {
   "cell_type": "code",
   "execution_count": 44,
   "metadata": {},
   "outputs": [
    {
     "data": {
      "text/html": [
       "<div>\n",
       "<style scoped>\n",
       "    .dataframe tbody tr th:only-of-type {\n",
       "        vertical-align: middle;\n",
       "    }\n",
       "\n",
       "    .dataframe tbody tr th {\n",
       "        vertical-align: top;\n",
       "    }\n",
       "\n",
       "    .dataframe thead th {\n",
       "        text-align: right;\n",
       "    }\n",
       "</style>\n",
       "<table border=\"1\" class=\"dataframe\">\n",
       "  <thead>\n",
       "    <tr style=\"text-align: right;\">\n",
       "      <th></th>\n",
       "      <th>name</th>\n",
       "      <th>age</th>\n",
       "      <th>weight</th>\n",
       "    </tr>\n",
       "  </thead>\n",
       "  <tbody>\n",
       "    <tr>\n",
       "      <th>a</th>\n",
       "      <td>sathish</td>\n",
       "      <td>10</td>\n",
       "      <td>4.56</td>\n",
       "    </tr>\n",
       "    <tr>\n",
       "      <th>c</th>\n",
       "      <td>thenu</td>\n",
       "      <td>45</td>\n",
       "      <td>12.60</td>\n",
       "    </tr>\n",
       "    <tr>\n",
       "      <th>d</th>\n",
       "      <td>sundar</td>\n",
       "      <td>12</td>\n",
       "      <td>45.00</td>\n",
       "    </tr>\n",
       "  </tbody>\n",
       "</table>\n",
       "</div>"
      ],
      "text/plain": [
       "      name  age  weight\n",
       "a  sathish   10    4.56\n",
       "c    thenu   45   12.60\n",
       "d   sundar   12   45.00"
      ]
     },
     "execution_count": 44,
     "metadata": {},
     "output_type": "execute_result"
    }
   ],
   "source": [
    "#display dataframe after droppina a row\n",
    "drop.head()"
   ]
  },
  {
   "cell_type": "code",
   "execution_count": 45,
   "metadata": {},
   "outputs": [],
   "source": [
    "#permanently deleting  a column\n",
    "del my_df[\"weight\"]"
   ]
  },
  {
   "cell_type": "code",
   "execution_count": 46,
   "metadata": {},
   "outputs": [
    {
     "data": {
      "text/html": [
       "<div>\n",
       "<style scoped>\n",
       "    .dataframe tbody tr th:only-of-type {\n",
       "        vertical-align: middle;\n",
       "    }\n",
       "\n",
       "    .dataframe tbody tr th {\n",
       "        vertical-align: top;\n",
       "    }\n",
       "\n",
       "    .dataframe thead th {\n",
       "        text-align: right;\n",
       "    }\n",
       "</style>\n",
       "<table border=\"1\" class=\"dataframe\">\n",
       "  <thead>\n",
       "    <tr style=\"text-align: right;\">\n",
       "      <th></th>\n",
       "      <th>name</th>\n",
       "      <th>age</th>\n",
       "    </tr>\n",
       "  </thead>\n",
       "  <tbody>\n",
       "    <tr>\n",
       "      <th>a</th>\n",
       "      <td>sathish</td>\n",
       "      <td>10</td>\n",
       "    </tr>\n",
       "    <tr>\n",
       "      <th>b</th>\n",
       "      <td>arun</td>\n",
       "      <td>45</td>\n",
       "    </tr>\n",
       "    <tr>\n",
       "      <th>c</th>\n",
       "      <td>thenu</td>\n",
       "      <td>45</td>\n",
       "    </tr>\n",
       "    <tr>\n",
       "      <th>d</th>\n",
       "      <td>sundar</td>\n",
       "      <td>12</td>\n",
       "    </tr>\n",
       "  </tbody>\n",
       "</table>\n",
       "</div>"
      ],
      "text/plain": [
       "      name  age\n",
       "a  sathish   10\n",
       "b     arun   45\n",
       "c    thenu   45\n",
       "d   sundar   12"
      ]
     },
     "execution_count": 46,
     "metadata": {},
     "output_type": "execute_result"
    }
   ],
   "source": [
    "my_df.head()"
   ]
  },
  {
   "cell_type": "markdown",
   "metadata": {},
   "source": [
    "## Writing DataSets to excel file(Single Sheet)"
   ]
  },
  {
   "cell_type": "code",
   "execution_count": 47,
   "metadata": {},
   "outputs": [],
   "source": [
    "#write to a excel file \n",
    "my_df.to_excel(\"Dataset_written.xlsx\",sheet_name = \"First Page\")\n"
   ]
  },
  {
   "cell_type": "markdown",
   "metadata": {},
   "source": [
    "## Writing DataSets to excel file(Multiple Sheets)"
   ]
  },
  {
   "cell_type": "code",
   "execution_count": 48,
   "metadata": {},
   "outputs": [],
   "source": [
    "with pd.ExcelWriter(\"Mob_data_multisheets.xlsx\") as pages:\n",
    "    mob_data_encoded[[\"PhoneId\", \"Rating\"]].to_excel(pages,sheet_name=\"Ratings\")\n",
    "    mob_data_encoded[[\"PhoneId\", \"Screen Size\"]].to_excel(pages,sheet_name=\"ScreenSize\")"
   ]
  },
  {
   "cell_type": "code",
   "execution_count": 49,
   "metadata": {},
   "outputs": [],
   "source": [
    "#opening a file written by us\n",
    "copy_my_df = pd.read_excel(\"Dataset_written.xlsx\")"
   ]
  },
  {
   "cell_type": "code",
   "execution_count": 50,
   "metadata": {},
   "outputs": [
    {
     "data": {
      "text/html": [
       "<div>\n",
       "<style scoped>\n",
       "    .dataframe tbody tr th:only-of-type {\n",
       "        vertical-align: middle;\n",
       "    }\n",
       "\n",
       "    .dataframe tbody tr th {\n",
       "        vertical-align: top;\n",
       "    }\n",
       "\n",
       "    .dataframe thead th {\n",
       "        text-align: right;\n",
       "    }\n",
       "</style>\n",
       "<table border=\"1\" class=\"dataframe\">\n",
       "  <thead>\n",
       "    <tr style=\"text-align: right;\">\n",
       "      <th></th>\n",
       "      <th>Unnamed: 0</th>\n",
       "      <th>name</th>\n",
       "      <th>age</th>\n",
       "    </tr>\n",
       "  </thead>\n",
       "  <tbody>\n",
       "    <tr>\n",
       "      <th>0</th>\n",
       "      <td>a</td>\n",
       "      <td>sathish</td>\n",
       "      <td>10</td>\n",
       "    </tr>\n",
       "    <tr>\n",
       "      <th>1</th>\n",
       "      <td>b</td>\n",
       "      <td>arun</td>\n",
       "      <td>45</td>\n",
       "    </tr>\n",
       "    <tr>\n",
       "      <th>2</th>\n",
       "      <td>c</td>\n",
       "      <td>thenu</td>\n",
       "      <td>45</td>\n",
       "    </tr>\n",
       "    <tr>\n",
       "      <th>3</th>\n",
       "      <td>d</td>\n",
       "      <td>sundar</td>\n",
       "      <td>12</td>\n",
       "    </tr>\n",
       "  </tbody>\n",
       "</table>\n",
       "</div>"
      ],
      "text/plain": [
       "  Unnamed: 0     name  age\n",
       "0          a  sathish   10\n",
       "1          b     arun   45\n",
       "2          c    thenu   45\n",
       "3          d   sundar   12"
      ]
     },
     "execution_count": 50,
     "metadata": {},
     "output_type": "execute_result"
    }
   ],
   "source": [
    "#same data is displayed\n",
    "copy_my_df.head()"
   ]
  },
  {
   "cell_type": "markdown",
   "metadata": {},
   "source": [
    "## Cleansing Data\n"
   ]
  },
  {
   "cell_type": "code",
   "execution_count": 51,
   "metadata": {},
   "outputs": [],
   "source": [
    "#opening our csv which has to cleaned\n",
    "mob_data_toBe_cleaned = pd.read_csv(\"Mobile_Data_To_be_Cleaned.csv\")"
   ]
  },
  {
   "cell_type": "code",
   "execution_count": 52,
   "metadata": {},
   "outputs": [
    {
     "data": {
      "text/html": [
       "<div>\n",
       "<style scoped>\n",
       "    .dataframe tbody tr th:only-of-type {\n",
       "        vertical-align: middle;\n",
       "    }\n",
       "\n",
       "    .dataframe tbody tr th {\n",
       "        vertical-align: top;\n",
       "    }\n",
       "\n",
       "    .dataframe thead th {\n",
       "        text-align: right;\n",
       "    }\n",
       "</style>\n",
       "<table border=\"1\" class=\"dataframe\">\n",
       "  <thead>\n",
       "    <tr style=\"text-align: right;\">\n",
       "      <th></th>\n",
       "      <th>PhoneId</th>\n",
       "      <th>Pixel Density</th>\n",
       "      <th>Screen Size</th>\n",
       "      <th>Weight</th>\n",
       "      <th>RAM</th>\n",
       "      <th>Processor_frequency</th>\n",
       "      <th>Screen to Body Ratio (calculated)</th>\n",
       "      <th>Height</th>\n",
       "      <th>Internal Memory</th>\n",
       "      <th>Capacity</th>\n",
       "      <th>Resolution</th>\n",
       "      <th>Rating</th>\n",
       "      <th>Brand</th>\n",
       "      <th>OS Name</th>\n",
       "      <th>Sim 1</th>\n",
       "      <th>Sim 2</th>\n",
       "      <th>SIM Slot</th>\n",
       "      <th>Processesor</th>\n",
       "    </tr>\n",
       "  </thead>\n",
       "  <tbody>\n",
       "    <tr>\n",
       "      <th>0</th>\n",
       "      <td>0</td>\n",
       "      <td>403</td>\n",
       "      <td>6.26</td>\n",
       "      <td>182.0</td>\n",
       "      <td>4.0</td>\n",
       "      <td>1.8</td>\n",
       "      <td>80.68</td>\n",
       "      <td>157.9</td>\n",
       "      <td>64.0</td>\n",
       "      <td>4000.0</td>\n",
       "      <td>20.0</td>\n",
       "      <td>4.5</td>\n",
       "      <td>Xiaomi</td>\n",
       "      <td>Android</td>\n",
       "      <td>4G</td>\n",
       "      <td>4G</td>\n",
       "      <td>Dual SIM, GSM+GSM, Dual VoLTE</td>\n",
       "      <td>Octa</td>\n",
       "    </tr>\n",
       "    <tr>\n",
       "      <th>1</th>\n",
       "      <td>1</td>\n",
       "      <td>271</td>\n",
       "      <td>6.20</td>\n",
       "      <td>168.0</td>\n",
       "      <td>3.0</td>\n",
       "      <td>1.8</td>\n",
       "      <td>80.85</td>\n",
       "      <td>156.2</td>\n",
       "      <td>32.0</td>\n",
       "      <td>4230.0</td>\n",
       "      <td>8.0</td>\n",
       "      <td>4.5</td>\n",
       "      <td>Realme</td>\n",
       "      <td>Android</td>\n",
       "      <td>4G</td>\n",
       "      <td>4G</td>\n",
       "      <td>Dual SIM, GSM+GSM, Dual VoLTE</td>\n",
       "      <td>Octa</td>\n",
       "    </tr>\n",
       "    <tr>\n",
       "      <th>2</th>\n",
       "      <td>2</td>\n",
       "      <td>409</td>\n",
       "      <td>6.30</td>\n",
       "      <td>168.0</td>\n",
       "      <td>3.0</td>\n",
       "      <td>2.1</td>\n",
       "      <td>83.68</td>\n",
       "      <td>157.0</td>\n",
       "      <td>32.0</td>\n",
       "      <td>3500.0</td>\n",
       "      <td>25.0</td>\n",
       "      <td>4.4</td>\n",
       "      <td>Realme</td>\n",
       "      <td>Android</td>\n",
       "      <td>4G</td>\n",
       "      <td>4G</td>\n",
       "      <td>Dual SIM, GSM+GSM, Dual VoLTE</td>\n",
       "      <td>Octa</td>\n",
       "    </tr>\n",
       "    <tr>\n",
       "      <th>3</th>\n",
       "      <td>4</td>\n",
       "      <td>411</td>\n",
       "      <td>6.00</td>\n",
       "      <td>169.0</td>\n",
       "      <td>4.0</td>\n",
       "      <td>2.2</td>\n",
       "      <td>74.78</td>\n",
       "      <td>159.8</td>\n",
       "      <td>64.0</td>\n",
       "      <td>3300.0</td>\n",
       "      <td>24.0</td>\n",
       "      <td>4.3</td>\n",
       "      <td>Samsung</td>\n",
       "      <td>Android</td>\n",
       "      <td>4G</td>\n",
       "      <td>4G</td>\n",
       "      <td>Dual SIM, GSM+GSM</td>\n",
       "      <td>Octa</td>\n",
       "    </tr>\n",
       "    <tr>\n",
       "      <th>4</th>\n",
       "      <td>5</td>\n",
       "      <td>396</td>\n",
       "      <td>6.50</td>\n",
       "      <td>175.0</td>\n",
       "      <td>4.0</td>\n",
       "      <td>2.2</td>\n",
       "      <td>84.23</td>\n",
       "      <td>160.4</td>\n",
       "      <td>64.0</td>\n",
       "      <td>3750.0</td>\n",
       "      <td>16.0</td>\n",
       "      <td>4.4</td>\n",
       "      <td>Honor</td>\n",
       "      <td>Android</td>\n",
       "      <td>4G</td>\n",
       "      <td>4G</td>\n",
       "      <td>Dual SIM, GSM+GSM, Dual VoLTE</td>\n",
       "      <td>Octa</td>\n",
       "    </tr>\n",
       "  </tbody>\n",
       "</table>\n",
       "</div>"
      ],
      "text/plain": [
       "   PhoneId  Pixel Density  Screen Size  Weight  RAM  Processor_frequency  \\\n",
       "0        0            403         6.26   182.0  4.0                  1.8   \n",
       "1        1            271         6.20   168.0  3.0                  1.8   \n",
       "2        2            409         6.30   168.0  3.0                  2.1   \n",
       "3        4            411         6.00   169.0  4.0                  2.2   \n",
       "4        5            396         6.50   175.0  4.0                  2.2   \n",
       "\n",
       "   Screen to Body Ratio (calculated)  Height  Internal Memory  Capacity  \\\n",
       "0                              80.68   157.9             64.0    4000.0   \n",
       "1                              80.85   156.2             32.0    4230.0   \n",
       "2                              83.68   157.0             32.0    3500.0   \n",
       "3                              74.78   159.8             64.0    3300.0   \n",
       "4                              84.23   160.4             64.0    3750.0   \n",
       "\n",
       "   Resolution  Rating    Brand  OS Name Sim 1 Sim 2  \\\n",
       "0        20.0     4.5   Xiaomi  Android    4G    4G   \n",
       "1         8.0     4.5   Realme  Android    4G    4G   \n",
       "2        25.0     4.4   Realme  Android    4G    4G   \n",
       "3        24.0     4.3  Samsung  Android    4G    4G   \n",
       "4        16.0     4.4    Honor  Android    4G    4G   \n",
       "\n",
       "                        SIM Slot Processesor  \n",
       "0  Dual SIM, GSM+GSM, Dual VoLTE        Octa  \n",
       "1  Dual SIM, GSM+GSM, Dual VoLTE        Octa  \n",
       "2  Dual SIM, GSM+GSM, Dual VoLTE        Octa  \n",
       "3              Dual SIM, GSM+GSM        Octa  \n",
       "4  Dual SIM, GSM+GSM, Dual VoLTE        Octa  "
      ]
     },
     "execution_count": 52,
     "metadata": {},
     "output_type": "execute_result"
    }
   ],
   "source": [
    "mob_data_toBe_cleaned.head()"
   ]
  },
  {
   "cell_type": "code",
   "execution_count": 53,
   "metadata": {},
   "outputs": [
    {
     "name": "stdout",
     "output_type": "stream",
     "text": [
      "<class 'pandas.core.frame.DataFrame'>\n",
      "RangeIndex: 341 entries, 0 to 340\n",
      "Data columns (total 18 columns):\n",
      "PhoneId                              341 non-null int64\n",
      "Pixel Density                        341 non-null int64\n",
      "Screen Size                          327 non-null float64\n",
      "Weight                               325 non-null float64\n",
      "RAM                                  322 non-null float64\n",
      "Processor_frequency                  325 non-null float64\n",
      "Screen to Body Ratio (calculated)    318 non-null float64\n",
      "Height                               317 non-null float64\n",
      "Internal Memory                      335 non-null float64\n",
      "Capacity                             327 non-null float64\n",
      "Resolution                           337 non-null float64\n",
      "Rating                               339 non-null float64\n",
      "Brand                                341 non-null object\n",
      "OS Name                              341 non-null object\n",
      "Sim 1                                341 non-null object\n",
      "Sim 2                                341 non-null object\n",
      "SIM Slot                             341 non-null object\n",
      "Processesor                          341 non-null object\n",
      "dtypes: float64(10), int64(2), object(6)\n",
      "memory usage: 48.0+ KB\n"
     ]
    }
   ],
   "source": [
    "#short summary to visualize data\n",
    "mob_data_toBe_cleaned.info()"
   ]
  },
  {
   "cell_type": "markdown",
   "metadata": {},
   "source": [
    " <font color='BROWN'><font size=\"3\">From this Short Summary we see that many columns like 'Screen Size', 'Weight', 'Ram', etc. have blank values in some of the rows. So we have to clean them appropriately such that no column is left blank before <font color = \"Green\" > <B> NORMALIZATION </font>"
   ]
  },
  {
   "cell_type": "code",
   "execution_count": 54,
   "metadata": {
    "scrolled": false
   },
   "outputs": [
    {
     "data": {
      "text/html": [
       "<div>\n",
       "<style scoped>\n",
       "    .dataframe tbody tr th:only-of-type {\n",
       "        vertical-align: middle;\n",
       "    }\n",
       "\n",
       "    .dataframe tbody tr th {\n",
       "        vertical-align: top;\n",
       "    }\n",
       "\n",
       "    .dataframe thead th {\n",
       "        text-align: right;\n",
       "    }\n",
       "</style>\n",
       "<table border=\"1\" class=\"dataframe\">\n",
       "  <thead>\n",
       "    <tr style=\"text-align: right;\">\n",
       "      <th></th>\n",
       "      <th>PhoneId</th>\n",
       "      <th>Pixel Density</th>\n",
       "      <th>Screen Size</th>\n",
       "      <th>Weight</th>\n",
       "      <th>RAM</th>\n",
       "      <th>Processor_frequency</th>\n",
       "      <th>Screen to Body Ratio (calculated)</th>\n",
       "      <th>Height</th>\n",
       "      <th>Internal Memory</th>\n",
       "      <th>Capacity</th>\n",
       "      <th>Resolution</th>\n",
       "      <th>Rating</th>\n",
       "      <th>Brand</th>\n",
       "      <th>OS Name</th>\n",
       "      <th>Sim 1</th>\n",
       "      <th>Sim 2</th>\n",
       "      <th>SIM Slot</th>\n",
       "      <th>Processesor</th>\n",
       "    </tr>\n",
       "  </thead>\n",
       "  <tbody>\n",
       "    <tr>\n",
       "      <th>310</th>\n",
       "      <td>427</td>\n",
       "      <td>294</td>\n",
       "      <td>5.0</td>\n",
       "      <td>161.0</td>\n",
       "      <td>1.0</td>\n",
       "      <td>1.3</td>\n",
       "      <td>67.25</td>\n",
       "      <td>143.000000</td>\n",
       "      <td>8.0</td>\n",
       "      <td>NaN</td>\n",
       "      <td>2.0</td>\n",
       "      <td>3.5</td>\n",
       "      <td>Karbonn</td>\n",
       "      <td>Android</td>\n",
       "      <td>4G</td>\n",
       "      <td>2G</td>\n",
       "      <td>Dual SIM, GSM+GSM</td>\n",
       "      <td>Quad</td>\n",
       "    </tr>\n",
       "    <tr>\n",
       "      <th>311</th>\n",
       "      <td>429</td>\n",
       "      <td>294</td>\n",
       "      <td>5.0</td>\n",
       "      <td>161.0</td>\n",
       "      <td>2.0</td>\n",
       "      <td>1.0</td>\n",
       "      <td>66.78</td>\n",
       "      <td>143.800000</td>\n",
       "      <td>16.0</td>\n",
       "      <td>3500.0</td>\n",
       "      <td>5.0</td>\n",
       "      <td>4.1</td>\n",
       "      <td>Moto</td>\n",
       "      <td>Android</td>\n",
       "      <td>4G</td>\n",
       "      <td>4G</td>\n",
       "      <td>Dual SIM, GSM+GSM</td>\n",
       "      <td>Quad</td>\n",
       "    </tr>\n",
       "    <tr>\n",
       "      <th>312</th>\n",
       "      <td>431</td>\n",
       "      <td>544</td>\n",
       "      <td>5.4</td>\n",
       "      <td>192.0</td>\n",
       "      <td>3.0</td>\n",
       "      <td>1.8</td>\n",
       "      <td>NaN</td>\n",
       "      <td>147.000000</td>\n",
       "      <td>32.0</td>\n",
       "      <td>3410.0</td>\n",
       "      <td>2.0</td>\n",
       "      <td>3.7</td>\n",
       "      <td>Blackberry</td>\n",
       "      <td>Android</td>\n",
       "      <td>4G</td>\n",
       "      <td>Other</td>\n",
       "      <td>Single SIM, GSM</td>\n",
       "      <td>Hexa</td>\n",
       "    </tr>\n",
       "    <tr>\n",
       "      <th>313</th>\n",
       "      <td>435</td>\n",
       "      <td>293</td>\n",
       "      <td>5.5</td>\n",
       "      <td>161.0</td>\n",
       "      <td>2.0</td>\n",
       "      <td>1.5</td>\n",
       "      <td>72.35</td>\n",
       "      <td>149.946394</td>\n",
       "      <td>16.0</td>\n",
       "      <td>3050.0</td>\n",
       "      <td>8.0</td>\n",
       "      <td>4.4</td>\n",
       "      <td>Tecno</td>\n",
       "      <td>Android</td>\n",
       "      <td>4G</td>\n",
       "      <td>2G</td>\n",
       "      <td>Dual SIM, GSM+GSM</td>\n",
       "      <td>Quad</td>\n",
       "    </tr>\n",
       "    <tr>\n",
       "      <th>314</th>\n",
       "      <td>436</td>\n",
       "      <td>401</td>\n",
       "      <td>5.5</td>\n",
       "      <td>NaN</td>\n",
       "      <td>3.0</td>\n",
       "      <td>2.0</td>\n",
       "      <td>71.55</td>\n",
       "      <td>NaN</td>\n",
       "      <td>32.0</td>\n",
       "      <td>5100.0</td>\n",
       "      <td>5.0</td>\n",
       "      <td>4.3</td>\n",
       "      <td>Lenovo</td>\n",
       "      <td>Android</td>\n",
       "      <td>4G</td>\n",
       "      <td>4G</td>\n",
       "      <td>Dual SIM, GSM+GSM</td>\n",
       "      <td>Octa</td>\n",
       "    </tr>\n",
       "  </tbody>\n",
       "</table>\n",
       "</div>"
      ],
      "text/plain": [
       "     PhoneId  Pixel Density  Screen Size  Weight  RAM  Processor_frequency  \\\n",
       "310      427            294          5.0   161.0  1.0                  1.3   \n",
       "311      429            294          5.0   161.0  2.0                  1.0   \n",
       "312      431            544          5.4   192.0  3.0                  1.8   \n",
       "313      435            293          5.5   161.0  2.0                  1.5   \n",
       "314      436            401          5.5     NaN  3.0                  2.0   \n",
       "\n",
       "     Screen to Body Ratio (calculated)      Height  Internal Memory  Capacity  \\\n",
       "310                              67.25  143.000000              8.0       NaN   \n",
       "311                              66.78  143.800000             16.0    3500.0   \n",
       "312                                NaN  147.000000             32.0    3410.0   \n",
       "313                              72.35  149.946394             16.0    3050.0   \n",
       "314                              71.55         NaN             32.0    5100.0   \n",
       "\n",
       "     Resolution  Rating       Brand  OS Name Sim 1  Sim 2           SIM Slot  \\\n",
       "310         2.0     3.5     Karbonn  Android    4G     2G  Dual SIM, GSM+GSM   \n",
       "311         5.0     4.1        Moto  Android    4G     4G  Dual SIM, GSM+GSM   \n",
       "312         2.0     3.7  Blackberry  Android    4G  Other    Single SIM, GSM   \n",
       "313         8.0     4.4       Tecno  Android    4G     2G  Dual SIM, GSM+GSM   \n",
       "314         5.0     4.3      Lenovo  Android    4G     4G  Dual SIM, GSM+GSM   \n",
       "\n",
       "    Processesor  \n",
       "310        Quad  \n",
       "311        Quad  \n",
       "312        Hexa  \n",
       "313        Quad  \n",
       "314        Octa  "
      ]
     },
     "execution_count": 54,
     "metadata": {},
     "output_type": "execute_result"
    }
   ],
   "source": [
    "#replacing blank values to NaN\n",
    "mob_data_toBe_cleaned.replace(r'', np.NaN)[310:315]\n"
   ]
  },
  {
   "cell_type": "code",
   "execution_count": 55,
   "metadata": {},
   "outputs": [
    {
     "data": {
      "text/html": [
       "<div>\n",
       "<style scoped>\n",
       "    .dataframe tbody tr th:only-of-type {\n",
       "        vertical-align: middle;\n",
       "    }\n",
       "\n",
       "    .dataframe tbody tr th {\n",
       "        vertical-align: top;\n",
       "    }\n",
       "\n",
       "    .dataframe thead th {\n",
       "        text-align: right;\n",
       "    }\n",
       "</style>\n",
       "<table border=\"1\" class=\"dataframe\">\n",
       "  <thead>\n",
       "    <tr style=\"text-align: right;\">\n",
       "      <th></th>\n",
       "      <th>PhoneId</th>\n",
       "      <th>Pixel Density</th>\n",
       "      <th>Screen Size</th>\n",
       "      <th>Weight</th>\n",
       "      <th>RAM</th>\n",
       "      <th>Processor_frequency</th>\n",
       "      <th>Screen to Body Ratio (calculated)</th>\n",
       "      <th>Height</th>\n",
       "      <th>Internal Memory</th>\n",
       "      <th>Capacity</th>\n",
       "      <th>Resolution</th>\n",
       "      <th>Rating</th>\n",
       "      <th>Brand</th>\n",
       "      <th>OS Name</th>\n",
       "      <th>Sim 1</th>\n",
       "      <th>Sim 2</th>\n",
       "      <th>SIM Slot</th>\n",
       "      <th>Processesor</th>\n",
       "    </tr>\n",
       "  </thead>\n",
       "  <tbody>\n",
       "    <tr>\n",
       "      <th>310</th>\n",
       "      <td>427</td>\n",
       "      <td>294</td>\n",
       "      <td>5</td>\n",
       "      <td>161</td>\n",
       "      <td>1</td>\n",
       "      <td>1.3</td>\n",
       "      <td>67.25</td>\n",
       "      <td>143</td>\n",
       "      <td>8</td>\n",
       "      <td>Not Available</td>\n",
       "      <td>2</td>\n",
       "      <td>3.5</td>\n",
       "      <td>Karbonn</td>\n",
       "      <td>Android</td>\n",
       "      <td>4G</td>\n",
       "      <td>2G</td>\n",
       "      <td>Dual SIM, GSM+GSM</td>\n",
       "      <td>Quad</td>\n",
       "    </tr>\n",
       "    <tr>\n",
       "      <th>311</th>\n",
       "      <td>429</td>\n",
       "      <td>294</td>\n",
       "      <td>5</td>\n",
       "      <td>161</td>\n",
       "      <td>2</td>\n",
       "      <td>1</td>\n",
       "      <td>66.78</td>\n",
       "      <td>143.8</td>\n",
       "      <td>16</td>\n",
       "      <td>3500</td>\n",
       "      <td>5</td>\n",
       "      <td>4.1</td>\n",
       "      <td>Moto</td>\n",
       "      <td>Android</td>\n",
       "      <td>4G</td>\n",
       "      <td>4G</td>\n",
       "      <td>Dual SIM, GSM+GSM</td>\n",
       "      <td>Quad</td>\n",
       "    </tr>\n",
       "    <tr>\n",
       "      <th>312</th>\n",
       "      <td>431</td>\n",
       "      <td>544</td>\n",
       "      <td>5.4</td>\n",
       "      <td>192</td>\n",
       "      <td>3</td>\n",
       "      <td>1.8</td>\n",
       "      <td>Not Available</td>\n",
       "      <td>147</td>\n",
       "      <td>32</td>\n",
       "      <td>3410</td>\n",
       "      <td>2</td>\n",
       "      <td>3.7</td>\n",
       "      <td>Blackberry</td>\n",
       "      <td>Android</td>\n",
       "      <td>4G</td>\n",
       "      <td>Other</td>\n",
       "      <td>Single SIM, GSM</td>\n",
       "      <td>Hexa</td>\n",
       "    </tr>\n",
       "    <tr>\n",
       "      <th>313</th>\n",
       "      <td>435</td>\n",
       "      <td>293</td>\n",
       "      <td>5.5</td>\n",
       "      <td>161</td>\n",
       "      <td>2</td>\n",
       "      <td>1.5</td>\n",
       "      <td>72.35</td>\n",
       "      <td>149.946</td>\n",
       "      <td>16</td>\n",
       "      <td>3050</td>\n",
       "      <td>8</td>\n",
       "      <td>4.4</td>\n",
       "      <td>Tecno</td>\n",
       "      <td>Android</td>\n",
       "      <td>4G</td>\n",
       "      <td>2G</td>\n",
       "      <td>Dual SIM, GSM+GSM</td>\n",
       "      <td>Quad</td>\n",
       "    </tr>\n",
       "    <tr>\n",
       "      <th>314</th>\n",
       "      <td>436</td>\n",
       "      <td>401</td>\n",
       "      <td>5.5</td>\n",
       "      <td>Not Available</td>\n",
       "      <td>3</td>\n",
       "      <td>2</td>\n",
       "      <td>71.55</td>\n",
       "      <td>Not Available</td>\n",
       "      <td>32</td>\n",
       "      <td>5100</td>\n",
       "      <td>5</td>\n",
       "      <td>4.3</td>\n",
       "      <td>Lenovo</td>\n",
       "      <td>Android</td>\n",
       "      <td>4G</td>\n",
       "      <td>4G</td>\n",
       "      <td>Dual SIM, GSM+GSM</td>\n",
       "      <td>Octa</td>\n",
       "    </tr>\n",
       "  </tbody>\n",
       "</table>\n",
       "</div>"
      ],
      "text/plain": [
       "     PhoneId  Pixel Density Screen Size         Weight RAM  \\\n",
       "310      427            294           5            161   1   \n",
       "311      429            294           5            161   2   \n",
       "312      431            544         5.4            192   3   \n",
       "313      435            293         5.5            161   2   \n",
       "314      436            401         5.5  Not Available   3   \n",
       "\n",
       "    Processor_frequency Screen to Body Ratio (calculated)         Height  \\\n",
       "310                 1.3                             67.25            143   \n",
       "311                   1                             66.78          143.8   \n",
       "312                 1.8                     Not Available            147   \n",
       "313                 1.5                             72.35        149.946   \n",
       "314                   2                             71.55  Not Available   \n",
       "\n",
       "    Internal Memory       Capacity Resolution Rating       Brand  OS Name  \\\n",
       "310               8  Not Available          2    3.5     Karbonn  Android   \n",
       "311              16           3500          5    4.1        Moto  Android   \n",
       "312              32           3410          2    3.7  Blackberry  Android   \n",
       "313              16           3050          8    4.4       Tecno  Android   \n",
       "314              32           5100          5    4.3      Lenovo  Android   \n",
       "\n",
       "    Sim 1  Sim 2           SIM Slot Processesor  \n",
       "310    4G     2G  Dual SIM, GSM+GSM        Quad  \n",
       "311    4G     4G  Dual SIM, GSM+GSM        Quad  \n",
       "312    4G  Other    Single SIM, GSM        Hexa  \n",
       "313    4G     2G  Dual SIM, GSM+GSM        Quad  \n",
       "314    4G     4G  Dual SIM, GSM+GSM        Octa  "
      ]
     },
     "execution_count": 55,
     "metadata": {},
     "output_type": "execute_result"
    }
   ],
   "source": [
    "#replacing NaN values to Not avalaible using fillna\n",
    "mob_data_toBe_cleaned.fillna(\"Not Available\")[310:315]"
   ]
  },
  {
   "cell_type": "code",
   "execution_count": 56,
   "metadata": {},
   "outputs": [
    {
     "data": {
      "text/html": [
       "<div>\n",
       "<style scoped>\n",
       "    .dataframe tbody tr th:only-of-type {\n",
       "        vertical-align: middle;\n",
       "    }\n",
       "\n",
       "    .dataframe tbody tr th {\n",
       "        vertical-align: top;\n",
       "    }\n",
       "\n",
       "    .dataframe thead th {\n",
       "        text-align: right;\n",
       "    }\n",
       "</style>\n",
       "<table border=\"1\" class=\"dataframe\">\n",
       "  <thead>\n",
       "    <tr style=\"text-align: right;\">\n",
       "      <th></th>\n",
       "      <th>PhoneId</th>\n",
       "      <th>Pixel Density</th>\n",
       "      <th>Screen Size</th>\n",
       "      <th>Weight</th>\n",
       "      <th>RAM</th>\n",
       "      <th>Processor_frequency</th>\n",
       "      <th>Screen to Body Ratio (calculated)</th>\n",
       "      <th>Height</th>\n",
       "      <th>Internal Memory</th>\n",
       "      <th>Capacity</th>\n",
       "      <th>Resolution</th>\n",
       "      <th>Rating</th>\n",
       "      <th>Brand</th>\n",
       "      <th>OS Name</th>\n",
       "      <th>Sim 1</th>\n",
       "      <th>Sim 2</th>\n",
       "      <th>SIM Slot</th>\n",
       "      <th>Processesor</th>\n",
       "    </tr>\n",
       "  </thead>\n",
       "  <tbody>\n",
       "    <tr>\n",
       "      <th>0</th>\n",
       "      <td>0</td>\n",
       "      <td>403</td>\n",
       "      <td>6.26</td>\n",
       "      <td>182.0</td>\n",
       "      <td>3.0</td>\n",
       "      <td>1.8</td>\n",
       "      <td>80.68</td>\n",
       "      <td>157.9</td>\n",
       "      <td>64.0</td>\n",
       "      <td>4000.0</td>\n",
       "      <td>20.0</td>\n",
       "      <td>4.5</td>\n",
       "      <td>Xiaomi</td>\n",
       "      <td>Android</td>\n",
       "      <td>4G</td>\n",
       "      <td>4G</td>\n",
       "      <td>Dual SIM, GSM+GSM, Dual VoLTE</td>\n",
       "      <td>Octa</td>\n",
       "    </tr>\n",
       "    <tr>\n",
       "      <th>1</th>\n",
       "      <td>3</td>\n",
       "      <td>271</td>\n",
       "      <td>6.20</td>\n",
       "      <td>168.0</td>\n",
       "      <td>3.0</td>\n",
       "      <td>1.8</td>\n",
       "      <td>80.85</td>\n",
       "      <td>156.2</td>\n",
       "      <td>32.0</td>\n",
       "      <td>4230.0</td>\n",
       "      <td>8.0</td>\n",
       "      <td>4.5</td>\n",
       "      <td>Realme</td>\n",
       "      <td>Android</td>\n",
       "      <td>4G</td>\n",
       "      <td>4G</td>\n",
       "      <td>Dual SIM, GSM+GSM, Dual VoLTE</td>\n",
       "      <td>Octa</td>\n",
       "    </tr>\n",
       "    <tr>\n",
       "      <th>2</th>\n",
       "      <td>3</td>\n",
       "      <td>409</td>\n",
       "      <td>6.30</td>\n",
       "      <td>168.0</td>\n",
       "      <td>3.0</td>\n",
       "      <td>2.1</td>\n",
       "      <td>83.68</td>\n",
       "      <td>157.0</td>\n",
       "      <td>32.0</td>\n",
       "      <td>3500.0</td>\n",
       "      <td>25.0</td>\n",
       "      <td>4.4</td>\n",
       "      <td>Realme</td>\n",
       "      <td>Android</td>\n",
       "      <td>4G</td>\n",
       "      <td>4G</td>\n",
       "      <td>Dual SIM, GSM+GSM, Dual VoLTE</td>\n",
       "      <td>Octa</td>\n",
       "    </tr>\n",
       "    <tr>\n",
       "      <th>3</th>\n",
       "      <td>3</td>\n",
       "      <td>411</td>\n",
       "      <td>3.00</td>\n",
       "      <td>169.0</td>\n",
       "      <td>3.0</td>\n",
       "      <td>2.2</td>\n",
       "      <td>74.78</td>\n",
       "      <td>159.8</td>\n",
       "      <td>64.0</td>\n",
       "      <td>3300.0</td>\n",
       "      <td>24.0</td>\n",
       "      <td>4.3</td>\n",
       "      <td>Samsung</td>\n",
       "      <td>Android</td>\n",
       "      <td>4G</td>\n",
       "      <td>4G</td>\n",
       "      <td>Dual SIM, GSM+GSM</td>\n",
       "      <td>Octa</td>\n",
       "    </tr>\n",
       "    <tr>\n",
       "      <th>4</th>\n",
       "      <td>5</td>\n",
       "      <td>396</td>\n",
       "      <td>6.50</td>\n",
       "      <td>175.0</td>\n",
       "      <td>3.0</td>\n",
       "      <td>2.2</td>\n",
       "      <td>84.23</td>\n",
       "      <td>160.4</td>\n",
       "      <td>64.0</td>\n",
       "      <td>3750.0</td>\n",
       "      <td>16.0</td>\n",
       "      <td>4.4</td>\n",
       "      <td>Honor</td>\n",
       "      <td>Android</td>\n",
       "      <td>4G</td>\n",
       "      <td>4G</td>\n",
       "      <td>Dual SIM, GSM+GSM, Dual VoLTE</td>\n",
       "      <td>Octa</td>\n",
       "    </tr>\n",
       "  </tbody>\n",
       "</table>\n",
       "</div>"
      ],
      "text/plain": [
       "   PhoneId  Pixel Density  Screen Size  Weight  RAM  Processor_frequency  \\\n",
       "0        0            403         6.26   182.0  3.0                  1.8   \n",
       "1        3            271         6.20   168.0  3.0                  1.8   \n",
       "2        3            409         6.30   168.0  3.0                  2.1   \n",
       "3        3            411         3.00   169.0  3.0                  2.2   \n",
       "4        5            396         6.50   175.0  3.0                  2.2   \n",
       "\n",
       "   Screen to Body Ratio (calculated)  Height  Internal Memory  Capacity  \\\n",
       "0                              80.68   157.9             64.0    4000.0   \n",
       "1                              80.85   156.2             32.0    4230.0   \n",
       "2                              83.68   157.0             32.0    3500.0   \n",
       "3                              74.78   159.8             64.0    3300.0   \n",
       "4                              84.23   160.4             64.0    3750.0   \n",
       "\n",
       "   Resolution  Rating    Brand  OS Name Sim 1 Sim 2  \\\n",
       "0        20.0     4.5   Xiaomi  Android    4G    4G   \n",
       "1         8.0     4.5   Realme  Android    4G    4G   \n",
       "2        25.0     4.4   Realme  Android    4G    4G   \n",
       "3        24.0     4.3  Samsung  Android    4G    4G   \n",
       "4        16.0     4.4    Honor  Android    4G    4G   \n",
       "\n",
       "                        SIM Slot Processesor  \n",
       "0  Dual SIM, GSM+GSM, Dual VoLTE        Octa  \n",
       "1  Dual SIM, GSM+GSM, Dual VoLTE        Octa  \n",
       "2  Dual SIM, GSM+GSM, Dual VoLTE        Octa  \n",
       "3              Dual SIM, GSM+GSM        Octa  \n",
       "4  Dual SIM, GSM+GSM, Dual VoLTE        Octa  "
      ]
     },
     "execution_count": 56,
     "metadata": {},
     "output_type": "execute_result"
    }
   ],
   "source": [
    "#replacing all values of ram capacity to 3\n",
    "mob_data_toBe_cleaned.replace({2:3,4:3,6:3,1:3})[0:5]"
   ]
  },
  {
   "cell_type": "markdown",
   "metadata": {},
   "source": [
    "## DATA NORMALIZATION AND STANDARDIZATION"
   ]
  },
  {
   "cell_type": "code",
   "execution_count": 57,
   "metadata": {},
   "outputs": [],
   "source": [
    "#fiiting our data to normalize\n",
    "normalized_mob_data = preprocessing.normalize(mob_data_encoded)\n",
    "#saving our colum name to index\n",
    "col_names = mob_data_encoded.columns"
   ]
  },
  {
   "cell_type": "code",
   "execution_count": 58,
   "metadata": {},
   "outputs": [
    {
     "data": {
      "text/plain": [
       "(341, 85)"
      ]
     },
     "execution_count": 58,
     "metadata": {},
     "output_type": "execute_result"
    }
   ],
   "source": [
    "normalized_mob_data.shape"
   ]
  },
  {
   "cell_type": "code",
   "execution_count": 59,
   "metadata": {},
   "outputs": [
    {
     "data": {
      "text/plain": [
       "numpy.ndarray"
      ]
     },
     "execution_count": 59,
     "metadata": {},
     "output_type": "execute_result"
    }
   ],
   "source": [
    "#checking a type of normalized dataset\n",
    "type(normalized_mob_data)"
   ]
  },
  {
   "cell_type": "code",
   "execution_count": 60,
   "metadata": {},
   "outputs": [],
   "source": [
    "#transfering normalized array to dataframe\n",
    "normalized_mob_data = pd.DataFrame(normalized_mob_data)"
   ]
  },
  {
   "cell_type": "code",
   "execution_count": 61,
   "metadata": {},
   "outputs": [],
   "source": [
    "#fitting Column names\n",
    "normalized_mob_data.columns=col_names"
   ]
  },
  {
   "cell_type": "code",
   "execution_count": 62,
   "metadata": {},
   "outputs": [
    {
     "data": {
      "text/html": [
       "<div>\n",
       "<style scoped>\n",
       "    .dataframe tbody tr th:only-of-type {\n",
       "        vertical-align: middle;\n",
       "    }\n",
       "\n",
       "    .dataframe tbody tr th {\n",
       "        vertical-align: top;\n",
       "    }\n",
       "\n",
       "    .dataframe thead th {\n",
       "        text-align: right;\n",
       "    }\n",
       "</style>\n",
       "<table border=\"1\" class=\"dataframe\">\n",
       "  <thead>\n",
       "    <tr style=\"text-align: right;\">\n",
       "      <th></th>\n",
       "      <th>PhoneId</th>\n",
       "      <th>Pixel Density</th>\n",
       "      <th>Screen Size</th>\n",
       "      <th>Weight</th>\n",
       "      <th>RAM</th>\n",
       "      <th>Processor_frequency</th>\n",
       "      <th>Screen to Body Ratio (calculated)</th>\n",
       "      <th>Height</th>\n",
       "      <th>Internal Memory</th>\n",
       "      <th>Capacity</th>\n",
       "      <th>...</th>\n",
       "      <th>SimSlots_Dual SIM, GSM+GSM, Dual VoLTE</th>\n",
       "      <th>SimSlots_Single SIM, GSM</th>\n",
       "      <th>Num_Cores_312</th>\n",
       "      <th>Num_Cores_Deca</th>\n",
       "      <th>Num_Cores_Dual</th>\n",
       "      <th>Num_Cores_Hexa</th>\n",
       "      <th>Num_Cores_Octa</th>\n",
       "      <th>Num_Cores_Other</th>\n",
       "      <th>Num_Cores_Quad</th>\n",
       "      <th>Num_Cores_Tru-Octa</th>\n",
       "    </tr>\n",
       "  </thead>\n",
       "  <tbody>\n",
       "    <tr>\n",
       "      <th>0</th>\n",
       "      <td>0.000000</td>\n",
       "      <td>0.100029</td>\n",
       "      <td>0.001554</td>\n",
       "      <td>0.045174</td>\n",
       "      <td>0.000993</td>\n",
       "      <td>0.000447</td>\n",
       "      <td>0.020026</td>\n",
       "      <td>0.039192</td>\n",
       "      <td>0.015885</td>\n",
       "      <td>0.992842</td>\n",
       "      <td>...</td>\n",
       "      <td>0.000248</td>\n",
       "      <td>0.0</td>\n",
       "      <td>0.0</td>\n",
       "      <td>0.0</td>\n",
       "      <td>0.0</td>\n",
       "      <td>0.0</td>\n",
       "      <td>0.000248</td>\n",
       "      <td>0.0</td>\n",
       "      <td>0.0</td>\n",
       "      <td>0.0</td>\n",
       "    </tr>\n",
       "    <tr>\n",
       "      <th>1</th>\n",
       "      <td>0.000236</td>\n",
       "      <td>0.063828</td>\n",
       "      <td>0.001460</td>\n",
       "      <td>0.039569</td>\n",
       "      <td>0.000707</td>\n",
       "      <td>0.000424</td>\n",
       "      <td>0.019042</td>\n",
       "      <td>0.036789</td>\n",
       "      <td>0.007537</td>\n",
       "      <td>0.996283</td>\n",
       "      <td>...</td>\n",
       "      <td>0.000236</td>\n",
       "      <td>0.0</td>\n",
       "      <td>0.0</td>\n",
       "      <td>0.0</td>\n",
       "      <td>0.0</td>\n",
       "      <td>0.0</td>\n",
       "      <td>0.000236</td>\n",
       "      <td>0.0</td>\n",
       "      <td>0.0</td>\n",
       "      <td>0.0</td>\n",
       "    </tr>\n",
       "    <tr>\n",
       "      <th>2</th>\n",
       "      <td>0.000566</td>\n",
       "      <td>0.115780</td>\n",
       "      <td>0.001783</td>\n",
       "      <td>0.047558</td>\n",
       "      <td>0.000849</td>\n",
       "      <td>0.000594</td>\n",
       "      <td>0.023688</td>\n",
       "      <td>0.044444</td>\n",
       "      <td>0.009059</td>\n",
       "      <td>0.990787</td>\n",
       "      <td>...</td>\n",
       "      <td>0.000283</td>\n",
       "      <td>0.0</td>\n",
       "      <td>0.0</td>\n",
       "      <td>0.0</td>\n",
       "      <td>0.0</td>\n",
       "      <td>0.0</td>\n",
       "      <td>0.000283</td>\n",
       "      <td>0.0</td>\n",
       "      <td>0.0</td>\n",
       "      <td>0.0</td>\n",
       "    </tr>\n",
       "    <tr>\n",
       "      <th>3</th>\n",
       "      <td>0.001199</td>\n",
       "      <td>0.123232</td>\n",
       "      <td>0.001799</td>\n",
       "      <td>0.050672</td>\n",
       "      <td>0.001199</td>\n",
       "      <td>0.000660</td>\n",
       "      <td>0.022422</td>\n",
       "      <td>0.047914</td>\n",
       "      <td>0.019189</td>\n",
       "      <td>0.989454</td>\n",
       "      <td>...</td>\n",
       "      <td>0.000000</td>\n",
       "      <td>0.0</td>\n",
       "      <td>0.0</td>\n",
       "      <td>0.0</td>\n",
       "      <td>0.0</td>\n",
       "      <td>0.0</td>\n",
       "      <td>0.000300</td>\n",
       "      <td>0.0</td>\n",
       "      <td>0.0</td>\n",
       "      <td>0.0</td>\n",
       "    </tr>\n",
       "    <tr>\n",
       "      <th>4</th>\n",
       "      <td>0.001323</td>\n",
       "      <td>0.104766</td>\n",
       "      <td>0.001720</td>\n",
       "      <td>0.046298</td>\n",
       "      <td>0.001058</td>\n",
       "      <td>0.000582</td>\n",
       "      <td>0.022284</td>\n",
       "      <td>0.042436</td>\n",
       "      <td>0.016932</td>\n",
       "      <td>0.992104</td>\n",
       "      <td>...</td>\n",
       "      <td>0.000265</td>\n",
       "      <td>0.0</td>\n",
       "      <td>0.0</td>\n",
       "      <td>0.0</td>\n",
       "      <td>0.0</td>\n",
       "      <td>0.0</td>\n",
       "      <td>0.000265</td>\n",
       "      <td>0.0</td>\n",
       "      <td>0.0</td>\n",
       "      <td>0.0</td>\n",
       "    </tr>\n",
       "  </tbody>\n",
       "</table>\n",
       "<p>5 rows × 85 columns</p>\n",
       "</div>"
      ],
      "text/plain": [
       "    PhoneId  Pixel Density  Screen Size    Weight       RAM  \\\n",
       "0  0.000000       0.100029     0.001554  0.045174  0.000993   \n",
       "1  0.000236       0.063828     0.001460  0.039569  0.000707   \n",
       "2  0.000566       0.115780     0.001783  0.047558  0.000849   \n",
       "3  0.001199       0.123232     0.001799  0.050672  0.001199   \n",
       "4  0.001323       0.104766     0.001720  0.046298  0.001058   \n",
       "\n",
       "   Processor_frequency  Screen to Body Ratio (calculated)    Height  \\\n",
       "0             0.000447                           0.020026  0.039192   \n",
       "1             0.000424                           0.019042  0.036789   \n",
       "2             0.000594                           0.023688  0.044444   \n",
       "3             0.000660                           0.022422  0.047914   \n",
       "4             0.000582                           0.022284  0.042436   \n",
       "\n",
       "   Internal Memory  Capacity  ...  SimSlots_Dual SIM, GSM+GSM, Dual VoLTE  \\\n",
       "0         0.015885  0.992842  ...                                0.000248   \n",
       "1         0.007537  0.996283  ...                                0.000236   \n",
       "2         0.009059  0.990787  ...                                0.000283   \n",
       "3         0.019189  0.989454  ...                                0.000000   \n",
       "4         0.016932  0.992104  ...                                0.000265   \n",
       "\n",
       "   SimSlots_Single SIM, GSM  Num_Cores_312  Num_Cores_Deca  Num_Cores_Dual  \\\n",
       "0                       0.0            0.0             0.0             0.0   \n",
       "1                       0.0            0.0             0.0             0.0   \n",
       "2                       0.0            0.0             0.0             0.0   \n",
       "3                       0.0            0.0             0.0             0.0   \n",
       "4                       0.0            0.0             0.0             0.0   \n",
       "\n",
       "   Num_Cores_Hexa  Num_Cores_Octa  Num_Cores_Other  Num_Cores_Quad  \\\n",
       "0             0.0        0.000248              0.0             0.0   \n",
       "1             0.0        0.000236              0.0             0.0   \n",
       "2             0.0        0.000283              0.0             0.0   \n",
       "3             0.0        0.000300              0.0             0.0   \n",
       "4             0.0        0.000265              0.0             0.0   \n",
       "\n",
       "   Num_Cores_Tru-Octa  \n",
       "0                 0.0  \n",
       "1                 0.0  \n",
       "2                 0.0  \n",
       "3                 0.0  \n",
       "4                 0.0  \n",
       "\n",
       "[5 rows x 85 columns]"
      ]
     },
     "execution_count": 62,
     "metadata": {},
     "output_type": "execute_result"
    }
   ],
   "source": [
    "normalized_mob_data.head()"
   ]
  },
  {
   "cell_type": "code",
   "execution_count": 63,
   "metadata": {},
   "outputs": [
    {
     "name": "stderr",
     "output_type": "stream",
     "text": [
      "C:\\Users\\SATHISH\\Anaconda3\\lib\\site-packages\\ipykernel_launcher.py:2: DataConversionWarning: Data with input dtype uint8, int64, float64 were all converted to float64 by the scale function.\n",
      "  \n"
     ]
    }
   ],
   "source": [
    "#fitting our data to standardize\n",
    "standardized_mob_data = preprocessing.scale(mob_data_encoded)"
   ]
  },
  {
   "cell_type": "code",
   "execution_count": 64,
   "metadata": {},
   "outputs": [
    {
     "data": {
      "text/plain": [
       "array([[-1.70013888,  0.66781412,  1.07585791, ..., -0.13382992,\n",
       "        -0.69470044, -0.05423261],\n",
       "       [-1.69284123, -0.83164461,  0.99493422, ..., -0.13382992,\n",
       "        -0.69470044, -0.05423261],\n",
       "       [-1.68554358,  0.73597134,  1.12980703, ..., -0.13382992,\n",
       "        -0.69470044, -0.05423261],\n",
       "       ...,\n",
       "       [ 1.7151622 , -0.70668972, -0.35379394, ..., -0.13382992,\n",
       "        -0.69470044, -0.05423261],\n",
       "       [ 1.7297575 , -1.43370001, -1.29790365, ..., -0.13382992,\n",
       "         1.43946937, -0.05423261],\n",
       "       [ 1.74435281,  0.64509505,  0.05082451, ..., -0.13382992,\n",
       "        -0.69470044, -0.05423261]])"
      ]
     },
     "execution_count": 64,
     "metadata": {},
     "output_type": "execute_result"
    }
   ],
   "source": [
    "standardized_mob_data"
   ]
  },
  {
   "cell_type": "code",
   "execution_count": 65,
   "metadata": {},
   "outputs": [
    {
     "data": {
      "text/plain": [
       "numpy.ndarray"
      ]
     },
     "execution_count": 65,
     "metadata": {},
     "output_type": "execute_result"
    }
   ],
   "source": [
    "#type after standardization\n",
    "type(standardized_mob_data)"
   ]
  },
  {
   "cell_type": "code",
   "execution_count": 66,
   "metadata": {},
   "outputs": [],
   "source": [
    "#converting numpy array to DataFrame\n",
    "standardized_mob_data = pd.DataFrame(standardized_mob_data)"
   ]
  },
  {
   "cell_type": "code",
   "execution_count": 67,
   "metadata": {},
   "outputs": [],
   "source": [
    "#indexing them with columns names\n",
    "standardized_mob_data.columns=col_names"
   ]
  },
  {
   "cell_type": "code",
   "execution_count": 68,
   "metadata": {},
   "outputs": [
    {
     "data": {
      "text/html": [
       "<div>\n",
       "<style scoped>\n",
       "    .dataframe tbody tr th:only-of-type {\n",
       "        vertical-align: middle;\n",
       "    }\n",
       "\n",
       "    .dataframe tbody tr th {\n",
       "        vertical-align: top;\n",
       "    }\n",
       "\n",
       "    .dataframe thead th {\n",
       "        text-align: right;\n",
       "    }\n",
       "</style>\n",
       "<table border=\"1\" class=\"dataframe\">\n",
       "  <thead>\n",
       "    <tr style=\"text-align: right;\">\n",
       "      <th></th>\n",
       "      <th>PhoneId</th>\n",
       "      <th>Pixel Density</th>\n",
       "      <th>Screen Size</th>\n",
       "      <th>Weight</th>\n",
       "      <th>RAM</th>\n",
       "      <th>Processor_frequency</th>\n",
       "      <th>Screen to Body Ratio (calculated)</th>\n",
       "      <th>Height</th>\n",
       "      <th>Internal Memory</th>\n",
       "      <th>Capacity</th>\n",
       "      <th>...</th>\n",
       "      <th>SimSlots_Dual SIM, GSM+GSM, Dual VoLTE</th>\n",
       "      <th>SimSlots_Single SIM, GSM</th>\n",
       "      <th>Num_Cores_312</th>\n",
       "      <th>Num_Cores_Deca</th>\n",
       "      <th>Num_Cores_Dual</th>\n",
       "      <th>Num_Cores_Hexa</th>\n",
       "      <th>Num_Cores_Octa</th>\n",
       "      <th>Num_Cores_Other</th>\n",
       "      <th>Num_Cores_Quad</th>\n",
       "      <th>Num_Cores_Tru-Octa</th>\n",
       "    </tr>\n",
       "  </thead>\n",
       "  <tbody>\n",
       "    <tr>\n",
       "      <th>0</th>\n",
       "      <td>-1.700139</td>\n",
       "      <td>0.667814</td>\n",
       "      <td>1.075858</td>\n",
       "      <td>0.927448</td>\n",
       "      <td>-0.116285</td>\n",
       "      <td>0.016518</td>\n",
       "      <td>0.891113</td>\n",
       "      <td>0.866518</td>\n",
       "      <td>0.380235</td>\n",
       "      <td>0.868473</td>\n",
       "      <td>...</td>\n",
       "      <td>2.357476</td>\n",
       "      <td>-0.304875</td>\n",
       "      <td>-0.054233</td>\n",
       "      <td>-0.07681</td>\n",
       "      <td>-0.173814</td>\n",
       "      <td>-0.190982</td>\n",
       "      <td>0.849837</td>\n",
       "      <td>-0.13383</td>\n",
       "      <td>-0.6947</td>\n",
       "      <td>-0.054233</td>\n",
       "    </tr>\n",
       "    <tr>\n",
       "      <th>1</th>\n",
       "      <td>-1.692841</td>\n",
       "      <td>-0.831645</td>\n",
       "      <td>0.994934</td>\n",
       "      <td>0.298880</td>\n",
       "      <td>-0.132617</td>\n",
       "      <td>0.016518</td>\n",
       "      <td>0.909306</td>\n",
       "      <td>0.681309</td>\n",
       "      <td>-0.309906</td>\n",
       "      <td>1.115476</td>\n",
       "      <td>...</td>\n",
       "      <td>2.357476</td>\n",
       "      <td>-0.304875</td>\n",
       "      <td>-0.054233</td>\n",
       "      <td>-0.07681</td>\n",
       "      <td>-0.173814</td>\n",
       "      <td>-0.190982</td>\n",
       "      <td>0.849837</td>\n",
       "      <td>-0.13383</td>\n",
       "      <td>-0.6947</td>\n",
       "      <td>-0.054233</td>\n",
       "    </tr>\n",
       "    <tr>\n",
       "      <th>2</th>\n",
       "      <td>-1.685544</td>\n",
       "      <td>0.735971</td>\n",
       "      <td>1.129807</td>\n",
       "      <td>0.298880</td>\n",
       "      <td>-0.132617</td>\n",
       "      <td>0.681802</td>\n",
       "      <td>1.212171</td>\n",
       "      <td>0.768466</td>\n",
       "      <td>-0.309906</td>\n",
       "      <td>0.331512</td>\n",
       "      <td>...</td>\n",
       "      <td>2.357476</td>\n",
       "      <td>-0.304875</td>\n",
       "      <td>-0.054233</td>\n",
       "      <td>-0.07681</td>\n",
       "      <td>-0.173814</td>\n",
       "      <td>-0.190982</td>\n",
       "      <td>0.849837</td>\n",
       "      <td>-0.13383</td>\n",
       "      <td>-0.6947</td>\n",
       "      <td>-0.054233</td>\n",
       "    </tr>\n",
       "    <tr>\n",
       "      <th>3</th>\n",
       "      <td>-1.670948</td>\n",
       "      <td>0.758690</td>\n",
       "      <td>0.725189</td>\n",
       "      <td>0.343777</td>\n",
       "      <td>-0.116285</td>\n",
       "      <td>0.903563</td>\n",
       "      <td>0.259699</td>\n",
       "      <td>1.073516</td>\n",
       "      <td>0.380235</td>\n",
       "      <td>0.116727</td>\n",
       "      <td>...</td>\n",
       "      <td>-0.424183</td>\n",
       "      <td>-0.304875</td>\n",
       "      <td>-0.054233</td>\n",
       "      <td>-0.07681</td>\n",
       "      <td>-0.173814</td>\n",
       "      <td>-0.190982</td>\n",
       "      <td>0.849837</td>\n",
       "      <td>-0.13383</td>\n",
       "      <td>-0.6947</td>\n",
       "      <td>-0.054233</td>\n",
       "    </tr>\n",
       "    <tr>\n",
       "      <th>4</th>\n",
       "      <td>-1.663651</td>\n",
       "      <td>0.588297</td>\n",
       "      <td>1.399553</td>\n",
       "      <td>0.613164</td>\n",
       "      <td>-0.116285</td>\n",
       "      <td>0.903563</td>\n",
       "      <td>1.271032</td>\n",
       "      <td>1.138884</td>\n",
       "      <td>0.380235</td>\n",
       "      <td>0.599992</td>\n",
       "      <td>...</td>\n",
       "      <td>2.357476</td>\n",
       "      <td>-0.304875</td>\n",
       "      <td>-0.054233</td>\n",
       "      <td>-0.07681</td>\n",
       "      <td>-0.173814</td>\n",
       "      <td>-0.190982</td>\n",
       "      <td>0.849837</td>\n",
       "      <td>-0.13383</td>\n",
       "      <td>-0.6947</td>\n",
       "      <td>-0.054233</td>\n",
       "    </tr>\n",
       "  </tbody>\n",
       "</table>\n",
       "<p>5 rows × 85 columns</p>\n",
       "</div>"
      ],
      "text/plain": [
       "    PhoneId  Pixel Density  Screen Size    Weight       RAM  \\\n",
       "0 -1.700139       0.667814     1.075858  0.927448 -0.116285   \n",
       "1 -1.692841      -0.831645     0.994934  0.298880 -0.132617   \n",
       "2 -1.685544       0.735971     1.129807  0.298880 -0.132617   \n",
       "3 -1.670948       0.758690     0.725189  0.343777 -0.116285   \n",
       "4 -1.663651       0.588297     1.399553  0.613164 -0.116285   \n",
       "\n",
       "   Processor_frequency  Screen to Body Ratio (calculated)    Height  \\\n",
       "0             0.016518                           0.891113  0.866518   \n",
       "1             0.016518                           0.909306  0.681309   \n",
       "2             0.681802                           1.212171  0.768466   \n",
       "3             0.903563                           0.259699  1.073516   \n",
       "4             0.903563                           1.271032  1.138884   \n",
       "\n",
       "   Internal Memory  Capacity  ...  SimSlots_Dual SIM, GSM+GSM, Dual VoLTE  \\\n",
       "0         0.380235  0.868473  ...                                2.357476   \n",
       "1        -0.309906  1.115476  ...                                2.357476   \n",
       "2        -0.309906  0.331512  ...                                2.357476   \n",
       "3         0.380235  0.116727  ...                               -0.424183   \n",
       "4         0.380235  0.599992  ...                                2.357476   \n",
       "\n",
       "   SimSlots_Single SIM, GSM  Num_Cores_312  Num_Cores_Deca  Num_Cores_Dual  \\\n",
       "0                 -0.304875      -0.054233        -0.07681       -0.173814   \n",
       "1                 -0.304875      -0.054233        -0.07681       -0.173814   \n",
       "2                 -0.304875      -0.054233        -0.07681       -0.173814   \n",
       "3                 -0.304875      -0.054233        -0.07681       -0.173814   \n",
       "4                 -0.304875      -0.054233        -0.07681       -0.173814   \n",
       "\n",
       "   Num_Cores_Hexa  Num_Cores_Octa  Num_Cores_Other  Num_Cores_Quad  \\\n",
       "0       -0.190982        0.849837         -0.13383         -0.6947   \n",
       "1       -0.190982        0.849837         -0.13383         -0.6947   \n",
       "2       -0.190982        0.849837         -0.13383         -0.6947   \n",
       "3       -0.190982        0.849837         -0.13383         -0.6947   \n",
       "4       -0.190982        0.849837         -0.13383         -0.6947   \n",
       "\n",
       "   Num_Cores_Tru-Octa  \n",
       "0           -0.054233  \n",
       "1           -0.054233  \n",
       "2           -0.054233  \n",
       "3           -0.054233  \n",
       "4           -0.054233  \n",
       "\n",
       "[5 rows x 85 columns]"
      ]
     },
     "execution_count": 68,
     "metadata": {},
     "output_type": "execute_result"
    }
   ],
   "source": [
    "standardized_mob_data.head()"
   ]
  },
  {
   "cell_type": "code",
   "execution_count": 69,
   "metadata": {},
   "outputs": [
    {
     "data": {
      "text/html": [
       "<div>\n",
       "<style scoped>\n",
       "    .dataframe tbody tr th:only-of-type {\n",
       "        vertical-align: middle;\n",
       "    }\n",
       "\n",
       "    .dataframe tbody tr th {\n",
       "        vertical-align: top;\n",
       "    }\n",
       "\n",
       "    .dataframe thead th {\n",
       "        text-align: right;\n",
       "    }\n",
       "</style>\n",
       "<table border=\"1\" class=\"dataframe\">\n",
       "  <thead>\n",
       "    <tr style=\"text-align: right;\">\n",
       "      <th></th>\n",
       "      <th>PhoneId</th>\n",
       "      <th>Pixel Density</th>\n",
       "      <th>Screen Size</th>\n",
       "      <th>Weight</th>\n",
       "      <th>RAM</th>\n",
       "      <th>Processor_frequency</th>\n",
       "      <th>Screen to Body Ratio (calculated)</th>\n",
       "      <th>Height</th>\n",
       "      <th>Internal Memory</th>\n",
       "      <th>Capacity</th>\n",
       "      <th>...</th>\n",
       "      <th>SimSlots_Dual SIM, GSM+GSM, Dual VoLTE</th>\n",
       "      <th>SimSlots_Single SIM, GSM</th>\n",
       "      <th>Num_Cores_312</th>\n",
       "      <th>Num_Cores_Deca</th>\n",
       "      <th>Num_Cores_Dual</th>\n",
       "      <th>Num_Cores_Hexa</th>\n",
       "      <th>Num_Cores_Octa</th>\n",
       "      <th>Num_Cores_Other</th>\n",
       "      <th>Num_Cores_Quad</th>\n",
       "      <th>Num_Cores_Tru-Octa</th>\n",
       "    </tr>\n",
       "  </thead>\n",
       "  <tbody>\n",
       "    <tr>\n",
       "      <th>count</th>\n",
       "      <td>3.410000e+02</td>\n",
       "      <td>3.410000e+02</td>\n",
       "      <td>3.410000e+02</td>\n",
       "      <td>3.410000e+02</td>\n",
       "      <td>3.410000e+02</td>\n",
       "      <td>3.410000e+02</td>\n",
       "      <td>3.410000e+02</td>\n",
       "      <td>3.410000e+02</td>\n",
       "      <td>3.410000e+02</td>\n",
       "      <td>3.410000e+02</td>\n",
       "      <td>...</td>\n",
       "      <td>3.410000e+02</td>\n",
       "      <td>3.410000e+02</td>\n",
       "      <td>3.410000e+02</td>\n",
       "      <td>3.410000e+02</td>\n",
       "      <td>3.410000e+02</td>\n",
       "      <td>3.410000e+02</td>\n",
       "      <td>3.410000e+02</td>\n",
       "      <td>3.410000e+02</td>\n",
       "      <td>3.410000e+02</td>\n",
       "      <td>3.410000e+02</td>\n",
       "    </tr>\n",
       "    <tr>\n",
       "      <th>mean</th>\n",
       "      <td>6.251109e-17</td>\n",
       "      <td>2.194400e-16</td>\n",
       "      <td>-6.756773e-16</td>\n",
       "      <td>-5.453442e-17</td>\n",
       "      <td>-2.178935e-16</td>\n",
       "      <td>3.368721e-17</td>\n",
       "      <td>9.151200e-16</td>\n",
       "      <td>1.733299e-15</td>\n",
       "      <td>5.551115e-17</td>\n",
       "      <td>-9.653405e-17</td>\n",
       "      <td>...</td>\n",
       "      <td>6.944592e-16</td>\n",
       "      <td>4.134848e-17</td>\n",
       "      <td>1.336907e-16</td>\n",
       "      <td>-9.962705e-17</td>\n",
       "      <td>-3.880897e-16</td>\n",
       "      <td>-5.290652e-17</td>\n",
       "      <td>-8.774343e-16</td>\n",
       "      <td>-1.497662e-16</td>\n",
       "      <td>1.041852e-16</td>\n",
       "      <td>1.181443e-16</td>\n",
       "    </tr>\n",
       "    <tr>\n",
       "      <th>std</th>\n",
       "      <td>1.001470e+00</td>\n",
       "      <td>1.001470e+00</td>\n",
       "      <td>1.001470e+00</td>\n",
       "      <td>1.001470e+00</td>\n",
       "      <td>1.001470e+00</td>\n",
       "      <td>1.001470e+00</td>\n",
       "      <td>1.001470e+00</td>\n",
       "      <td>1.001470e+00</td>\n",
       "      <td>1.001470e+00</td>\n",
       "      <td>1.001470e+00</td>\n",
       "      <td>...</td>\n",
       "      <td>1.001470e+00</td>\n",
       "      <td>1.001470e+00</td>\n",
       "      <td>1.001470e+00</td>\n",
       "      <td>1.001470e+00</td>\n",
       "      <td>1.001470e+00</td>\n",
       "      <td>1.001470e+00</td>\n",
       "      <td>1.001470e+00</td>\n",
       "      <td>1.001470e+00</td>\n",
       "      <td>1.001470e+00</td>\n",
       "      <td>1.001470e+00</td>\n",
       "    </tr>\n",
       "    <tr>\n",
       "      <th>min</th>\n",
       "      <td>-1.700139e+00</td>\n",
       "      <td>-2.285665e+00</td>\n",
       "      <td>-4.130233e+00</td>\n",
       "      <td>-4.639874e+00</td>\n",
       "      <td>-1.652799e-01</td>\n",
       "      <td>-1.757572e+00</td>\n",
       "      <td>-5.217549e+00</td>\n",
       "      <td>-3.741920e+00</td>\n",
       "      <td>-1.000047e+00</td>\n",
       "      <td>-2.331818e+00</td>\n",
       "      <td>...</td>\n",
       "      <td>-4.241825e-01</td>\n",
       "      <td>-3.048749e-01</td>\n",
       "      <td>-5.423261e-02</td>\n",
       "      <td>-7.680954e-02</td>\n",
       "      <td>-1.738145e-01</td>\n",
       "      <td>-1.909821e-01</td>\n",
       "      <td>-1.176697e+00</td>\n",
       "      <td>-1.338299e-01</td>\n",
       "      <td>-6.947004e-01</td>\n",
       "      <td>-5.423261e-02</td>\n",
       "    </tr>\n",
       "    <tr>\n",
       "      <th>25%</th>\n",
       "      <td>-8.973972e-01</td>\n",
       "      <td>-7.066897e-01</td>\n",
       "      <td>-3.537939e-01</td>\n",
       "      <td>-5.092802e-01</td>\n",
       "      <td>-1.489483e-01</td>\n",
       "      <td>-8.705267e-01</td>\n",
       "      <td>-3.802763e-01</td>\n",
       "      <td>-4.081565e-01</td>\n",
       "      <td>-6.549765e-01</td>\n",
       "      <td>-3.128424e-01</td>\n",
       "      <td>...</td>\n",
       "      <td>-4.241825e-01</td>\n",
       "      <td>-3.048749e-01</td>\n",
       "      <td>-5.423261e-02</td>\n",
       "      <td>-7.680954e-02</td>\n",
       "      <td>-1.738145e-01</td>\n",
       "      <td>-1.909821e-01</td>\n",
       "      <td>-1.176697e+00</td>\n",
       "      <td>-1.338299e-01</td>\n",
       "      <td>-6.947004e-01</td>\n",
       "      <td>-5.423261e-02</td>\n",
       "    </tr>\n",
       "    <tr>\n",
       "      <th>50%</th>\n",
       "      <td>-2.897660e-02</td>\n",
       "      <td>-2.068701e-01</td>\n",
       "      <td>5.082451e-02</td>\n",
       "      <td>-1.540480e-02</td>\n",
       "      <td>-1.326167e-01</td>\n",
       "      <td>1.651829e-02</td>\n",
       "      <td>1.569512e-02</td>\n",
       "      <td>1.474707e-01</td>\n",
       "      <td>-3.099058e-01</td>\n",
       "      <td>-1.463843e-01</td>\n",
       "      <td>...</td>\n",
       "      <td>-4.241825e-01</td>\n",
       "      <td>-3.048749e-01</td>\n",
       "      <td>-5.423261e-02</td>\n",
       "      <td>-7.680954e-02</td>\n",
       "      <td>-1.738145e-01</td>\n",
       "      <td>-1.909821e-01</td>\n",
       "      <td>8.498366e-01</td>\n",
       "      <td>-1.338299e-01</td>\n",
       "      <td>-6.947004e-01</td>\n",
       "      <td>-5.423261e-02</td>\n",
       "    </tr>\n",
       "    <tr>\n",
       "      <th>75%</th>\n",
       "      <td>8.832299e-01</td>\n",
       "      <td>6.678141e-01</td>\n",
       "      <td>7.251886e-01</td>\n",
       "      <td>4.784706e-01</td>\n",
       "      <td>-1.162850e-01</td>\n",
       "      <td>9.035633e-01</td>\n",
       "      <td>5.486513e-01</td>\n",
       "      <td>6.813086e-01</td>\n",
       "      <td>3.802355e-01</td>\n",
       "      <td>5.999925e-01</td>\n",
       "      <td>...</td>\n",
       "      <td>-4.241825e-01</td>\n",
       "      <td>-3.048749e-01</td>\n",
       "      <td>-5.423261e-02</td>\n",
       "      <td>-7.680954e-02</td>\n",
       "      <td>-1.738145e-01</td>\n",
       "      <td>-1.909821e-01</td>\n",
       "      <td>8.498366e-01</td>\n",
       "      <td>-1.338299e-01</td>\n",
       "      <td>1.439469e+00</td>\n",
       "      <td>-5.423261e-02</td>\n",
       "    </tr>\n",
       "    <tr>\n",
       "      <th>max</th>\n",
       "      <td>1.744353e+00</td>\n",
       "      <td>2.633014e+00</td>\n",
       "      <td>1.520938e+00</td>\n",
       "      <td>7.572317e+00</td>\n",
       "      <td>8.180183e+00</td>\n",
       "      <td>2.234131e+00</td>\n",
       "      <td>1.638108e+00</td>\n",
       "      <td>2.631451e+00</td>\n",
       "      <td>1.004221e+01</td>\n",
       "      <td>1.053378e+01</td>\n",
       "      <td>...</td>\n",
       "      <td>2.357476e+00</td>\n",
       "      <td>3.280034e+00</td>\n",
       "      <td>1.843909e+01</td>\n",
       "      <td>1.301922e+01</td>\n",
       "      <td>5.753260e+00</td>\n",
       "      <td>5.236093e+00</td>\n",
       "      <td>8.498366e-01</td>\n",
       "      <td>7.472171e+00</td>\n",
       "      <td>1.439469e+00</td>\n",
       "      <td>1.843909e+01</td>\n",
       "    </tr>\n",
       "  </tbody>\n",
       "</table>\n",
       "<p>8 rows × 85 columns</p>\n",
       "</div>"
      ],
      "text/plain": [
       "            PhoneId  Pixel Density   Screen Size        Weight           RAM  \\\n",
       "count  3.410000e+02   3.410000e+02  3.410000e+02  3.410000e+02  3.410000e+02   \n",
       "mean   6.251109e-17   2.194400e-16 -6.756773e-16 -5.453442e-17 -2.178935e-16   \n",
       "std    1.001470e+00   1.001470e+00  1.001470e+00  1.001470e+00  1.001470e+00   \n",
       "min   -1.700139e+00  -2.285665e+00 -4.130233e+00 -4.639874e+00 -1.652799e-01   \n",
       "25%   -8.973972e-01  -7.066897e-01 -3.537939e-01 -5.092802e-01 -1.489483e-01   \n",
       "50%   -2.897660e-02  -2.068701e-01  5.082451e-02 -1.540480e-02 -1.326167e-01   \n",
       "75%    8.832299e-01   6.678141e-01  7.251886e-01  4.784706e-01 -1.162850e-01   \n",
       "max    1.744353e+00   2.633014e+00  1.520938e+00  7.572317e+00  8.180183e+00   \n",
       "\n",
       "       Processor_frequency  Screen to Body Ratio (calculated)        Height  \\\n",
       "count         3.410000e+02                       3.410000e+02  3.410000e+02   \n",
       "mean          3.368721e-17                       9.151200e-16  1.733299e-15   \n",
       "std           1.001470e+00                       1.001470e+00  1.001470e+00   \n",
       "min          -1.757572e+00                      -5.217549e+00 -3.741920e+00   \n",
       "25%          -8.705267e-01                      -3.802763e-01 -4.081565e-01   \n",
       "50%           1.651829e-02                       1.569512e-02  1.474707e-01   \n",
       "75%           9.035633e-01                       5.486513e-01  6.813086e-01   \n",
       "max           2.234131e+00                       1.638108e+00  2.631451e+00   \n",
       "\n",
       "       Internal Memory      Capacity  ...  \\\n",
       "count     3.410000e+02  3.410000e+02  ...   \n",
       "mean      5.551115e-17 -9.653405e-17  ...   \n",
       "std       1.001470e+00  1.001470e+00  ...   \n",
       "min      -1.000047e+00 -2.331818e+00  ...   \n",
       "25%      -6.549765e-01 -3.128424e-01  ...   \n",
       "50%      -3.099058e-01 -1.463843e-01  ...   \n",
       "75%       3.802355e-01  5.999925e-01  ...   \n",
       "max       1.004221e+01  1.053378e+01  ...   \n",
       "\n",
       "       SimSlots_Dual SIM, GSM+GSM, Dual VoLTE  SimSlots_Single SIM, GSM  \\\n",
       "count                            3.410000e+02              3.410000e+02   \n",
       "mean                             6.944592e-16              4.134848e-17   \n",
       "std                              1.001470e+00              1.001470e+00   \n",
       "min                             -4.241825e-01             -3.048749e-01   \n",
       "25%                             -4.241825e-01             -3.048749e-01   \n",
       "50%                             -4.241825e-01             -3.048749e-01   \n",
       "75%                             -4.241825e-01             -3.048749e-01   \n",
       "max                              2.357476e+00              3.280034e+00   \n",
       "\n",
       "       Num_Cores_312  Num_Cores_Deca  Num_Cores_Dual  Num_Cores_Hexa  \\\n",
       "count   3.410000e+02    3.410000e+02    3.410000e+02    3.410000e+02   \n",
       "mean    1.336907e-16   -9.962705e-17   -3.880897e-16   -5.290652e-17   \n",
       "std     1.001470e+00    1.001470e+00    1.001470e+00    1.001470e+00   \n",
       "min    -5.423261e-02   -7.680954e-02   -1.738145e-01   -1.909821e-01   \n",
       "25%    -5.423261e-02   -7.680954e-02   -1.738145e-01   -1.909821e-01   \n",
       "50%    -5.423261e-02   -7.680954e-02   -1.738145e-01   -1.909821e-01   \n",
       "75%    -5.423261e-02   -7.680954e-02   -1.738145e-01   -1.909821e-01   \n",
       "max     1.843909e+01    1.301922e+01    5.753260e+00    5.236093e+00   \n",
       "\n",
       "       Num_Cores_Octa  Num_Cores_Other  Num_Cores_Quad  Num_Cores_Tru-Octa  \n",
       "count    3.410000e+02     3.410000e+02    3.410000e+02        3.410000e+02  \n",
       "mean    -8.774343e-16    -1.497662e-16    1.041852e-16        1.181443e-16  \n",
       "std      1.001470e+00     1.001470e+00    1.001470e+00        1.001470e+00  \n",
       "min     -1.176697e+00    -1.338299e-01   -6.947004e-01       -5.423261e-02  \n",
       "25%     -1.176697e+00    -1.338299e-01   -6.947004e-01       -5.423261e-02  \n",
       "50%      8.498366e-01    -1.338299e-01   -6.947004e-01       -5.423261e-02  \n",
       "75%      8.498366e-01    -1.338299e-01    1.439469e+00       -5.423261e-02  \n",
       "max      8.498366e-01     7.472171e+00    1.439469e+00        1.843909e+01  \n",
       "\n",
       "[8 rows x 85 columns]"
      ]
     },
     "execution_count": 69,
     "metadata": {},
     "output_type": "execute_result"
    }
   ],
   "source": [
    "standardized_mob_data.describe()"
   ]
  },
  {
   "cell_type": "markdown",
   "metadata": {},
   "source": [
    "<font color='BROWN'><font size=\"3\">After Standardization, from the above table we see that Mean value tends to <b><font size = \"4\"><font color = \"blue\"> 0 </b></font> and Standard Deviation tends to<b><font size = \"4\"><font color = \"blue\"> 1"
   ]
  },
  {
   "cell_type": "markdown",
   "metadata": {},
   "source": [
    "## NUMPY OPERATIONS\n",
    "## <font size = 5 face=\"verdana\" color=\"Red\"> Numpy\n",
    "<p><font size = 3 face=\"verdana\" color=\"Blue\">NumPy is the fundamental package for scientific computing with Python. The name is an acronym for <font color = \"Brown\"> \"Numerical Python\"</font>. It contains among other things: </font></p>\n",
    "<br>\n",
    "<font size = 3 face=\"tahoma\" color=\"Blue\">\n",
    "    <ul>\n",
    "        <li>a powerful N-dimensional array object</li>\n",
    "        <li>sophisticated  functions</li>\n",
    "        <li>tools for integrating C/C++ and Fortran code</li>\n",
    "        <li>useful linear algebra, Fourier transform, and random number capabilities</li>\n",
    "    </ul></font>\n",
    "\n",
    "<p align=\"justify\"> <font size = 3 face=\"verdana\" color=\"Blue\">Besides its obvious scientific uses, NumPy can also be used as an efficient multi-dimensional container of generic data. Arbitrary data-types can be defined. This allows NumPy to seamlessly and speedily integrate with a wide variety of databases. </font></p>\n"
   ]
  },
  {
   "cell_type": "code",
   "execution_count": 70,
   "metadata": {},
   "outputs": [],
   "source": [
    "#importing numpy package\n",
    "import numpy as np"
   ]
  },
  {
   "cell_type": "code",
   "execution_count": 71,
   "metadata": {},
   "outputs": [],
   "source": [
    "#creating a list\n",
    "my_list=[1,2,3,4]"
   ]
  },
  {
   "cell_type": "code",
   "execution_count": 72,
   "metadata": {},
   "outputs": [],
   "source": [
    "array_my_list = np.array(my_list)"
   ]
  },
  {
   "cell_type": "code",
   "execution_count": 73,
   "metadata": {},
   "outputs": [
    {
     "data": {
      "text/plain": [
       "array([[1, 2, 3, 4]])"
      ]
     },
     "execution_count": 73,
     "metadata": {},
     "output_type": "execute_result"
    }
   ],
   "source": [
    "array_my_list.reshape(1,-1)"
   ]
  },
  {
   "cell_type": "code",
   "execution_count": 74,
   "metadata": {},
   "outputs": [
    {
     "data": {
      "text/plain": [
       "3"
      ]
     },
     "execution_count": 74,
     "metadata": {},
     "output_type": "execute_result"
    }
   ],
   "source": [
    "#creating a nested list\n",
    "my_nes_list = [[1,2,3],[4,5,6],[7,8,9]]\n",
    "len(my_nes_list)"
   ]
  },
  {
   "cell_type": "code",
   "execution_count": 75,
   "metadata": {},
   "outputs": [
    {
     "data": {
      "text/plain": [
       "array([[1, 2, 3],\n",
       "       [4, 5, 6],\n",
       "       [7, 8, 9]])"
      ]
     },
     "execution_count": 75,
     "metadata": {},
     "output_type": "execute_result"
    }
   ],
   "source": [
    "array_my_nes_list = np.array(my_nes_list)\n",
    "\n",
    "array_my_nes_list"
   ]
  },
  {
   "cell_type": "code",
   "execution_count": 76,
   "metadata": {},
   "outputs": [
    {
     "data": {
      "text/plain": [
       "array([0, 3, 6, 9])"
      ]
     },
     "execution_count": 76,
     "metadata": {},
     "output_type": "execute_result"
    }
   ],
   "source": [
    "#creting numbers within a range(start,stop,step)\n",
    "np.arange(0,10,3)"
   ]
  },
  {
   "cell_type": "code",
   "execution_count": 77,
   "metadata": {},
   "outputs": [
    {
     "data": {
      "text/plain": [
       "array([0., 0., 0.])"
      ]
     },
     "execution_count": 77,
     "metadata": {},
     "output_type": "execute_result"
    }
   ],
   "source": [
    "#creating 0 matrix\n",
    "np.zeros(3)"
   ]
  },
  {
   "cell_type": "code",
   "execution_count": 78,
   "metadata": {},
   "outputs": [
    {
     "data": {
      "text/plain": [
       "array([[0., 0., 0., 0., 0.],\n",
       "       [0., 0., 0., 0., 0.],\n",
       "       [0., 0., 0., 0., 0.],\n",
       "       [0., 0., 0., 0., 0.],\n",
       "       [0., 0., 0., 0., 0.]])"
      ]
     },
     "execution_count": 78,
     "metadata": {},
     "output_type": "execute_result"
    }
   ],
   "source": [
    "np.zeros((5,5))"
   ]
  },
  {
   "cell_type": "code",
   "execution_count": 79,
   "metadata": {},
   "outputs": [
    {
     "data": {
      "text/plain": [
       "array([[1., 1., 1., 1., 1., 1.],\n",
       "       [1., 1., 1., 1., 1., 1.]])"
      ]
     },
     "execution_count": 79,
     "metadata": {},
     "output_type": "execute_result"
    }
   ],
   "source": [
    "#creating a matrix with values of 1\n",
    "np.ones((2,6))"
   ]
  },
  {
   "cell_type": "code",
   "execution_count": 80,
   "metadata": {},
   "outputs": [
    {
     "data": {
      "text/plain": [
       "array([  1.,  12.,  23.,  34.,  45.,  56.,  67.,  78.,  89., 100.])"
      ]
     },
     "execution_count": 80,
     "metadata": {},
     "output_type": "execute_result"
    }
   ],
   "source": [
    "#creating a list with definite intervels(start,stop,required numbers of values)\n",
    "np.linspace(1,100,10)"
   ]
  },
  {
   "cell_type": "code",
   "execution_count": 81,
   "metadata": {},
   "outputs": [
    {
     "data": {
      "text/plain": [
       "array([[1., 0., 0., 0., 0.],\n",
       "       [0., 1., 0., 0., 0.],\n",
       "       [0., 0., 1., 0., 0.],\n",
       "       [0., 0., 0., 1., 0.],\n",
       "       [0., 0., 0., 0., 1.]])"
      ]
     },
     "execution_count": 81,
     "metadata": {},
     "output_type": "execute_result"
    }
   ],
   "source": [
    "#creating a identity matrix\n",
    "np.eye(5)"
   ]
  },
  {
   "cell_type": "code",
   "execution_count": 82,
   "metadata": {},
   "outputs": [
    {
     "data": {
      "text/plain": [
       "array([[0.2190057 , 0.32759545, 0.7330828 , 0.45011514, 0.5157304 ],\n",
       "       [0.88369171, 0.40080432, 0.46778571, 0.35487733, 0.10657559],\n",
       "       [0.63947346, 0.15319882, 0.41474199, 0.63699787, 0.03946238],\n",
       "       [0.95135265, 0.05415041, 0.86012665, 0.48568262, 0.57201056]])"
      ]
     },
     "execution_count": 82,
     "metadata": {},
     "output_type": "execute_result"
    }
   ],
   "source": [
    "#random numbers between 0 and 1\n",
    "np.random.rand(4,5)"
   ]
  },
  {
   "cell_type": "code",
   "execution_count": 83,
   "metadata": {},
   "outputs": [
    {
     "data": {
      "text/plain": [
       "array([-2.0102698 , -0.24967739,  0.01108807,  1.04973978])"
      ]
     },
     "execution_count": 83,
     "metadata": {},
     "output_type": "execute_result"
    }
   ],
   "source": [
    "#random numbers with standard normal distribution(mean = 0 ,std = 1)\n",
    "np.random.randn(4)"
   ]
  },
  {
   "cell_type": "code",
   "execution_count": 84,
   "metadata": {},
   "outputs": [
    {
     "data": {
      "text/plain": [
       "40"
      ]
     },
     "execution_count": 84,
     "metadata": {},
     "output_type": "execute_result"
    }
   ],
   "source": [
    "#using seed doesnt change random values\n",
    "np.random.seed(2)\n",
    "np.random.randint(100)"
   ]
  },
  {
   "cell_type": "code",
   "execution_count": 85,
   "metadata": {},
   "outputs": [
    {
     "data": {
      "text/plain": [
       "array([15, 72, 22, 43, 82, 75,  7, 34, 49, 95, 75, 85, 47, 63, 31, 90, 20,\n",
       "       37, 39, 67,  4, 42, 51, 38, 33])"
      ]
     },
     "execution_count": 85,
     "metadata": {},
     "output_type": "execute_result"
    }
   ],
   "source": [
    "#random whole integers\n",
    "arr = np.random.randint(0,100,25)\n",
    "arr"
   ]
  },
  {
   "cell_type": "code",
   "execution_count": 86,
   "metadata": {},
   "outputs": [],
   "source": [
    "#reshaping arrays\n",
    "a = arr.reshape(5,5)"
   ]
  },
  {
   "cell_type": "code",
   "execution_count": 87,
   "metadata": {},
   "outputs": [
    {
     "data": {
      "text/plain": [
       "95"
      ]
     },
     "execution_count": 87,
     "metadata": {},
     "output_type": "execute_result"
    }
   ],
   "source": [
    "#max value in a array\n",
    "arr.max()"
   ]
  },
  {
   "cell_type": "code",
   "execution_count": 88,
   "metadata": {},
   "outputs": [
    {
     "data": {
      "text/plain": [
       "4"
      ]
     },
     "execution_count": 88,
     "metadata": {},
     "output_type": "execute_result"
    }
   ],
   "source": [
    "#min value in a array\n",
    "arr.min()"
   ]
  },
  {
   "cell_type": "code",
   "execution_count": 89,
   "metadata": {},
   "outputs": [
    {
     "data": {
      "text/plain": [
       "9"
      ]
     },
     "execution_count": 89,
     "metadata": {},
     "output_type": "execute_result"
    }
   ],
   "source": [
    "#defining position of max value\n",
    "arr.argmax()"
   ]
  },
  {
   "cell_type": "code",
   "execution_count": 90,
   "metadata": {},
   "outputs": [
    {
     "data": {
      "text/plain": [
       "array([4, 1, 0, 4, 2], dtype=int64)"
      ]
     },
     "execution_count": 90,
     "metadata": {},
     "output_type": "execute_result"
    }
   ],
   "source": [
    "#defining position of min value\n",
    "a.argmin(axis=0)"
   ]
  },
  {
   "cell_type": "code",
   "execution_count": 91,
   "metadata": {},
   "outputs": [
    {
     "data": {
      "text/plain": [
       "(25,)"
      ]
     },
     "execution_count": 91,
     "metadata": {},
     "output_type": "execute_result"
    }
   ],
   "source": [
    "#1d array shape(vector)\n",
    "arr.shape"
   ]
  },
  {
   "cell_type": "code",
   "execution_count": 92,
   "metadata": {},
   "outputs": [
    {
     "data": {
      "text/plain": [
       "array([3.87298335, 8.48528137, 4.69041576, 6.55743852, 9.05538514,\n",
       "       8.66025404, 2.64575131, 5.83095189, 7.        , 9.74679434,\n",
       "       8.66025404, 9.21954446, 6.8556546 , 7.93725393, 5.56776436,\n",
       "       9.48683298, 4.47213595, 6.08276253, 6.244998  , 8.18535277,\n",
       "       2.        , 6.4807407 , 7.14142843, 6.164414  , 5.74456265])"
      ]
     },
     "execution_count": 92,
     "metadata": {},
     "output_type": "execute_result"
    }
   ],
   "source": [
    "#taking sqrt of my array\n",
    "np.sqrt(arr)"
   ]
  },
  {
   "cell_type": "code",
   "execution_count": 93,
   "metadata": {},
   "outputs": [
    {
     "data": {
      "text/plain": [
       "array([2.7080502 , 4.27666612, 3.09104245, 3.76120012, 4.40671925,\n",
       "       4.31748811, 1.94591015, 3.52636052, 3.8918203 , 4.55387689,\n",
       "       4.31748811, 4.44265126, 3.8501476 , 4.14313473, 3.4339872 ,\n",
       "       4.49980967, 2.99573227, 3.61091791, 3.66356165, 4.20469262,\n",
       "       1.38629436, 3.73766962, 3.93182563, 3.63758616, 3.49650756])"
      ]
     },
     "execution_count": 93,
     "metadata": {},
     "output_type": "execute_result"
    }
   ],
   "source": [
    "#taking log values\n",
    "np.log(arr)"
   ]
  },
  {
   "cell_type": "code",
   "execution_count": 94,
   "metadata": {},
   "outputs": [
    {
     "data": {
      "text/plain": [
       "array([ 0.65028784,  0.25382336, -0.00885131, -0.83177474,  0.31322878,\n",
       "       -0.38778164,  0.6569866 ,  0.52908269, -0.95375265,  0.68326171,\n",
       "       -0.38778164, -0.17607562,  0.12357312,  0.1673557 , -0.40403765,\n",
       "        0.89399666,  0.91294525, -0.64353813,  0.96379539, -0.85551998,\n",
       "       -0.7568025 , -0.91652155,  0.67022918,  0.29636858,  0.99991186])"
      ]
     },
     "execution_count": 94,
     "metadata": {},
     "output_type": "execute_result"
    }
   ],
   "source": [
    "#displayine sine values\n",
    "np.sin(arr)"
   ]
  },
  {
   "cell_type": "code",
   "execution_count": 95,
   "metadata": {},
   "outputs": [
    {
     "data": {
      "text/plain": [
       "(5, 5)"
      ]
     },
     "execution_count": 95,
     "metadata": {},
     "output_type": "execute_result"
    }
   ],
   "source": [
    "#determing shape of a matrix\n",
    "a.shape"
   ]
  },
  {
   "cell_type": "markdown",
   "metadata": {},
   "source": [
    "<font color='blue'><font size=\"4\"><b><u>Numpy Indexing and Selections:\n",
    "    \n",
    "<font color='blue'><font size=\"4\"><b>1_D Array"
   ]
  },
  {
   "cell_type": "code",
   "execution_count": 96,
   "metadata": {},
   "outputs": [
    {
     "data": {
      "text/plain": [
       "array([ 1,  2,  3,  4,  5,  6,  7,  8,  9, 10])"
      ]
     },
     "execution_count": 96,
     "metadata": {},
     "output_type": "execute_result"
    }
   ],
   "source": [
    "my_array = np.arange(1,11)\n",
    "my_array"
   ]
  },
  {
   "cell_type": "code",
   "execution_count": 97,
   "metadata": {},
   "outputs": [
    {
     "data": {
      "text/plain": [
       "9"
      ]
     },
     "execution_count": 97,
     "metadata": {},
     "output_type": "execute_result"
    }
   ],
   "source": [
    "#accesing required position\n",
    "my_array[8]"
   ]
  },
  {
   "cell_type": "code",
   "execution_count": 98,
   "metadata": {},
   "outputs": [
    {
     "data": {
      "text/plain": [
       "array([5, 6])"
      ]
     },
     "execution_count": 98,
     "metadata": {},
     "output_type": "execute_result"
    }
   ],
   "source": [
    "#array indexing with limits\n",
    "my_array[4:6]"
   ]
  },
  {
   "cell_type": "code",
   "execution_count": 99,
   "metadata": {},
   "outputs": [
    {
     "data": {
      "text/plain": [
       "array([1, 2, 3, 4, 5, 6])"
      ]
     },
     "execution_count": 99,
     "metadata": {},
     "output_type": "execute_result"
    }
   ],
   "source": [
    "#from staring till 5 th index\n",
    "my_array[ :6]"
   ]
  },
  {
   "cell_type": "code",
   "execution_count": 100,
   "metadata": {},
   "outputs": [
    {
     "data": {
      "text/plain": [
       "array([ 2,  3,  4,  5,  6,  7,  8,  9, 10])"
      ]
     },
     "execution_count": 100,
     "metadata": {},
     "output_type": "execute_result"
    }
   ],
   "source": [
    "#from 1 til end index\n",
    "my_array[1:]"
   ]
  },
  {
   "cell_type": "code",
   "execution_count": 101,
   "metadata": {},
   "outputs": [
    {
     "data": {
      "text/plain": [
       "array([ 1,  2,  3,  4,  5,  6,  7,  8,  9, 10])"
      ]
     },
     "execution_count": 101,
     "metadata": {},
     "output_type": "execute_result"
    }
   ],
   "source": [
    "#displaying full array\n",
    "my_array[ : ]"
   ]
  },
  {
   "cell_type": "code",
   "execution_count": 102,
   "metadata": {},
   "outputs": [
    {
     "data": {
      "text/plain": [
       "array([10,  9,  8,  7,  6,  5,  4,  3,  2,  1])"
      ]
     },
     "execution_count": 102,
     "metadata": {},
     "output_type": "execute_result"
    }
   ],
   "source": [
    "#reversing array\n",
    "my_array[ : :-1]"
   ]
  },
  {
   "cell_type": "code",
   "execution_count": 103,
   "metadata": {},
   "outputs": [
    {
     "data": {
      "text/plain": [
       "array([  1, 100, 100,   4,   5,   6,   7,   8,   9,  10])"
      ]
     },
     "execution_count": 103,
     "metadata": {},
     "output_type": "execute_result"
    }
   ],
   "source": [
    "#changing values with range specified\n",
    "my_array[1:3] = 100\n",
    "my_array"
   ]
  },
  {
   "cell_type": "code",
   "execution_count": 104,
   "metadata": {},
   "outputs": [],
   "source": [
    "#creating a new sliced array\n",
    "slice_array = my_array[0:6]"
   ]
  },
  {
   "cell_type": "code",
   "execution_count": 105,
   "metadata": {},
   "outputs": [],
   "source": [
    "#changing all values of sliced array to 97\n",
    "slice_array[:] =97"
   ]
  },
  {
   "cell_type": "code",
   "execution_count": 106,
   "metadata": {},
   "outputs": [
    {
     "data": {
      "text/plain": [
       "array([97, 97, 97, 97, 97, 97])"
      ]
     },
     "execution_count": 106,
     "metadata": {},
     "output_type": "execute_result"
    }
   ],
   "source": [
    "slice_array"
   ]
  },
  {
   "cell_type": "code",
   "execution_count": 107,
   "metadata": {},
   "outputs": [
    {
     "data": {
      "text/plain": [
       "array([97, 97, 97, 97, 97, 97,  7,  8,  9, 10])"
      ]
     },
     "execution_count": 107,
     "metadata": {},
     "output_type": "execute_result"
    }
   ],
   "source": [
    "#copying whole numpy array\n",
    "copy_array = my_array.copy()\n",
    "copy_array"
   ]
  },
  {
   "cell_type": "markdown",
   "metadata": {},
   "source": [
    "<font color='blue'><font size=\"4\"><b>2_D Array"
   ]
  },
  {
   "cell_type": "code",
   "execution_count": 108,
   "metadata": {},
   "outputs": [],
   "source": [
    "#creating random arrays\n",
    "my_array_2d = np.random.randint(0,100,size=(10, 4))"
   ]
  },
  {
   "cell_type": "code",
   "execution_count": 109,
   "metadata": {},
   "outputs": [
    {
     "data": {
      "text/plain": [
       "array([[58, 67, 69, 88],\n",
       "       [68, 46, 70, 95],\n",
       "       [83, 31, 66, 80],\n",
       "       [52, 76, 50,  4],\n",
       "       [90, 63, 79, 49],\n",
       "       [39, 46,  8, 50],\n",
       "       [15,  8, 17, 22],\n",
       "       [73, 57, 90, 62],\n",
       "       [83, 96, 43, 32],\n",
       "       [26,  8, 76, 10]])"
      ]
     },
     "execution_count": 109,
     "metadata": {},
     "output_type": "execute_result"
    }
   ],
   "source": [
    "my_array_2d"
   ]
  },
  {
   "cell_type": "code",
   "execution_count": 110,
   "metadata": {},
   "outputs": [
    {
     "data": {
      "text/plain": [
       "95"
      ]
     },
     "execution_count": 110,
     "metadata": {},
     "output_type": "execute_result"
    }
   ],
   "source": [
    "#accessing specified row and column\n",
    "my_array_2d[1][3] "
   ]
  },
  {
   "cell_type": "code",
   "execution_count": 111,
   "metadata": {},
   "outputs": [
    {
     "data": {
      "text/plain": [
       "95"
      ]
     },
     "execution_count": 111,
     "metadata": {},
     "output_type": "execute_result"
    }
   ],
   "source": [
    "#diiferent way to access row and column\n",
    "my_array_2d[1,3]"
   ]
  },
  {
   "cell_type": "code",
   "execution_count": 112,
   "metadata": {},
   "outputs": [
    {
     "data": {
      "text/plain": [
       "array([[58, 67, 69, 88],\n",
       "       [68, 46, 70, 95]])"
      ]
     },
     "execution_count": 112,
     "metadata": {},
     "output_type": "execute_result"
    }
   ],
   "source": [
    "#slicinf with parameters( row start:row end,column start:coumn end)\n",
    "my_array_2d[:2,0:]"
   ]
  },
  {
   "cell_type": "code",
   "execution_count": 113,
   "metadata": {},
   "outputs": [],
   "source": [
    "#to check values greater than 50\n",
    "bool_array = my_array_2d>50"
   ]
  },
  {
   "cell_type": "code",
   "execution_count": 114,
   "metadata": {},
   "outputs": [
    {
     "data": {
      "text/plain": [
       "array([[ True,  True,  True,  True],\n",
       "       [ True, False,  True,  True],\n",
       "       [ True, False,  True,  True],\n",
       "       [ True,  True, False, False],\n",
       "       [ True,  True,  True, False],\n",
       "       [False, False, False, False],\n",
       "       [False, False, False, False],\n",
       "       [ True,  True,  True,  True],\n",
       "       [ True,  True, False, False],\n",
       "       [False, False,  True, False]])"
      ]
     },
     "execution_count": 114,
     "metadata": {},
     "output_type": "execute_result"
    }
   ],
   "source": [
    "#accessing boolean outputs\n",
    "bool_array"
   ]
  },
  {
   "cell_type": "code",
   "execution_count": 115,
   "metadata": {},
   "outputs": [
    {
     "data": {
      "text/plain": [
       "array([58, 67, 69, 88, 68, 70, 95, 83, 66, 80, 52, 76, 90, 63, 79, 73, 57,\n",
       "       90, 62, 83, 96, 76])"
      ]
     },
     "execution_count": 115,
     "metadata": {},
     "output_type": "execute_result"
    }
   ],
   "source": [
    "#accessing values \n",
    "my_array_2d[bool_array]"
   ]
  },
  {
   "cell_type": "code",
   "execution_count": 116,
   "metadata": {},
   "outputs": [
    {
     "data": {
      "text/plain": [
       "array([58, 67, 69, 88, 68, 70, 95, 83, 66, 80, 52, 76, 90, 63, 79, 73, 57,\n",
       "       90, 62, 83, 96, 76])"
      ]
     },
     "execution_count": 116,
     "metadata": {},
     "output_type": "execute_result"
    }
   ],
   "source": [
    "#another way to access values greater than 50\n",
    "my_array_2d[my_array_2d>50]"
   ]
  },
  {
   "cell_type": "code",
   "execution_count": 117,
   "metadata": {},
   "outputs": [
    {
     "data": {
      "text/plain": [
       "array([46, 31,  4, 49, 39, 46,  8, 15,  8, 17, 22, 43, 32, 26,  8, 10])"
      ]
     },
     "execution_count": 117,
     "metadata": {},
     "output_type": "execute_result"
    }
   ],
   "source": [
    "#to get values less than 50 in my array\n",
    "my_array_2d[my_array_2d<50]"
   ]
  },
  {
   "cell_type": "code",
   "execution_count": 118,
   "metadata": {},
   "outputs": [],
   "source": [
    "#creating 2d arrays with arange\n",
    "arr_2d = np.arange(100).reshape(25,4)"
   ]
  },
  {
   "cell_type": "code",
   "execution_count": 119,
   "metadata": {},
   "outputs": [
    {
     "data": {
      "text/plain": [
       "array([[ 0,  1,  2,  3],\n",
       "       [ 4,  5,  6,  7],\n",
       "       [ 8,  9, 10, 11],\n",
       "       [12, 13, 14, 15],\n",
       "       [16, 17, 18, 19],\n",
       "       [20, 21, 22, 23],\n",
       "       [24, 25, 26, 27],\n",
       "       [28, 29, 30, 31],\n",
       "       [32, 33, 34, 35],\n",
       "       [36, 37, 38, 39],\n",
       "       [40, 41, 42, 43],\n",
       "       [44, 45, 46, 47],\n",
       "       [48, 49, 50, 51],\n",
       "       [52, 53, 54, 55],\n",
       "       [56, 57, 58, 59],\n",
       "       [60, 61, 62, 63],\n",
       "       [64, 65, 66, 67],\n",
       "       [68, 69, 70, 71],\n",
       "       [72, 73, 74, 75],\n",
       "       [76, 77, 78, 79],\n",
       "       [80, 81, 82, 83],\n",
       "       [84, 85, 86, 87],\n",
       "       [88, 89, 90, 91],\n",
       "       [92, 93, 94, 95],\n",
       "       [96, 97, 98, 99]])"
      ]
     },
     "execution_count": 119,
     "metadata": {},
     "output_type": "execute_result"
    }
   ],
   "source": [
    "arr_2d"
   ]
  },
  {
   "cell_type": "markdown",
   "metadata": {},
   "source": [
    "# Numpy Operations\n",
    "\n",
    "\n",
    "## 1 .Array with arrays\n",
    "## 2 . Array with scalars\n",
    "## 3 . Universal array functions"
   ]
  },
  {
   "cell_type": "code",
   "execution_count": 120,
   "metadata": {},
   "outputs": [],
   "source": [
    "#initializing arrays\n",
    "array1 = np.array([10,20,30,40,50])\n",
    "array2 = np.arange(5)"
   ]
  },
  {
   "cell_type": "code",
   "execution_count": 121,
   "metadata": {},
   "outputs": [
    {
     "data": {
      "text/plain": [
       "array([10, 21, 32, 43, 54])"
      ]
     },
     "execution_count": 121,
     "metadata": {},
     "output_type": "execute_result"
    }
   ],
   "source": [
    "#adding arrays\n",
    "array_tot = array1 + array2\n",
    "\n",
    "array_tot"
   ]
  },
  {
   "cell_type": "code",
   "execution_count": 122,
   "metadata": {},
   "outputs": [],
   "source": [
    "#subtracting arrays\n",
    "array_sub = array1-array2"
   ]
  },
  {
   "cell_type": "code",
   "execution_count": 123,
   "metadata": {},
   "outputs": [
    {
     "data": {
      "text/plain": [
       "array([2.20264658e+04, 4.85165195e+08, 1.06864746e+13, 2.35385267e+17,\n",
       "       5.18470553e+21])"
      ]
     },
     "execution_count": 123,
     "metadata": {},
     "output_type": "execute_result"
    }
   ],
   "source": [
    "#exponential of array1\n",
    "np.exp(array1)"
   ]
  },
  {
   "cell_type": "code",
   "execution_count": 124,
   "metadata": {},
   "outputs": [
    {
     "name": "stderr",
     "output_type": "stream",
     "text": [
      "C:\\Users\\SATHISH\\Anaconda3\\lib\\site-packages\\ipykernel_launcher.py:2: RuntimeWarning: divide by zero encountered in log\n",
      "  \n"
     ]
    },
    {
     "data": {
      "text/plain": [
       "array([      -inf, 0.        , 0.69314718, 1.09861229, 1.38629436])"
      ]
     },
     "execution_count": 124,
     "metadata": {},
     "output_type": "execute_result"
    }
   ],
   "source": [
    "#log value of array2\n",
    "np.log(array2)"
   ]
  },
  {
   "cell_type": "code",
   "execution_count": 125,
   "metadata": {},
   "outputs": [
    {
     "data": {
      "text/plain": [
       "10"
      ]
     },
     "execution_count": 125,
     "metadata": {},
     "output_type": "execute_result"
    }
   ],
   "source": [
    "#sum of a specific array\n",
    "array2.sum()"
   ]
  },
  {
   "cell_type": "code",
   "execution_count": 126,
   "metadata": {},
   "outputs": [
    {
     "data": {
      "text/plain": [
       "0"
      ]
     },
     "execution_count": 126,
     "metadata": {},
     "output_type": "execute_result"
    }
   ],
   "source": [
    "#min of a specific array\n",
    "array2.min()"
   ]
  },
  {
   "cell_type": "markdown",
   "metadata": {},
   "source": [
    "## NUMPY Find & Replace"
   ]
  },
  {
   "cell_type": "code",
   "execution_count": 127,
   "metadata": {},
   "outputs": [],
   "source": [
    "#creating Random values\n",
    "arr= np.arange(10)"
   ]
  },
  {
   "cell_type": "code",
   "execution_count": 128,
   "metadata": {},
   "outputs": [
    {
     "data": {
      "text/plain": [
       "array([0, 1, 2, 3, 4, 5, 6, 7, 8, 9])"
      ]
     },
     "execution_count": 128,
     "metadata": {},
     "output_type": "execute_result"
    }
   ],
   "source": [
    "#printing out array\n",
    "arr"
   ]
  },
  {
   "cell_type": "code",
   "execution_count": 129,
   "metadata": {},
   "outputs": [
    {
     "data": {
      "text/plain": [
       "array([ 0, -1,  2, -1,  4, -1,  6, -1,  8, -1])"
      ]
     },
     "execution_count": 129,
     "metadata": {},
     "output_type": "execute_result"
    }
   ],
   "source": [
    "#checking With Where(condition,value to be overwrited,array_name)\n",
    "out = np.where(arr%2==1,-1,arr)\n",
    "\n",
    "out"
   ]
  },
  {
   "cell_type": "code",
   "execution_count": 130,
   "metadata": {},
   "outputs": [
    {
     "name": "stdout",
     "output_type": "stream",
     "text": [
      "enter the range = 5\n"
     ]
    }
   ],
   "source": [
    "#initializing new blank list\n",
    "List = []\n",
    "\n",
    "\n",
    "#getting the range\n",
    "ran=int(input(\"enter the range = \"))"
   ]
  },
  {
   "cell_type": "code",
   "execution_count": 131,
   "metadata": {},
   "outputs": [
    {
     "name": "stdout",
     "output_type": "stream",
     "text": [
      "Enter the number = 12\n",
      "Enter the number = 78\n",
      "Enter the number = 56\n",
      "Enter the number = 23\n",
      "Enter the number = 45\n"
     ]
    }
   ],
   "source": [
    "#appending values to the list\n",
    "for i in range(ran):\n",
    "    List.append(int(input(\"Enter the number = \")))"
   ]
  },
  {
   "cell_type": "code",
   "execution_count": 132,
   "metadata": {},
   "outputs": [],
   "source": [
    "#changing list to array\n",
    "arr_1=np.array(List)"
   ]
  },
  {
   "cell_type": "code",
   "execution_count": 133,
   "metadata": {},
   "outputs": [
    {
     "data": {
      "text/plain": [
       "array([], dtype=int32)"
      ]
     },
     "execution_count": 133,
     "metadata": {},
     "output_type": "execute_result"
    }
   ],
   "source": [
    "#checking of intersection of two arrays\n",
    "np.intersect1d(arr_1,arr)"
   ]
  },
  {
   "cell_type": "markdown",
   "metadata": {},
   "source": [
    "## Plotting Using Matplotlib"
   ]
  },
  {
   "cell_type": "markdown",
   "metadata": {},
   "source": [
    "<font size = 5 face=\"verdana\" color=\"Red\">Matplotlib\n",
    "<p align=\"justify\"><font size = 3 face=\"verdana\" color=\"Blue\">In Data Analytics, one of the best but also more challenging ways to get your insights across is to visualize them: that way, you can more easily identify patterns, grasp difficult concepts or draw the attention to key elements. \n",
    "Matplotlib is a 2D plotting library that allows you to create publication-quality figures for interactive graphing, scientific publishing, user interface development and web application servers targeting multiple user interfaces and hardcopy output formats. </font> </p>\n",
    "<p align=\"justify\"><font size = 3 face=\"verdana\" color=\"Blue\">With Mathplotlib, we can generate plots, histograms, power spectra, bar charts, error charts, scatterplots, etc., with just a few lines of code. </font></p>"
   ]
  },
  {
   "cell_type": "code",
   "execution_count": 134,
   "metadata": {},
   "outputs": [],
   "source": [
    "#creating uniformly distributed values\n",
    "x = np.linspace(0,5,11)\n",
    "y = x**2"
   ]
  },
  {
   "cell_type": "code",
   "execution_count": 135,
   "metadata": {},
   "outputs": [
    {
     "data": {
      "text/plain": [
       "Text(0.5, 1.0, 'data')"
      ]
     },
     "execution_count": 135,
     "metadata": {},
     "output_type": "execute_result"
    },
    {
     "data": {
      "image/png": "[encoded data removed]",
      "text/plain": [
       "<Figure size 432x288 with 1 Axes>"
      ]
     },
     "metadata": {
      "needs_background": "light"
     },
     "output_type": "display_data"
    }
   ],
   "source": [
    "#plotting a graph\n",
    "\n",
    "pyp.plot(x,y,\"red\",marker = \"*\")\n",
    "pyp.xlabel(\"sample\")\n",
    "pyp.ylabel(\"python\")\n",
    "pyp.title(\"data\")"
   ]
  },
  {
   "cell_type": "code",
   "execution_count": 136,
   "metadata": {},
   "outputs": [
    {
     "data": {
      "text/plain": [
       "[<matplotlib.lines.Line2D at 0x2614442cba8>]"
      ]
     },
     "execution_count": 136,
     "metadata": {},
     "output_type": "execute_result"
    },
    {
     "data": {
      "image/png": "[encoded data removed]",
      "text/plain": [
       "<Figure size 432x288 with 3 Axes>"
      ]
     },
     "metadata": {
      "needs_background": "light"
     },
     "output_type": "display_data"
    }
   ],
   "source": [
    "#printing subplots(nrows,ncolumns,positions)\n",
    "pyp.subplot(1,3,1)\n",
    "pyp.plot(x,y,\"r\")\n",
    "pyp.subplot(1,3,2)\n",
    "pyp.plot(x,y,\"r\")\n",
    "pyp.subplot(1,3,3)\n",
    "pyp.plot(x,y,\"r\")"
   ]
  },
  {
   "cell_type": "code",
   "execution_count": 137,
   "metadata": {},
   "outputs": [
    {
     "data": {
      "text/plain": [
       "[<matplotlib.lines.Line2D at 0x26144549c50>]"
      ]
     },
     "execution_count": 137,
     "metadata": {},
     "output_type": "execute_result"
    },
    {
     "data": {
      "image/png": "[encoded data removed]",
      "text/plain": [
       "<Figure size 432x288 with 4 Axes>"
      ]
     },
     "metadata": {
      "needs_background": "light"
     },
     "output_type": "display_data"
    }
   ],
   "source": [
    "#printing multiple sublots\n",
    "pyp.subplot(2,3,(1,2))\n",
    "pyp.plot(x,y,\"r\")\n",
    "pyp.subplot(2,3,3)\n",
    "pyp.plot(x*2,y*2,\"b\")\n",
    "pyp.subplot(2,3,4)\n",
    "pyp.plot(x-1,y-1,\"pink\")\n",
    "pyp.subplot(2,3,(5,6))\n",
    "pyp.plot(x-1,y-1,\"r\")"
   ]
  },
  {
   "cell_type": "markdown",
   "metadata": {},
   "source": [
    "<font color='blue'><font size=\"4\"><b>Object Oriented Way:\n",
    "    "
   ]
  },
  {
   "cell_type": "code",
   "execution_count": 138,
   "metadata": {},
   "outputs": [
    {
     "data": {
      "text/plain": [
       "Text(0.5, 0, 'Set Title')"
      ]
     },
     "execution_count": 138,
     "metadata": {},
     "output_type": "execute_result"
    },
    {
     "data": {
      "image/png": "[encoded data removed]",
      "text/plain": [
       "<Figure size 432x288 with 1 Axes>"
      ]
     },
     "metadata": {
      "needs_background": "light"
     },
     "output_type": "display_data"
    }
   ],
   "source": [
    "#add axes(position from left,position from bottom,width,height)\n",
    "fig  =  pyp.figure()\n",
    "axes = fig.add_axes([0.1,0.1,0.8,0.8])\n",
    "axes.plot(x,y)\n",
    "axes.set_xlabel(\"X Label\")\n",
    "axes.set_xlabel(\"Y Label\")\n",
    "axes.set_xlabel(\"Set Title\")"
   ]
  },
  {
   "cell_type": "code",
   "execution_count": 139,
   "metadata": {},
   "outputs": [
    {
     "data": {
      "text/plain": [
       "[<matplotlib.lines.Line2D at 0x26144926a20>]"
      ]
     },
     "execution_count": 139,
     "metadata": {},
     "output_type": "execute_result"
    },
    {
     "data": {
      "image/png": "[encoded data removed]",
      "text/plain": [
       "<Figure size 432x288 with 17 Axes>"
      ]
     },
     "metadata": {
      "needs_background": "light"
     },
     "output_type": "display_data"
    }
   ],
   "source": [
    "#ax.plot(x,y,colour = \" \",linewidth = 3(thickness of line),linestyle = \"--\",marker = \"+\",markersize = 10)\n",
    "fig = pyp.figure()\n",
    "\n",
    "axes1 = fig.add_axes([0,0,2,2])\n",
    "axes1.plot(y,x,\"black\")\n",
    "axes2 = fig.add_axes([0.01,1.59,0.40,0.40])\n",
    "axes2.plot(x,y,\"r\")\n",
    "axes3 = fig.add_axes([0.55,1.59,0.4,0.40])\n",
    "axes3.plot(x,y,\"B\")\n",
    "axes4 = fig.add_axes([0.01,1.1,0.4,0.4])\n",
    "axes4.plot(x,y,\"B\")\n",
    "axes5 = fig.add_axes([0.55,1.1,0.4,0.4])\n",
    "axes5.plot(x,y,\"R\")\n",
    "axes6 = fig.add_axes([0.01,0.55,0.4,0.4])\n",
    "axes6.plot(x,y,\"G\")\n",
    "axes7 = fig.add_axes([0.55,0.55,0.4,0.4])\n",
    "axes7.plot(x,y,\"B\")\n",
    "axes8 = fig.add_axes([0.01,0.05,0.4,0.4])\n",
    "axes8.plot(x,y,\"ORANGE\")\n",
    "axes9 = fig.add_axes([0.55,0.05,0.4,0.4])\n",
    "axes9.plot(x,y,\"G\")\n",
    "axes10 = fig.add_axes([1.05,1.59,0.40,0.40])\n",
    "axes10.plot(x,y,\"GREEN\")\n",
    "axes11 = fig.add_axes([1.55,1.59,0.4,0.40])\n",
    "axes11.plot(x,y,\"ORANGE\")\n",
    "axes12 = fig.add_axes([1.05,1.1,0.4,0.4])\n",
    "axes12.plot(x,y,\"B\")\n",
    "axes13 = fig.add_axes([1.55,1.1,0.4,0.4])\n",
    "axes13.plot(x,y,\"G\")\n",
    "axes14 = fig.add_axes([1.05,0.55,0.4,0.4])\n",
    "axes14.plot(x,y,\"R\")\n",
    "axes15 = fig.add_axes([1.55,0.55,0.4,0.4])\n",
    "axes15.plot(x,y,\"B\")\n",
    "axes16 = fig.add_axes([1.05,0.05,0.4,0.4])\n",
    "axes16.plot(x,y,\"B\")\n",
    "axes17= fig.add_axes([1.55,0.05,0.4,0.4])\n",
    "axes17.plot(x,y,\"R\")"
   ]
  },
  {
   "cell_type": "markdown",
   "metadata": {},
   "source": [
    "<font color='blue'><font size=\"4\"><b>Plotting With Various Parameters:"
   ]
  },
  {
   "cell_type": "code",
   "execution_count": 140,
   "metadata": {},
   "outputs": [
    {
     "data": {
      "text/plain": [
       "[<matplotlib.lines.Line2D at 0x26144b1bb38>]"
      ]
     },
     "execution_count": 140,
     "metadata": {},
     "output_type": "execute_result"
    },
    {
     "data": {
      "image/png": "[encoded data removed]",
      "text/plain": [
       "<Figure size 432x288 with 1 Axes>"
      ]
     },
     "metadata": {
      "needs_background": "light"
     },
     "output_type": "display_data"
    }
   ],
   "source": [
    "#ax.plot(x,y,colour = \" \",linewidth = 3(thickness of line),linestyle = \"--\",marker = \"+\",markersize = 10,alpha = (transparency),markeredgecolor = \"\",markeredgewidth = ,markerfacecolor =\"\")\n",
    "pyp.plot(x,y, color=\"Yellow\",linewidth = 3,alpha = 0.8,linestyle = \"steps\",marker =\"o\",markersize = 25,markerfacecolor = \"red\",markeredgewidth = 2 ,markeredgecolor = \"Green\")"
   ]
  },
  {
   "cell_type": "code",
   "execution_count": 141,
   "metadata": {},
   "outputs": [
    {
     "data": {
      "text/plain": [
       "<matplotlib.legend.Legend at 0x26144d951d0>"
      ]
     },
     "execution_count": 141,
     "metadata": {},
     "output_type": "execute_result"
    },
    {
     "data": {
      "image/png": "[encoded data removed]",
      "text/plain": [
       "<Figure size 432x288 with 1 Axes>"
      ]
     },
     "metadata": {
      "needs_background": "light"
     },
     "output_type": "display_data"
    }
   ],
   "source": [
    "#Plotting two different lines in  a graph\n",
    "pyp.plot([1,2,3,4,5],[6,12,18,24,28], label = \"India\")\n",
    "pyp.plot([1,2,3,4,5],[4,13,15,23,27], label = \"Pakistan\")\n",
    "pyp.legend()\n",
    "#representing score analysis of two team with line chart"
   ]
  },
  {
   "cell_type": "markdown",
   "metadata": {},
   "source": [
    "# Plotting using SEABORN\n",
    "## <font size = 5 face=\"verdana\" color=\"Red\">Seaborn\n",
    "<p align=\"justify\"><font size = 3 face=\"verdana\" color=\"Blue\">Seaborn is a Python data visualization library based on matplotlib. It provides a high-level interface for drawing attractive and informative statistical graphics.\n",
    "Here is some of the functionality that seaborn offers:</font></p>\n",
    "<br>\n",
    "<font size = 3 face=\"tahoma\" color=\"Blue\">\n",
    "    <ul>\n",
    "        <li>A dataset-oriented API for examining relationships between multiple variables</li>\n",
    "        <li>Specialized support for using categorical variables to show observations or aggregate statistics</li>\n",
    "        <li>Options for visualizing univariate or bivariate distributions and for comparing them between subsets of data</li>\n",
    "        <li>Automatic estimation and plotting of linear regression models for different kinds dependent variables</li>\n",
    "        <li>Convenient views onto the overall structure of complex datasets</li>\n",
    "        <li>High-level abstractions for structuring multi-plot grids that let you easily build complex visualizations</li>\n",
    "        <li>Concise control over matplotlib figure styling with several built-in themes</li>\n",
    "        <li>Tools for choosing color palettes that faithfully reveal patterns in your data</li></ul> </font>\n",
    "    \n"
   ]
  },
  {
   "cell_type": "markdown",
   "metadata": {},
   "source": [
    "## Categorical DataPlots\n",
    "1.factorplot\n",
    "\n",
    "2.boxplot\n",
    "\n",
    "3.violinplot\n",
    "\n",
    "4.stripplot\n",
    "\n",
    "5.swarmplot\n"
   ]
  },
  {
   "cell_type": "code",
   "execution_count": 142,
   "metadata": {
    "scrolled": false
   },
   "outputs": [
    {
     "data": {
      "text/html": [
       "<div>\n",
       "<style scoped>\n",
       "    .dataframe tbody tr th:only-of-type {\n",
       "        vertical-align: middle;\n",
       "    }\n",
       "\n",
       "    .dataframe tbody tr th {\n",
       "        vertical-align: top;\n",
       "    }\n",
       "\n",
       "    .dataframe thead th {\n",
       "        text-align: right;\n",
       "    }\n",
       "</style>\n",
       "<table border=\"1\" class=\"dataframe\">\n",
       "  <thead>\n",
       "    <tr style=\"text-align: right;\">\n",
       "      <th></th>\n",
       "      <th>PhoneId</th>\n",
       "      <th>Pixel Density</th>\n",
       "      <th>Screen Size</th>\n",
       "      <th>Weight</th>\n",
       "      <th>RAM</th>\n",
       "      <th>Processor_frequency</th>\n",
       "      <th>Screen to Body Ratio (calculated)</th>\n",
       "      <th>Height</th>\n",
       "      <th>Internal Memory</th>\n",
       "      <th>Capacity</th>\n",
       "      <th>Resolution</th>\n",
       "      <th>Rating</th>\n",
       "      <th>Brand</th>\n",
       "      <th>OS Name</th>\n",
       "      <th>Sim 1</th>\n",
       "      <th>Sim 2</th>\n",
       "      <th>SIM Slot</th>\n",
       "      <th>Processesor</th>\n",
       "    </tr>\n",
       "  </thead>\n",
       "  <tbody>\n",
       "    <tr>\n",
       "      <th>0</th>\n",
       "      <td>0</td>\n",
       "      <td>403</td>\n",
       "      <td>6.26</td>\n",
       "      <td>182</td>\n",
       "      <td>4</td>\n",
       "      <td>1.8</td>\n",
       "      <td>80.68</td>\n",
       "      <td>157.9</td>\n",
       "      <td>64</td>\n",
       "      <td>4000</td>\n",
       "      <td>20</td>\n",
       "      <td>4.5</td>\n",
       "      <td>Xiaomi</td>\n",
       "      <td>Android</td>\n",
       "      <td>4G</td>\n",
       "      <td>4G</td>\n",
       "      <td>Dual SIM, GSM+GSM, Dual VoLTE</td>\n",
       "      <td>Octa</td>\n",
       "    </tr>\n",
       "    <tr>\n",
       "      <th>1</th>\n",
       "      <td>1</td>\n",
       "      <td>271</td>\n",
       "      <td>6.20</td>\n",
       "      <td>168</td>\n",
       "      <td>3</td>\n",
       "      <td>1.8</td>\n",
       "      <td>80.85</td>\n",
       "      <td>156.2</td>\n",
       "      <td>32</td>\n",
       "      <td>4230</td>\n",
       "      <td>8</td>\n",
       "      <td>4.5</td>\n",
       "      <td>Realme</td>\n",
       "      <td>Android</td>\n",
       "      <td>4G</td>\n",
       "      <td>4G</td>\n",
       "      <td>Dual SIM, GSM+GSM, Dual VoLTE</td>\n",
       "      <td>Octa</td>\n",
       "    </tr>\n",
       "    <tr>\n",
       "      <th>2</th>\n",
       "      <td>2</td>\n",
       "      <td>409</td>\n",
       "      <td>6.30</td>\n",
       "      <td>168</td>\n",
       "      <td>3</td>\n",
       "      <td>2.1</td>\n",
       "      <td>83.68</td>\n",
       "      <td>157.0</td>\n",
       "      <td>32</td>\n",
       "      <td>3500</td>\n",
       "      <td>25</td>\n",
       "      <td>4.4</td>\n",
       "      <td>Realme</td>\n",
       "      <td>Android</td>\n",
       "      <td>4G</td>\n",
       "      <td>4G</td>\n",
       "      <td>Dual SIM, GSM+GSM, Dual VoLTE</td>\n",
       "      <td>Octa</td>\n",
       "    </tr>\n",
       "    <tr>\n",
       "      <th>3</th>\n",
       "      <td>4</td>\n",
       "      <td>411</td>\n",
       "      <td>6.00</td>\n",
       "      <td>169</td>\n",
       "      <td>4</td>\n",
       "      <td>2.2</td>\n",
       "      <td>74.78</td>\n",
       "      <td>159.8</td>\n",
       "      <td>64</td>\n",
       "      <td>3300</td>\n",
       "      <td>24</td>\n",
       "      <td>4.3</td>\n",
       "      <td>Samsung</td>\n",
       "      <td>Android</td>\n",
       "      <td>4G</td>\n",
       "      <td>4G</td>\n",
       "      <td>Dual SIM, GSM+GSM</td>\n",
       "      <td>Octa</td>\n",
       "    </tr>\n",
       "    <tr>\n",
       "      <th>4</th>\n",
       "      <td>5</td>\n",
       "      <td>396</td>\n",
       "      <td>6.50</td>\n",
       "      <td>175</td>\n",
       "      <td>4</td>\n",
       "      <td>2.2</td>\n",
       "      <td>84.23</td>\n",
       "      <td>160.4</td>\n",
       "      <td>64</td>\n",
       "      <td>3750</td>\n",
       "      <td>16</td>\n",
       "      <td>4.4</td>\n",
       "      <td>Honor</td>\n",
       "      <td>Android</td>\n",
       "      <td>4G</td>\n",
       "      <td>4G</td>\n",
       "      <td>Dual SIM, GSM+GSM, Dual VoLTE</td>\n",
       "      <td>Octa</td>\n",
       "    </tr>\n",
       "  </tbody>\n",
       "</table>\n",
       "</div>"
      ],
      "text/plain": [
       "   PhoneId  Pixel Density  Screen Size  Weight  RAM  Processor_frequency  \\\n",
       "0        0            403         6.26     182    4                  1.8   \n",
       "1        1            271         6.20     168    3                  1.8   \n",
       "2        2            409         6.30     168    3                  2.1   \n",
       "3        4            411         6.00     169    4                  2.2   \n",
       "4        5            396         6.50     175    4                  2.2   \n",
       "\n",
       "   Screen to Body Ratio (calculated)  Height  Internal Memory  Capacity  \\\n",
       "0                              80.68   157.9               64      4000   \n",
       "1                              80.85   156.2               32      4230   \n",
       "2                              83.68   157.0               32      3500   \n",
       "3                              74.78   159.8               64      3300   \n",
       "4                              84.23   160.4               64      3750   \n",
       "\n",
       "   Resolution  Rating    Brand  OS Name Sim 1 Sim 2  \\\n",
       "0          20     4.5   Xiaomi  Android    4G    4G   \n",
       "1           8     4.5   Realme  Android    4G    4G   \n",
       "2          25     4.4   Realme  Android    4G    4G   \n",
       "3          24     4.3  Samsung  Android    4G    4G   \n",
       "4          16     4.4    Honor  Android    4G    4G   \n",
       "\n",
       "                        SIM Slot Processesor  \n",
       "0  Dual SIM, GSM+GSM, Dual VoLTE        Octa  \n",
       "1  Dual SIM, GSM+GSM, Dual VoLTE        Octa  \n",
       "2  Dual SIM, GSM+GSM, Dual VoLTE        Octa  \n",
       "3              Dual SIM, GSM+GSM        Octa  \n",
       "4  Dual SIM, GSM+GSM, Dual VoLTE        Octa  "
      ]
     },
     "execution_count": 142,
     "metadata": {},
     "output_type": "execute_result"
    }
   ],
   "source": [
    "mob_data.head()"
   ]
  },
  {
   "cell_type": "code",
   "execution_count": 143,
   "metadata": {},
   "outputs": [
    {
     "name": "stderr",
     "output_type": "stream",
     "text": [
      "C:\\Users\\SATHISH\\Anaconda3\\lib\\site-packages\\seaborn\\categorical.py:3666: UserWarning: The `factorplot` function has been renamed to `catplot`. The original name will be removed in a future release. Please update your code. Note that the default `kind` in `factorplot` (`'point'`) has changed `'strip'` in `catplot`.\n",
      "  warnings.warn(msg)\n"
     ]
    },
    {
     "data": {
      "text/plain": [
       "<seaborn.axisgrid.FacetGrid at 0x26144dd7a90>"
      ]
     },
     "execution_count": 143,
     "metadata": {},
     "output_type": "execute_result"
    },
    {
     "data": {
      "image/png": "[encoded data removed]",
      "text/plain": [
       "<Figure size 360x360 with 1 Axes>"
      ]
     },
     "metadata": {
      "needs_background": "light"
     },
     "output_type": "display_data"
    }
   ],
   "source": [
    "#(x = \"\",y =\"\",data = dataset)\n",
    "sb.factorplot(x='Internal Memory', y = 'Rating',  data = mob_data)"
   ]
  },
  {
   "cell_type": "markdown",
   "metadata": {},
   "source": [
    "<font size = \"4\" color=\"brown\">From this plot we see that internal memory is directly proportional to Rating..</font>"
   ]
  },
  {
   "cell_type": "code",
   "execution_count": 144,
   "metadata": {},
   "outputs": [
    {
     "data": {
      "text/plain": [
       "(array([0, 1, 2, 3, 4, 5, 6, 7, 8]), <a list of 9 Text xticklabel objects>)"
      ]
     },
     "execution_count": 144,
     "metadata": {},
     "output_type": "execute_result"
    },
    {
     "data": {
      "image/png": "[encoded data removed]",
      "text/plain": [
       "<Figure size 432x288 with 1 Axes>"
      ]
     },
     "metadata": {
      "needs_background": "light"
     },
     "output_type": "display_data"
    }
   ],
   "source": [
    "sb.boxplot(x=\"Internal Memory\",y=\"Rating\",data=mob_data)\n",
    "pyp.xticks(rotation = 70)#rotating x axis labels"
   ]
  },
  {
   "cell_type": "code",
   "execution_count": 145,
   "metadata": {},
   "outputs": [
    {
     "data": {
      "text/plain": [
       "<matplotlib.axes._subplots.AxesSubplot at 0x26145f71ac8>"
      ]
     },
     "execution_count": 145,
     "metadata": {},
     "output_type": "execute_result"
    },
    {
     "data": {
      "image/png": "[encoded data removed]",
      "text/plain": [
       "<Figure size 432x288 with 1 Axes>"
      ]
     },
     "metadata": {
      "needs_background": "light"
     },
     "output_type": "display_data"
    }
   ],
   "source": [
    "sb.violinplot(x=\"OS Name\",y = \"Rating\", data = mob_data)"
   ]
  },
  {
   "cell_type": "code",
   "execution_count": 146,
   "metadata": {},
   "outputs": [
    {
     "data": {
      "text/plain": [
       "<matplotlib.axes._subplots.AxesSubplot at 0x26146008048>"
      ]
     },
     "execution_count": 146,
     "metadata": {},
     "output_type": "execute_result"
    },
    {
     "data": {
      "image/png": "[encoded data removed]",
      "text/plain": [
       "<Figure size 432x288 with 1 Axes>"
      ]
     },
     "metadata": {
      "needs_background": "light"
     },
     "output_type": "display_data"
    }
   ],
   "source": [
    "sb.stripplot(x=\"Internal Memory\",y=\"Rating\",data=mob_data)"
   ]
  },
  {
   "cell_type": "markdown",
   "metadata": {},
   "source": [
    "<font size = \"4\" color=\"brown\">Categorical scatter plot without <font size = \"5\" color=\"green\"><b>Jittering"
   ]
  },
  {
   "cell_type": "code",
   "execution_count": 147,
   "metadata": {},
   "outputs": [
    {
     "data": {
      "text/plain": [
       "<matplotlib.axes._subplots.AxesSubplot at 0x2614606f400>"
      ]
     },
     "execution_count": 147,
     "metadata": {},
     "output_type": "execute_result"
    },
    {
     "data": {
      "image/png": "[encoded data removed]",
      "text/plain": [
       "<Figure size 432x288 with 1 Axes>"
      ]
     },
     "metadata": {
      "needs_background": "light"
     },
     "output_type": "display_data"
    }
   ],
   "source": [
    "sb.swarmplot(x=\"Internal Memory\",y=\"Rating\",data=mob_data)"
   ]
  },
  {
   "cell_type": "markdown",
   "metadata": {},
   "source": [
    "<font size = \"4\" color=\"brown\">Categorical scatter plot with <font size = \"5\" color=\"green\"><b>Jittering</font> along x axis"
   ]
  },
  {
   "cell_type": "markdown",
   "metadata": {},
   "source": [
    "# Distribution plots\n",
    "1.Distplot\n",
    "\n",
    "2.Jointplot\n",
    "\n",
    "3.pairplot\n",
    "\n"
   ]
  },
  {
   "cell_type": "code",
   "execution_count": 148,
   "metadata": {},
   "outputs": [
    {
     "data": {
      "text/plain": [
       "<matplotlib.axes._subplots.AxesSubplot at 0x26146063780>"
      ]
     },
     "execution_count": 148,
     "metadata": {},
     "output_type": "execute_result"
    },
    {
     "data": {
      "image/png": "[encoded data removed]",
      "text/plain": [
       "<Figure size 432x288 with 1 Axes>"
      ]
     },
     "metadata": {
      "needs_background": "light"
     },
     "output_type": "display_data"
    }
   ],
   "source": [
    "#kde refers density estimation,bins refers size of tabs\n",
    "sb.distplot(mob_data[\"Screen Size\"],kde=True,bins=10)"
   ]
  },
  {
   "cell_type": "code",
   "execution_count": 149,
   "metadata": {},
   "outputs": [
    {
     "data": {
      "text/plain": [
       "<seaborn.axisgrid.JointGrid at 0x261460e2a58>"
      ]
     },
     "execution_count": 149,
     "metadata": {},
     "output_type": "execute_result"
    },
    {
     "data": {
      "image/png": "[encoded data removed]",
      "text/plain": [
       "<Figure size 432x432 with 3 Axes>"
      ]
     },
     "metadata": {
      "needs_background": "light"
     },
     "output_type": "display_data"
    }
   ],
   "source": [
    "sb.jointplot(x= \"Internal Memory\",y=\"Rating\",data = mob_data,kind = \"reg\")"
   ]
  },
  {
   "cell_type": "code",
   "execution_count": 150,
   "metadata": {},
   "outputs": [
    {
     "name": "stderr",
     "output_type": "stream",
     "text": [
      "C:\\Users\\SATHISH\\Anaconda3\\lib\\site-packages\\statsmodels\\nonparametric\\kde.py:488: RuntimeWarning: invalid value encountered in true_divide\n",
      "  binned = fast_linbin(X, a, b, gridsize) / (delta * nobs)\n",
      "C:\\Users\\SATHISH\\Anaconda3\\lib\\site-packages\\statsmodels\\nonparametric\\kdetools.py:34: RuntimeWarning: invalid value encountered in double_scalars\n",
      "  FAC1 = 2*(np.pi*bw/RANGE)**2\n",
      "C:\\Users\\SATHISH\\Anaconda3\\lib\\site-packages\\numpy\\core\\_methods.py:140: RuntimeWarning: Degrees of freedom <= 0 for slice\n",
      "  keepdims=keepdims)\n",
      "C:\\Users\\SATHISH\\Anaconda3\\lib\\site-packages\\numpy\\core\\_methods.py:132: RuntimeWarning: invalid value encountered in double_scalars\n",
      "  ret = ret.dtype.type(ret / rcount)\n"
     ]
    },
    {
     "data": {
      "text/plain": [
       "<seaborn.axisgrid.PairGrid at 0x2614623d320>"
      ]
     },
     "execution_count": 150,
     "metadata": {},
     "output_type": "execute_result"
    },
    {
     "data": {
      "image/png": "[encoded data removed]",
      "text/plain": [
       "<Figure size 809.625x720 with 20 Axes>"
      ]
     },
     "metadata": {
      "needs_background": "light"
     },
     "output_type": "display_data"
    }
   ],
   "source": [
    "#pairplotiing required columns with hue \n",
    "sb.pairplot(mob_data,vars=[\"Internal Memory\",\"Weight\",\"RAM\",\"Rating\"],hue = \"OS Name\")"
   ]
  },
  {
   "cell_type": "markdown",
   "metadata": {},
   "source": [
    "<font size = 4 color = \"brown\">Correlating and Visualising data."
   ]
  },
  {
   "cell_type": "markdown",
   "metadata": {},
   "source": [
    "## Matrix Maps\n",
    "1.HeatMaps\n",
    "\n",
    "2.clusterMaps"
   ]
  },
  {
   "cell_type": "code",
   "execution_count": 151,
   "metadata": {},
   "outputs": [],
   "source": [
    "corr = mob_data.corr()"
   ]
  },
  {
   "cell_type": "code",
   "execution_count": 152,
   "metadata": {},
   "outputs": [
    {
     "data": {
      "text/html": [
       "<div>\n",
       "<style scoped>\n",
       "    .dataframe tbody tr th:only-of-type {\n",
       "        vertical-align: middle;\n",
       "    }\n",
       "\n",
       "    .dataframe tbody tr th {\n",
       "        vertical-align: top;\n",
       "    }\n",
       "\n",
       "    .dataframe thead th {\n",
       "        text-align: right;\n",
       "    }\n",
       "</style>\n",
       "<table border=\"1\" class=\"dataframe\">\n",
       "  <thead>\n",
       "    <tr style=\"text-align: right;\">\n",
       "      <th></th>\n",
       "      <th>PhoneId</th>\n",
       "      <th>Pixel Density</th>\n",
       "      <th>Screen Size</th>\n",
       "      <th>Weight</th>\n",
       "      <th>RAM</th>\n",
       "      <th>Processor_frequency</th>\n",
       "      <th>Screen to Body Ratio (calculated)</th>\n",
       "      <th>Height</th>\n",
       "      <th>Internal Memory</th>\n",
       "      <th>Capacity</th>\n",
       "      <th>Resolution</th>\n",
       "      <th>Rating</th>\n",
       "    </tr>\n",
       "  </thead>\n",
       "  <tbody>\n",
       "    <tr>\n",
       "      <th>PhoneId</th>\n",
       "      <td>1.000000</td>\n",
       "      <td>-0.086085</td>\n",
       "      <td>-0.293952</td>\n",
       "      <td>-0.091295</td>\n",
       "      <td>-0.056188</td>\n",
       "      <td>-0.327570</td>\n",
       "      <td>-0.291145</td>\n",
       "      <td>-0.258175</td>\n",
       "      <td>-0.148973</td>\n",
       "      <td>-0.193493</td>\n",
       "      <td>-0.378437</td>\n",
       "      <td>-0.372603</td>\n",
       "    </tr>\n",
       "    <tr>\n",
       "      <th>Pixel Density</th>\n",
       "      <td>-0.086085</td>\n",
       "      <td>1.000000</td>\n",
       "      <td>0.484592</td>\n",
       "      <td>0.384774</td>\n",
       "      <td>-0.209022</td>\n",
       "      <td>0.639060</td>\n",
       "      <td>0.480382</td>\n",
       "      <td>0.440141</td>\n",
       "      <td>0.428678</td>\n",
       "      <td>0.296012</td>\n",
       "      <td>0.282635</td>\n",
       "      <td>0.216119</td>\n",
       "    </tr>\n",
       "    <tr>\n",
       "      <th>Screen Size</th>\n",
       "      <td>-0.293952</td>\n",
       "      <td>0.484592</td>\n",
       "      <td>1.000000</td>\n",
       "      <td>0.550287</td>\n",
       "      <td>-0.405488</td>\n",
       "      <td>0.435525</td>\n",
       "      <td>0.930492</td>\n",
       "      <td>0.861143</td>\n",
       "      <td>0.433207</td>\n",
       "      <td>0.582681</td>\n",
       "      <td>0.472378</td>\n",
       "      <td>0.359243</td>\n",
       "    </tr>\n",
       "    <tr>\n",
       "      <th>Weight</th>\n",
       "      <td>-0.091295</td>\n",
       "      <td>0.384774</td>\n",
       "      <td>0.550287</td>\n",
       "      <td>1.000000</td>\n",
       "      <td>-0.249511</td>\n",
       "      <td>0.366023</td>\n",
       "      <td>0.438535</td>\n",
       "      <td>0.642595</td>\n",
       "      <td>0.389398</td>\n",
       "      <td>0.687891</td>\n",
       "      <td>0.231051</td>\n",
       "      <td>0.229059</td>\n",
       "    </tr>\n",
       "    <tr>\n",
       "      <th>RAM</th>\n",
       "      <td>-0.056188</td>\n",
       "      <td>-0.209022</td>\n",
       "      <td>-0.405488</td>\n",
       "      <td>-0.249511</td>\n",
       "      <td>1.000000</td>\n",
       "      <td>-0.155368</td>\n",
       "      <td>-0.328073</td>\n",
       "      <td>-0.227798</td>\n",
       "      <td>-0.098095</td>\n",
       "      <td>-0.197554</td>\n",
       "      <td>-0.074343</td>\n",
       "      <td>-0.196753</td>\n",
       "    </tr>\n",
       "    <tr>\n",
       "      <th>Processor_frequency</th>\n",
       "      <td>-0.327570</td>\n",
       "      <td>0.639060</td>\n",
       "      <td>0.435525</td>\n",
       "      <td>0.366023</td>\n",
       "      <td>-0.155368</td>\n",
       "      <td>1.000000</td>\n",
       "      <td>0.403571</td>\n",
       "      <td>0.373361</td>\n",
       "      <td>0.578258</td>\n",
       "      <td>0.196266</td>\n",
       "      <td>0.401506</td>\n",
       "      <td>0.448580</td>\n",
       "    </tr>\n",
       "    <tr>\n",
       "      <th>Screen to Body Ratio (calculated)</th>\n",
       "      <td>-0.291145</td>\n",
       "      <td>0.480382</td>\n",
       "      <td>0.930492</td>\n",
       "      <td>0.438535</td>\n",
       "      <td>-0.328073</td>\n",
       "      <td>0.403571</td>\n",
       "      <td>1.000000</td>\n",
       "      <td>0.744119</td>\n",
       "      <td>0.417565</td>\n",
       "      <td>0.470404</td>\n",
       "      <td>0.449183</td>\n",
       "      <td>0.343126</td>\n",
       "    </tr>\n",
       "    <tr>\n",
       "      <th>Height</th>\n",
       "      <td>-0.258175</td>\n",
       "      <td>0.440141</td>\n",
       "      <td>0.861143</td>\n",
       "      <td>0.642595</td>\n",
       "      <td>-0.227798</td>\n",
       "      <td>0.373361</td>\n",
       "      <td>0.744119</td>\n",
       "      <td>1.000000</td>\n",
       "      <td>0.356375</td>\n",
       "      <td>0.635365</td>\n",
       "      <td>0.469851</td>\n",
       "      <td>0.266972</td>\n",
       "    </tr>\n",
       "    <tr>\n",
       "      <th>Internal Memory</th>\n",
       "      <td>-0.148973</td>\n",
       "      <td>0.428678</td>\n",
       "      <td>0.433207</td>\n",
       "      <td>0.389398</td>\n",
       "      <td>-0.098095</td>\n",
       "      <td>0.578258</td>\n",
       "      <td>0.417565</td>\n",
       "      <td>0.356375</td>\n",
       "      <td>1.000000</td>\n",
       "      <td>0.205356</td>\n",
       "      <td>0.390868</td>\n",
       "      <td>0.355757</td>\n",
       "    </tr>\n",
       "    <tr>\n",
       "      <th>Capacity</th>\n",
       "      <td>-0.193493</td>\n",
       "      <td>0.296012</td>\n",
       "      <td>0.582681</td>\n",
       "      <td>0.687891</td>\n",
       "      <td>-0.197554</td>\n",
       "      <td>0.196266</td>\n",
       "      <td>0.470404</td>\n",
       "      <td>0.635365</td>\n",
       "      <td>0.205356</td>\n",
       "      <td>1.000000</td>\n",
       "      <td>0.240943</td>\n",
       "      <td>0.210616</td>\n",
       "    </tr>\n",
       "    <tr>\n",
       "      <th>Resolution</th>\n",
       "      <td>-0.378437</td>\n",
       "      <td>0.282635</td>\n",
       "      <td>0.472378</td>\n",
       "      <td>0.231051</td>\n",
       "      <td>-0.074343</td>\n",
       "      <td>0.401506</td>\n",
       "      <td>0.449183</td>\n",
       "      <td>0.469851</td>\n",
       "      <td>0.390868</td>\n",
       "      <td>0.240943</td>\n",
       "      <td>1.000000</td>\n",
       "      <td>0.259884</td>\n",
       "    </tr>\n",
       "    <tr>\n",
       "      <th>Rating</th>\n",
       "      <td>-0.372603</td>\n",
       "      <td>0.216119</td>\n",
       "      <td>0.359243</td>\n",
       "      <td>0.229059</td>\n",
       "      <td>-0.196753</td>\n",
       "      <td>0.448580</td>\n",
       "      <td>0.343126</td>\n",
       "      <td>0.266972</td>\n",
       "      <td>0.355757</td>\n",
       "      <td>0.210616</td>\n",
       "      <td>0.259884</td>\n",
       "      <td>1.000000</td>\n",
       "    </tr>\n",
       "  </tbody>\n",
       "</table>\n",
       "</div>"
      ],
      "text/plain": [
       "                                    PhoneId  Pixel Density  Screen Size  \\\n",
       "PhoneId                            1.000000      -0.086085    -0.293952   \n",
       "Pixel Density                     -0.086085       1.000000     0.484592   \n",
       "Screen Size                       -0.293952       0.484592     1.000000   \n",
       "Weight                            -0.091295       0.384774     0.550287   \n",
       "RAM                               -0.056188      -0.209022    -0.405488   \n",
       "Processor_frequency               -0.327570       0.639060     0.435525   \n",
       "Screen to Body Ratio (calculated) -0.291145       0.480382     0.930492   \n",
       "Height                            -0.258175       0.440141     0.861143   \n",
       "Internal Memory                   -0.148973       0.428678     0.433207   \n",
       "Capacity                          -0.193493       0.296012     0.582681   \n",
       "Resolution                        -0.378437       0.282635     0.472378   \n",
       "Rating                            -0.372603       0.216119     0.359243   \n",
       "\n",
       "                                     Weight       RAM  Processor_frequency  \\\n",
       "PhoneId                           -0.091295 -0.056188            -0.327570   \n",
       "Pixel Density                      0.384774 -0.209022             0.639060   \n",
       "Screen Size                        0.550287 -0.405488             0.435525   \n",
       "Weight                             1.000000 -0.249511             0.366023   \n",
       "RAM                               -0.249511  1.000000            -0.155368   \n",
       "Processor_frequency                0.366023 -0.155368             1.000000   \n",
       "Screen to Body Ratio (calculated)  0.438535 -0.328073             0.403571   \n",
       "Height                             0.642595 -0.227798             0.373361   \n",
       "Internal Memory                    0.389398 -0.098095             0.578258   \n",
       "Capacity                           0.687891 -0.197554             0.196266   \n",
       "Resolution                         0.231051 -0.074343             0.401506   \n",
       "Rating                             0.229059 -0.196753             0.448580   \n",
       "\n",
       "                                   Screen to Body Ratio (calculated)  \\\n",
       "PhoneId                                                    -0.291145   \n",
       "Pixel Density                                               0.480382   \n",
       "Screen Size                                                 0.930492   \n",
       "Weight                                                      0.438535   \n",
       "RAM                                                        -0.328073   \n",
       "Processor_frequency                                         0.403571   \n",
       "Screen to Body Ratio (calculated)                           1.000000   \n",
       "Height                                                      0.744119   \n",
       "Internal Memory                                             0.417565   \n",
       "Capacity                                                    0.470404   \n",
       "Resolution                                                  0.449183   \n",
       "Rating                                                      0.343126   \n",
       "\n",
       "                                     Height  Internal Memory  Capacity  \\\n",
       "PhoneId                           -0.258175        -0.148973 -0.193493   \n",
       "Pixel Density                      0.440141         0.428678  0.296012   \n",
       "Screen Size                        0.861143         0.433207  0.582681   \n",
       "Weight                             0.642595         0.389398  0.687891   \n",
       "RAM                               -0.227798        -0.098095 -0.197554   \n",
       "Processor_frequency                0.373361         0.578258  0.196266   \n",
       "Screen to Body Ratio (calculated)  0.744119         0.417565  0.470404   \n",
       "Height                             1.000000         0.356375  0.635365   \n",
       "Internal Memory                    0.356375         1.000000  0.205356   \n",
       "Capacity                           0.635365         0.205356  1.000000   \n",
       "Resolution                         0.469851         0.390868  0.240943   \n",
       "Rating                             0.266972         0.355757  0.210616   \n",
       "\n",
       "                                   Resolution    Rating  \n",
       "PhoneId                             -0.378437 -0.372603  \n",
       "Pixel Density                        0.282635  0.216119  \n",
       "Screen Size                          0.472378  0.359243  \n",
       "Weight                               0.231051  0.229059  \n",
       "RAM                                 -0.074343 -0.196753  \n",
       "Processor_frequency                  0.401506  0.448580  \n",
       "Screen to Body Ratio (calculated)    0.449183  0.343126  \n",
       "Height                               0.469851  0.266972  \n",
       "Internal Memory                      0.390868  0.355757  \n",
       "Capacity                             0.240943  0.210616  \n",
       "Resolution                           1.000000  0.259884  \n",
       "Rating                               0.259884  1.000000  "
      ]
     },
     "execution_count": 152,
     "metadata": {},
     "output_type": "execute_result"
    }
   ],
   "source": [
    "corr"
   ]
  },
  {
   "cell_type": "code",
   "execution_count": 153,
   "metadata": {},
   "outputs": [
    {
     "data": {
      "text/plain": [
       "<matplotlib.axes._subplots.AxesSubplot at 0x26146bf4c88>"
      ]
     },
     "execution_count": 153,
     "metadata": {},
     "output_type": "execute_result"
    },
    {
     "data": {
      "image/png": "[encoded data removed]",
      "text/plain": [
       "<Figure size 432x288 with 2 Axes>"
      ]
     },
     "metadata": {
      "needs_background": "light"
     },
     "output_type": "display_data"
    }
   ],
   "source": [
    "#annot = values showing inside box,fmt = \"formatting number\",linewitdth = to sepearte and show,line colour = colour of seperation)\n",
    "sb.heatmap(corr,annot = True,linewidth = 1,linecolor = \"w\")"
   ]
  },
  {
   "cell_type": "code",
   "execution_count": 154,
   "metadata": {},
   "outputs": [
    {
     "data": {
      "text/html": [
       "<div>\n",
       "<style scoped>\n",
       "    .dataframe tbody tr th:only-of-type {\n",
       "        vertical-align: middle;\n",
       "    }\n",
       "\n",
       "    .dataframe tbody tr th {\n",
       "        vertical-align: top;\n",
       "    }\n",
       "\n",
       "    .dataframe thead th {\n",
       "        text-align: right;\n",
       "    }\n",
       "</style>\n",
       "<table border=\"1\" class=\"dataframe\">\n",
       "  <thead>\n",
       "    <tr style=\"text-align: right;\">\n",
       "      <th>Internal Memory</th>\n",
       "      <th>0</th>\n",
       "      <th>4</th>\n",
       "      <th>8</th>\n",
       "      <th>16</th>\n",
       "      <th>32</th>\n",
       "      <th>64</th>\n",
       "      <th>128</th>\n",
       "      <th>256</th>\n",
       "      <th>512</th>\n",
       "    </tr>\n",
       "    <tr>\n",
       "      <th>RAM</th>\n",
       "      <th></th>\n",
       "      <th></th>\n",
       "      <th></th>\n",
       "      <th></th>\n",
       "      <th></th>\n",
       "      <th></th>\n",
       "      <th></th>\n",
       "      <th></th>\n",
       "      <th></th>\n",
       "    </tr>\n",
       "  </thead>\n",
       "  <tbody>\n",
       "    <tr>\n",
       "      <th>1</th>\n",
       "      <td>NaN</td>\n",
       "      <td>NaN</td>\n",
       "      <td>144.105263</td>\n",
       "      <td>146.666667</td>\n",
       "      <td>129.000000</td>\n",
       "      <td>NaN</td>\n",
       "      <td>NaN</td>\n",
       "      <td>NaN</td>\n",
       "      <td>NaN</td>\n",
       "    </tr>\n",
       "    <tr>\n",
       "      <th>2</th>\n",
       "      <td>NaN</td>\n",
       "      <td>NaN</td>\n",
       "      <td>NaN</td>\n",
       "      <td>153.672727</td>\n",
       "      <td>150.000000</td>\n",
       "      <td>148.000000</td>\n",
       "      <td>138.0000</td>\n",
       "      <td>NaN</td>\n",
       "      <td>NaN</td>\n",
       "    </tr>\n",
       "    <tr>\n",
       "      <th>3</th>\n",
       "      <td>161.0</td>\n",
       "      <td>NaN</td>\n",
       "      <td>150.000000</td>\n",
       "      <td>157.076923</td>\n",
       "      <td>161.458333</td>\n",
       "      <td>187.000000</td>\n",
       "      <td>191.0000</td>\n",
       "      <td>174.0</td>\n",
       "      <td>NaN</td>\n",
       "    </tr>\n",
       "    <tr>\n",
       "      <th>4</th>\n",
       "      <td>NaN</td>\n",
       "      <td>NaN</td>\n",
       "      <td>NaN</td>\n",
       "      <td>161.000000</td>\n",
       "      <td>160.913043</td>\n",
       "      <td>166.681818</td>\n",
       "      <td>163.5000</td>\n",
       "      <td>208.0</td>\n",
       "      <td>208.0</td>\n",
       "    </tr>\n",
       "    <tr>\n",
       "      <th>6</th>\n",
       "      <td>NaN</td>\n",
       "      <td>NaN</td>\n",
       "      <td>NaN</td>\n",
       "      <td>NaN</td>\n",
       "      <td>NaN</td>\n",
       "      <td>183.555556</td>\n",
       "      <td>173.5625</td>\n",
       "      <td>NaN</td>\n",
       "      <td>NaN</td>\n",
       "    </tr>\n",
       "    <tr>\n",
       "      <th>8</th>\n",
       "      <td>NaN</td>\n",
       "      <td>NaN</td>\n",
       "      <td>NaN</td>\n",
       "      <td>NaN</td>\n",
       "      <td>161.000000</td>\n",
       "      <td>197.000000</td>\n",
       "      <td>186.8000</td>\n",
       "      <td>186.5</td>\n",
       "      <td>NaN</td>\n",
       "    </tr>\n",
       "    <tr>\n",
       "      <th>16</th>\n",
       "      <td>NaN</td>\n",
       "      <td>NaN</td>\n",
       "      <td>NaN</td>\n",
       "      <td>NaN</td>\n",
       "      <td>161.000000</td>\n",
       "      <td>NaN</td>\n",
       "      <td>NaN</td>\n",
       "      <td>NaN</td>\n",
       "      <td>NaN</td>\n",
       "    </tr>\n",
       "    <tr>\n",
       "      <th>32</th>\n",
       "      <td>NaN</td>\n",
       "      <td>NaN</td>\n",
       "      <td>NaN</td>\n",
       "      <td>NaN</td>\n",
       "      <td>91.000000</td>\n",
       "      <td>NaN</td>\n",
       "      <td>NaN</td>\n",
       "      <td>NaN</td>\n",
       "      <td>NaN</td>\n",
       "    </tr>\n",
       "    <tr>\n",
       "      <th>64</th>\n",
       "      <td>NaN</td>\n",
       "      <td>NaN</td>\n",
       "      <td>NaN</td>\n",
       "      <td>NaN</td>\n",
       "      <td>105.000000</td>\n",
       "      <td>NaN</td>\n",
       "      <td>NaN</td>\n",
       "      <td>NaN</td>\n",
       "      <td>NaN</td>\n",
       "    </tr>\n",
       "    <tr>\n",
       "      <th>512</th>\n",
       "      <td>NaN</td>\n",
       "      <td>116.0</td>\n",
       "      <td>NaN</td>\n",
       "      <td>NaN</td>\n",
       "      <td>NaN</td>\n",
       "      <td>NaN</td>\n",
       "      <td>NaN</td>\n",
       "      <td>NaN</td>\n",
       "      <td>NaN</td>\n",
       "    </tr>\n",
       "  </tbody>\n",
       "</table>\n",
       "</div>"
      ],
      "text/plain": [
       "Internal Memory    0      4           8           16          32          64   \\\n",
       "RAM                                                                             \n",
       "1                  NaN    NaN  144.105263  146.666667  129.000000         NaN   \n",
       "2                  NaN    NaN         NaN  153.672727  150.000000  148.000000   \n",
       "3                161.0    NaN  150.000000  157.076923  161.458333  187.000000   \n",
       "4                  NaN    NaN         NaN  161.000000  160.913043  166.681818   \n",
       "6                  NaN    NaN         NaN         NaN         NaN  183.555556   \n",
       "8                  NaN    NaN         NaN         NaN  161.000000  197.000000   \n",
       "16                 NaN    NaN         NaN         NaN  161.000000         NaN   \n",
       "32                 NaN    NaN         NaN         NaN   91.000000         NaN   \n",
       "64                 NaN    NaN         NaN         NaN  105.000000         NaN   \n",
       "512                NaN  116.0         NaN         NaN         NaN         NaN   \n",
       "\n",
       "Internal Memory       128    256    512  \n",
       "RAM                                      \n",
       "1                     NaN    NaN    NaN  \n",
       "2                138.0000    NaN    NaN  \n",
       "3                191.0000  174.0    NaN  \n",
       "4                163.5000  208.0  208.0  \n",
       "6                173.5625    NaN    NaN  \n",
       "8                186.8000  186.5    NaN  \n",
       "16                    NaN    NaN    NaN  \n",
       "32                    NaN    NaN    NaN  \n",
       "64                    NaN    NaN    NaN  \n",
       "512                   NaN    NaN    NaN  "
      ]
     },
     "execution_count": 154,
     "metadata": {},
     "output_type": "execute_result"
    }
   ],
   "source": [
    "#pivot table(value = \"must be numerical\")\n",
    "mob_data.pivot_table(values = \"Weight\",index = \"RAM\",columns = \"Internal Memory\")"
   ]
  },
  {
   "cell_type": "code",
   "execution_count": 155,
   "metadata": {},
   "outputs": [
    {
     "data": {
      "text/plain": [
       "<seaborn.matrix.ClusterGrid at 0x261473ee4a8>"
      ]
     },
     "execution_count": 155,
     "metadata": {},
     "output_type": "execute_result"
    },
    {
     "data": {
      "image/png": "[encoded data removed]",
      "text/plain": [
       "<Figure size 720x720 with 4 Axes>"
      ]
     },
     "metadata": {
      "needs_background": "light"
     },
     "output_type": "display_data"
    }
   ],
   "source": [
    "sb.clustermap(corr,standard_scale=.5)"
   ]
  },
  {
   "cell_type": "markdown",
   "metadata": {},
   "source": [
    "<font color = \"brown\" size= 4>Pandas Inbuilt Graphs"
   ]
  },
  {
   "cell_type": "code",
   "execution_count": 168,
   "metadata": {},
   "outputs": [
    {
     "data": {
      "text/plain": [
       "<matplotlib.axes._subplots.AxesSubplot at 0x26144e5aba8>"
      ]
     },
     "execution_count": 168,
     "metadata": {},
     "output_type": "execute_result"
    },
    {
     "data": {
      "image/png": "[encoded data removed]",
      "text/plain": [
       "<Figure size 432x288 with 1 Axes>"
      ]
     },
     "metadata": {
      "needs_background": "light"
     },
     "output_type": "display_data"
    }
   ],
   "source": [
    "mob_data.plot.hist()"
   ]
  },
  {
   "cell_type": "markdown",
   "metadata": {},
   "source": [
    "<font color = \"brown\" size = 4>From this we can conclude many users opt rating in 4 - 4.5."
   ]
  },
  {
   "cell_type": "code",
   "execution_count": 157,
   "metadata": {},
   "outputs": [
    {
     "data": {
      "text/plain": [
       "<matplotlib.axes._subplots.AxesSubplot at 0x261479d1860>"
      ]
     },
     "execution_count": 157,
     "metadata": {},
     "output_type": "execute_result"
    },
    {
     "data": {
      "image/png": "[encoded data removed]",
      "text/plain": [
       "<Figure size 432x288 with 1 Axes>"
      ]
     },
     "metadata": {
      "needs_background": "light"
     },
     "output_type": "display_data"
    }
   ],
   "source": [
    "mob_data[\"Internal Memory\"].hist()"
   ]
  },
  {
   "cell_type": "markdown",
   "metadata": {},
   "source": [
    "<font color = \"brown\" size = 4>From this we can coclude many phones have memory in range 0 to 50"
   ]
  },
  {
   "cell_type": "code",
   "execution_count": 158,
   "metadata": {},
   "outputs": [
    {
     "data": {
      "text/plain": [
       "<matplotlib.axes._subplots.AxesSubplot at 0x26148a119b0>"
      ]
     },
     "execution_count": 158,
     "metadata": {},
     "output_type": "execute_result"
    },
    {
     "data": {
      "image/png": "[encoded data removed]",
      "text/plain": [
       "<Figure size 432x288 with 1 Axes>"
      ]
     },
     "metadata": {
      "needs_background": "light"
     },
     "output_type": "display_data"
    }
   ],
   "source": [
    "#alpha represents transparency\n",
    "mob_data.plot.area(alpha=0.2)"
   ]
  },
  {
   "cell_type": "code",
   "execution_count": 159,
   "metadata": {},
   "outputs": [
    {
     "data": {
      "text/plain": [
       "<matplotlib.axes._subplots.AxesSubplot at 0x26148aa5cf8>"
      ]
     },
     "execution_count": 159,
     "metadata": {},
     "output_type": "execute_result"
    },
    {
     "data": {
      "image/png": "[encoded data removed]",
      "text/plain": [
       "<Figure size 432x288 with 1 Axes>"
      ]
     },
     "metadata": {
      "needs_background": "light"
     },
     "output_type": "display_data"
    }
   ],
   "source": [
    "mob_data.plot.bar()"
   ]
  },
  {
   "cell_type": "code",
   "execution_count": 160,
   "metadata": {},
   "outputs": [
    {
     "data": {
      "text/plain": [
       "<matplotlib.axes._subplots.AxesSubplot at 0x2614ad2a7b8>"
      ]
     },
     "execution_count": 160,
     "metadata": {},
     "output_type": "execute_result"
    },
    {
     "data": {
      "image/png": "[encoded data removed]",
      "text/plain": [
       "<Figure size 432x288 with 2 Axes>"
      ]
     },
     "metadata": {
      "needs_background": "light"
     },
     "output_type": "display_data"
    }
   ],
   "source": [
    "mob_data.plot.scatter(x= \"Rating\",y=\"Internal Memory\",c= \"RAM\",cmap = \"viridis\")"
   ]
  },
  {
   "cell_type": "markdown",
   "metadata": {},
   "source": [
    " <font color = \"brown\" size = 4>From this we can conclude that if <b><font color = \"green\">RAM,Internal Memory</b></font> increases <b><font color = \"green\" size =4>Rating</b></font> also increses</font>"
   ]
  },
  {
   "cell_type": "code",
   "execution_count": 161,
   "metadata": {},
   "outputs": [],
   "source": [
    "df = pd.DataFrame(np.random.randn(1000,2),columns = list(\"ab\"))\n"
   ]
  },
  {
   "cell_type": "code",
   "execution_count": 162,
   "metadata": {},
   "outputs": [
    {
     "data": {
      "text/plain": [
       "<matplotlib.axes._subplots.AxesSubplot at 0x2614c3df908>"
      ]
     },
     "execution_count": 162,
     "metadata": {},
     "output_type": "execute_result"
    },
    {
     "data": {
      "image/png": "[encoded data removed]",
      "text/plain": [
       "<Figure size 432x288 with 2 Axes>"
      ]
     },
     "metadata": {
      "needs_background": "light"
     },
     "output_type": "display_data"
    }
   ],
   "source": [
    "df.plot.hexbin(x=\"a\",y=\"b\",gridsize=15)"
   ]
  },
  {
   "cell_type": "markdown",
   "metadata": {},
   "source": [
    "\n",
    "<font color =\"brown\" size=4>From this we conclude most random value lie in same range.."
   ]
  },
  {
   "cell_type": "code",
   "execution_count": 163,
   "metadata": {},
   "outputs": [],
   "source": [
    "#using seed not to change random values\n",
    "np.random.seed(5)"
   ]
  },
  {
   "cell_type": "code",
   "execution_count": 164,
   "metadata": {},
   "outputs": [],
   "source": [
    "#creating a random np array\n",
    "x=np.arange(0.0,50,2)"
   ]
  },
  {
   "cell_type": "code",
   "execution_count": 165,
   "metadata": {},
   "outputs": [],
   "source": [
    "y = x**1.3+np.random.rand(*x.shape)*20"
   ]
  },
  {
   "cell_type": "code",
   "execution_count": 166,
   "metadata": {},
   "outputs": [],
   "source": [
    "s= np.random.rand(*x.shape)*800+500"
   ]
  },
  {
   "cell_type": "code",
   "execution_count": 167,
   "metadata": {},
   "outputs": [
    {
     "data": {
      "text/plain": [
       "<matplotlib.legend.Legend at 0x2614c898da0>"
      ]
     },
     "execution_count": 167,
     "metadata": {},
     "output_type": "execute_result"
    },
    {
     "data": {
      "image/png": "[encoded data removed]",
      "text/plain": [
       "<Figure size 432x288 with 1 Axes>"
      ]
     },
     "metadata": {
      "needs_background": "light"
     },
     "output_type": "display_data"
    }
   ],
   "source": [
    "pyp.scatter(x,y,s,c=\"g\",alpha=0.9,marker = r'$\\diamondsuit$',label=\"Luck\")\n",
    "pyp.xlabel(\"Leprechauns\")\n",
    "pyp.ylabel(\"GOld\")\n",
    "pyp.legend(loc=\"upper left\")"
   ]
  },
  {
   "cell_type": "markdown",
   "metadata": {},
   "source": [
    " <h1><center><font color = \"Red\" size = 7> ** THANK YOU **"
   ]
  },
  {
   "cell_type": "markdown",
   "metadata": {},
   "source": [
    "<h3 align = \"right\"><font color = \"Blue\" size = 5>-- M Sathishkumar --"
   ]
  },
  {
   "cell_type": "code",
   "execution_count": null,
   "metadata": {},
   "outputs": [],
   "source": []
  }
 ],
 "metadata": {
  "kernelspec": {
   "display_name": "Python 3",
   "language": "python",
   "name": "python3"
  },
  "language_info": {
   "codemirror_mode": {
    "name": "ipython",
    "version": 3
   },
   "file_extension": ".py",
   "mimetype": "text/x-python",
   "name": "python",
   "nbconvert_exporter": "python",
   "pygments_lexer": "ipython3",
   "version": "3.7.3"
  }
 },
 "nbformat": 4,
 "nbformat_minor": 2
}
